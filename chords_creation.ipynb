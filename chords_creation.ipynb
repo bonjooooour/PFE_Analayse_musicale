{
 "cells": [
  {
   "cell_type": "code",
   "execution_count": 6,
   "metadata": {},
   "outputs": [
    {
     "data": {
      "text/plain": [
       "' \\nThis scripts permits the creation of all kind of chords artificialy\\nTo use it first start by \"pip install mingus\" on your env\\n'"
      ]
     },
     "execution_count": 6,
     "metadata": {},
     "output_type": "execute_result"
    }
   ],
   "source": [
    "\"\"\" \n",
    "This scripts permits the creation of all kind of chords artificialy\n",
    "To use it first start by \"pip install mingus\" on your env\n",
    "\"\"\""
   ]
  },
  {
   "cell_type": "code",
   "execution_count": 2,
   "metadata": {},
   "outputs": [],
   "source": [
    "from mingus.core import chords\n",
    "from mingus.containers import NoteContainer\n",
    "from mingus.midi import midi_file_out as MidiFileOut"
   ]
  },
  {
   "cell_type": "code",
   "execution_count": 3,
   "metadata": {},
   "outputs": [],
   "source": [
    "list_notes = ['C','C#','Db','D','D#','Eb','E','F','F#','Gb','G','G#','Ab','A','A#','Bb','B'] # Will be the tonic of ecah chords combination\n",
    "list_type_chords3sounds = ['maj','min', 'aug', 'dim', 'sus2', 'sus4']"
   ]
  },
  {
   "cell_type": "code",
   "execution_count": 4,
   "metadata": {},
   "outputs": [
    {
     "data": {
      "text/plain": [
       "102"
      ]
     },
     "execution_count": 4,
     "metadata": {},
     "output_type": "execute_result"
    }
   ],
   "source": [
    "# Creation of all the combinaison of combination of 3 sounds chords\n",
    "\n",
    "chords3sounds = []\n",
    "\n",
    "for notes in list_notes:\n",
    "    for type in list_type_chords3sounds:\n",
    "        chords3sounds.append(notes+type)\n",
    "\n",
    "len(chords3sounds) "
   ]
  },
  {
   "cell_type": "code",
   "execution_count": 5,
   "metadata": {},
   "outputs": [],
   "source": [
    "# Get the 3 notes of each chords\n",
    "\n",
    "compo_chords3sounds = {}\n",
    "\n",
    "for item in chords3sounds:\n",
    "    compo_chords3sounds[item] = chords.from_shorthand(item)"
   ]
  },
  {
   "cell_type": "code",
   "execution_count": 6,
   "metadata": {},
   "outputs": [
    {
     "data": {
      "text/plain": [
       "['A', 'C#', 'E']"
      ]
     },
     "execution_count": 6,
     "metadata": {},
     "output_type": "execute_result"
    }
   ],
   "source": [
    "chords.from_shorthand('Amaj')"
   ]
  },
  {
   "cell_type": "code",
   "execution_count": 14,
   "metadata": {},
   "outputs": [
    {
     "name": "stdout",
     "output_type": "stream",
     "text": [
      "[['Caug', 'Ebmin', 'Gbsus2'], ['Gbdim', 'Ebdim', 'Csus2'], ['Csus2', 'Dmin', 'Asus4'], ['Dbsus4', 'Eaug', 'Csus4'], ['D#dim', 'F#sus4', 'Ebsus2'], ['Ebsus4', 'Csus4', 'Dbmin'], ['F#sus4', 'Abdim', 'C#dim'], ['Dbmaj', 'Dbmin', 'Daug'], ['Dbdim', 'F#min', 'Emin'], ['Gbmaj', 'D#sus2', 'Amin'], ['A#aug', 'F#aug', 'Ebmin'], ['Bsus4', 'Fmin', 'F#maj'], ['Amaj', 'Csus4', 'Csus4'], ['Cdim', 'Bbsus4', 'Bsus4'], ['Edim', 'Gbsus2', 'A#dim'], ['D#aug', 'Dsus2', 'Dbmin'], ['F#maj', 'Cdim', 'Bbsus4'], ['Gbdim', 'A#sus2', 'Abmin'], ['A#sus2', 'Dsus4', 'Eaug'], ['Abaug', 'Gbsus2', 'Dbsus2'], ['D#dim', 'Absus4', 'Dbaug'], ['A#maj', 'D#min', 'Asus2'], ['Gbaug', 'Emin', 'F#dim'], ['C#aug', 'Gaug', 'Gsus2'], ['D#sus2', 'Emaj', 'C#maj'], ['G#aug', 'Cdim', 'D#sus2'], ['D#aug', 'D#sus2', 'Abdim'], ['G#maj', 'Dbmaj', 'Abmin'], ['F#aug', 'Dbaug', 'Fmin'], ['Dmin', 'F#min', 'Dsus2'], ['Asus2', 'Aaug', 'A#min'], ['F#aug', 'Bbsus4', 'F#aug'], ['F#min', 'Dbaug', 'A#maj'], ['Csus4', 'Amin', 'C#sus2'], ['Gsus4', 'Abdim', 'Bbsus4'], ['Abmin', 'G#maj', 'F#dim'], ['Ebdim', 'Ebaug', 'Absus4'], ['F#min', 'Bbaug', 'Edim'], ['Dmin', 'Cdim', 'Bdim'], ['Gbsus2', 'Ebsus4', 'Fsus2'], ['Amin', 'Gbmin', 'Gbaug'], ['D#aug', 'Gsus4', 'Emin'], ['G#dim', 'Cmin', 'Bdim'], ['A#dim', 'Esus2', 'Absus4'], ['Dsus4', 'Fmin', 'Daug'], ['Abdim', 'Gmaj', 'D#maj'], ['Daug', 'Adim', 'Amin'], ['Ebsus2', 'Csus2', 'A#maj'], ['Esus4', 'Bdim', 'Abmaj'], ['G#min', 'Bbaug', 'Baug'], ['Fmaj', 'Gbdim', 'Ebaug'], ['Bbmaj', 'A#maj', 'A#dim'], ['Bbaug', 'Abaug', 'Cmin'], ['G#dim', 'G#sus4', 'Gbmaj'], ['G#aug', 'Cdim', 'Gaug'], ['Ebsus4', 'Adim', 'Amaj'], ['D#maj', 'Fdim', 'A#dim'], ['A#maj', 'Gaug', 'Dbmaj'], ['Gsus2', 'F#dim', 'Bmin'], ['Fmin', 'Emaj', 'G#min'], ['D#dim', 'Ebmin', 'Bbsus2'], ['Emin', 'Caug', 'Fsus4'], ['Bsus4', 'Fmin', 'Bmaj'], ['Cdim', 'Baug', 'Fsus4'], ['Bsus2', 'Gmin', 'Amin'], ['Daug', 'Dsus2', 'C#dim'], ['Esus4', 'A#min', 'Asus4'], ['Fmin', 'Bmaj', 'F#maj'], ['Faug', 'Caug', 'G#aug'], ['Fsus2', 'C#maj', 'A#maj'], ['Ebsus4', 'Bmin', 'Bbaug'], ['Gbsus2', 'F#dim', 'D#maj'], ['Gbmin', 'F#aug', 'F#aug'], ['Ddim', 'Bsus2', 'C#dim'], ['F#dim', 'Fmin', 'Dsus4'], ['D#dim', 'Bsus2', 'Ebmaj'], ['Csus4', 'F#sus2', 'F#min'], ['Dmaj', 'D#min', 'C#min'], ['Bbdim', 'Csus2', 'D#dim'], ['G#aug', 'Fmin', 'A#dim'], ['Gbaug', 'Absus2', 'Bbmin'], ['Gmin', 'Baug', 'Ddim'], ['Bbmaj', 'Emin', 'D#sus2'], ['Gbmaj', 'Ebaug', 'Dbmin'], ['F#dim', 'Dbmin', 'A#sus2'], ['Caug', 'Edim', 'Bdim'], ['C#maj', 'Bbmaj', 'Dbsus2'], ['Bbsus2', 'D#sus2', 'Gmin'], ['Cdim', 'Edim', 'Esus4'], ['Csus4', 'F#maj', 'F#sus4'], ['Dbsus4', 'Dsus4', 'Absus2'], ['Ebaug', 'C#maj', 'F#sus2'], ['Dbsus4', 'Bmaj', 'Dbsus2'], ['Dmaj', 'Bmaj', 'Ddim'], ['Abmaj', 'Gbmin', 'Gbmin'], ['Ebaug', 'Dsus4', 'Gbmin'], ['Fmin', 'C#sus2', 'F#sus4'], ['Esus2', 'Eaug', 'A#sus4'], ['Dsus4', 'C#sus4', 'Dbaug'], ['F#dim', 'Ebaug', 'Cdim'], ['Ebsus4', 'Ddim', 'Ebsus4'], ['Emin', 'Ebmin', 'Emaj']]\n"
     ]
    }
   ],
   "source": [
    "import random\n",
    "\n",
    "nombre_de_progressions = 102\n",
    "progressions = []\n",
    "\n",
    "for _ in range(nombre_de_progressions):\n",
    "    longueur_progression = 3  # Par exemple, une progression de 4 accords\n",
    "    prog = [random.choice(chords3sounds) for _ in range(longueur_progression)]\n",
    "    progressions.append(prog)\n",
    "\n",
    "print(progressions)"
   ]
  },
  {
   "cell_type": "code",
   "execution_count": 11,
   "metadata": {},
   "outputs": [
    {
     "data": {
      "text/plain": [
       "102"
      ]
     },
     "execution_count": 11,
     "metadata": {},
     "output_type": "execute_result"
    }
   ],
   "source": [
    "# Creation of midi files of each chords\n",
    "\n",
    "note_container_3sounds = []\n",
    "\n",
    "for i in range(len(chords3sounds)):\n",
    "    n = NoteContainer()\n",
    "    n.add_notes([compo_chords3sounds[chords3sounds[i]][0],compo_chords3sounds[chords3sounds[i]][1],compo_chords3sounds[chords3sounds[i]][2]])\n",
    "    note_container_3sounds.append(n)\n",
    "    MidiFileOut.write_NoteContainer(\"chords_midi/\" + chords3sounds[i]+\".mid\", n)\n",
    "\n",
    "len(note_container_3sounds)"
   ]
  }
 ],
 "metadata": {
  "kernelspec": {
   "display_name": "myenv",
   "language": "python",
   "name": "python3"
  },
  "language_info": {
   "codemirror_mode": {
    "name": "ipython",
    "version": 3
   },
   "file_extension": ".py",
   "mimetype": "text/x-python",
   "name": "python",
   "nbconvert_exporter": "python",
   "pygments_lexer": "ipython3",
   "version": "3.10.11"
  },
  "orig_nbformat": 4
 },
 "nbformat": 4,
 "nbformat_minor": 2
}
