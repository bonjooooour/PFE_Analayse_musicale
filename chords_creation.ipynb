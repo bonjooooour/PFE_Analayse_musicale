{
 "cells": [
  {
   "cell_type": "code",
   "execution_count": 1,
   "metadata": {},
   "outputs": [
    {
     "data": {
      "text/plain": [
       "' \\nThis scripts permits the creation of all kind of chords artificialy\\nTo use it first start by \"pip install mingus\" on your env\\n'"
      ]
     },
     "execution_count": 1,
     "metadata": {},
     "output_type": "execute_result"
    }
   ],
   "source": [
    "\"\"\" \n",
    "This scripts permits the creation of all kind of chords artificialy\n",
    "To use it first start by \"pip install mingus\" on your env\n",
    "\"\"\""
   ]
  },
  {
   "cell_type": "code",
   "execution_count": 2,
   "metadata": {},
   "outputs": [],
   "source": [
    "from mingus.core import chords\n",
    "from mingus.containers import NoteContainer\n",
    "from mingus.midi import midi_file_out as MidiFileOut"
   ]
  },
  {
   "cell_type": "code",
   "execution_count": 3,
   "metadata": {},
   "outputs": [],
   "source": [
    "list_notes = ['C','C#','Db','D','D#','Eb','E','F','F#','Gb','G','G#','Ab','A','A#','Bb','B'] # Will be the tonic of ecah chords combination\n",
    "list_type_chords3sounds = ['maj','min', 'aug', 'dim', 'sus2', 'sus4']"
   ]
  },
  {
   "cell_type": "code",
   "execution_count": 4,
   "metadata": {},
   "outputs": [
    {
     "data": {
      "text/plain": [
       "102"
      ]
     },
     "execution_count": 4,
     "metadata": {},
     "output_type": "execute_result"
    }
   ],
   "source": [
    "# Creation of all the combinaison of combination of 3 sounds chords\n",
    "\n",
    "chords3sounds = []\n",
    "\n",
    "for notes in list_notes:\n",
    "    for type in list_type_chords3sounds:\n",
    "        chords3sounds.append(notes+type)\n",
    "\n",
    "len(chords3sounds) "
   ]
  },
  {
   "cell_type": "code",
   "execution_count": 5,
   "metadata": {},
   "outputs": [],
   "source": [
    "# Get the 3 notes of each chords\n",
    "\n",
    "compo_chords3sounds = {}\n",
    "\n",
    "for item in chords3sounds:\n",
    "    compo_chords3sounds[item] = chords.from_shorthand(item)"
   ]
  },
  {
   "cell_type": "code",
   "execution_count": 6,
   "metadata": {},
   "outputs": [
    {
     "data": {
      "text/plain": [
       "['A', 'C#', 'E']"
      ]
     },
     "execution_count": 6,
     "metadata": {},
     "output_type": "execute_result"
    }
   ],
   "source": [
    "chords.from_shorthand('Amaj')"
   ]
  },
  {
   "cell_type": "code",
   "execution_count": 7,
   "metadata": {},
   "outputs": [
    {
     "name": "stdout",
     "output_type": "stream",
     "text": [
      "[['Asus4', 'A#min', 'Adim'], ['Cdim', 'Cmin', 'Fmin'], ['Gaug', 'Ddim', 'Cmin'], ['Baug', 'F#maj', 'Esus2'], ['Esus4', 'Abmin', 'Bbsus2'], ['Faug', 'Amaj', 'Dbsus4'], ['Bbmaj', 'Faug', 'A#sus4'], ['Abdim', 'G#sus4', 'Daug'], ['Abmin', 'F#sus2', 'F#sus2'], ['Ebmaj', 'Bbmin', 'F#dim'], ['Abdim', 'Cmin', 'Cmin'], ['Daug', 'Gbsus4', 'Absus2'], ['D#sus4', 'Abaug', 'C#maj'], ['Dmin', 'D#dim', 'Baug'], ['Gbmaj', 'D#sus4', 'Fsus2'], ['Abmin', 'Amaj', 'Emin'], ['Dmin', 'Fsus2', 'Caug'], ['D#aug', 'Csus4', 'Ebsus2'], ['A#dim', 'Gmaj', 'Emin'], ['D#maj', 'A#min', 'Gsus2'], ['Dbsus2', 'D#dim', 'D#dim'], ['Emin', 'Gmin', 'Faug'], ['D#sus4', 'C#maj', 'Fmaj'], ['Asus4', 'Eaug', 'Ebdim'], ['Fmin', 'Dmaj', 'Gaug'], ['Fdim', 'Ebdim', 'Fmin'], ['D#sus2', 'G#aug', 'Dbaug'], ['Bmin', 'G#maj', 'Abaug'], ['G#min', 'Cmin', 'Dbsus2'], ['Fsus4', 'F#aug', 'A#sus2'], ['Fmin', 'Dbsus2', 'Gbmin'], ['Gdim', 'Eaug', 'Ebmin'], ['C#sus4', 'G#sus2', 'Asus4'], ['Bbmaj', 'Adim', 'G#sus4'], ['Bbaug', 'Bmaj', 'Gdim'], ['G#aug', 'Gsus4', 'Ebmaj'], ['Aaug', 'Gsus2', 'Ddim'], ['Cdim', 'F#dim', 'Dmin'], ['Gmin', 'G#sus4', 'Gbsus4'], ['Gmaj', 'Bbsus4', 'G#sus2'], ['Fmin', 'Cdim', 'A#maj'], ['A#dim', 'Fmin', 'G#min'], ['Aaug', 'Esus4', 'Bdim'], ['Bbsus4', 'Bbaug', 'C#sus2'], ['Dbaug', 'Bbsus2', 'Bbsus4'], ['Daug', 'Dbdim', 'Ebsus2'], ['Csus2', 'Gsus2', 'Asus2'], ['G#dim', 'Aaug', 'Gmin'], ['Eaug', 'F#maj', 'Gbsus4'], ['Dbmin', 'Dsus4', 'Bbsus2'], ['Dbmin', 'Gbdim', 'Bbdim'], ['F#sus4', 'Fsus4', 'Caug'], ['Emaj', 'F#min', 'Gbmin'], ['Gdim', 'Daug', 'Faug'], ['Dbaug', 'Caug', 'Bdim'], ['Gaug', 'Abdim', 'Faug'], ['C#maj', 'Bsus4', 'Gbsus2'], ['Bmaj', 'Faug', 'D#dim'], ['Cdim', 'Csus2', 'Fsus4'], ['Gdim', 'Fsus2', 'G#sus2'], ['Bdim', 'Cmin', 'Bmin'], ['Fsus2', 'Fsus4', 'Amin'], ['Gdim', 'C#sus2', 'Asus4'], ['Bbsus4', 'Emin', 'Ebmin'], ['Fsus4', 'A#dim', 'Ebaug'], ['D#aug', 'Abmaj', 'C#sus2'], ['Bbdim', 'Gsus4', 'Ebsus4'], ['D#maj', 'Gbdim', 'G#sus4'], ['Abaug', 'Gsus2', 'Gsus4'], ['Eaug', 'Ddim', 'D#maj'], ['Ebmin', 'Bbmin', 'Abmin'], ['Dbmin', 'G#min', 'A#sus4'], ['Bbdim', 'C#maj', 'Ebmin'], ['Bmaj', 'C#maj', 'Bbaug'], ['Caug', 'Bmaj', 'Dsus4'], ['A#min', 'A#aug', 'F#sus4'], ['Bdim', 'Dbsus4', 'C#sus4'], ['Absus2', 'Dbdim', 'Emaj'], ['A#aug', 'Cmin', 'A#sus2'], ['G#min', 'Gdim', 'Dbmaj'], ['D#dim', 'G#dim', 'Ddim'], ['Dsus2', 'F#aug', 'Csus4'], ['F#aug', 'Abmaj', 'Ebmaj'], ['Gbsus4', 'C#min', 'Emin'], ['Gsus4', 'Dbmaj', 'Ebsus2'], ['A#min', 'A#sus4', 'Dbmin'], ['F#maj', 'Dbdim', 'Dbdim'], ['Fmaj', 'Gdim', 'Fdim'], ['Csus4', 'G#dim', 'Faug'], ['G#sus4', 'Absus2', 'Dbmaj'], ['Bdim', 'A#maj', 'D#dim'], ['Dmin', 'F#min', 'Fsus2'], ['C#sus2', 'Esus2', 'Ddim'], ['Faug', 'Esus4', 'Cmin'], ['C#dim', 'Emin', 'Bbdim'], ['Asus4', 'Gbdim', 'A#maj'], ['Absus4', 'Cdim', 'Abmaj'], ['Fmaj', 'Cdim', 'Bsus4'], ['F#min', 'C#min', 'Gbmin'], ['D#aug', 'Dbsus4', 'Faug'], ['Cmin', 'Bbmaj', 'Bsus4'], ['C#min', 'G#min', 'Bsus4']]\n"
     ]
    }
   ],
   "source": [
    "import random\n",
    "\n",
    "nombre_de_progressions = 102\n",
    "progressions = []\n",
    "\n",
    "for _ in range(nombre_de_progressions):\n",
    "    longueur_progression = 3  # Par exemple, une progression de 4 accords\n",
    "    prog = [random.choice(chords3sounds) for _ in range(longueur_progression)]\n",
    "    progressions.append(prog)\n",
    "\n",
    "print(progressions)"
   ]
  },
  {
   "cell_type": "code",
   "execution_count": 8,
   "metadata": {},
   "outputs": [],
   "source": [
    "# Get the 3 notes of each chords\n",
    "\n",
    "compo_prog_chords3sounds = {}\n",
    "\n",
    "for i in range(len(progressions)):\n",
    "    prog = str(progressions[i])\n",
    "    compo_prog_chords3sounds[prog] = chords.from_shorthand(progressions[i])"
   ]
  },
  {
   "cell_type": "code",
   "execution_count": 9,
   "metadata": {},
   "outputs": [
    {
     "data": {
      "text/plain": [
       "'A#'"
      ]
     },
     "execution_count": 9,
     "metadata": {},
     "output_type": "execute_result"
    }
   ],
   "source": [
    "compo_prog_chords3sounds[str(progressions[0])][1][0]"
   ]
  },
  {
   "cell_type": "code",
   "execution_count": 12,
   "metadata": {},
   "outputs": [
    {
     "data": {
      "text/plain": [
       "102"
      ]
     },
     "execution_count": 12,
     "metadata": {},
     "output_type": "execute_result"
    }
   ],
   "source": [
    "# Creation of midi files of each chords\n",
    "\n",
    "note_container_3sounds = []\n",
    "\n",
    "for i in range(len(chords3sounds)):\n",
    "    n = NoteContainer()\n",
    "    n.add_notes([compo_chords3sounds[chords3sounds[i]][0],compo_chords3sounds[chords3sounds[i]][1],compo_chords3sounds[chords3sounds[i]][2]])\n",
    "    note_container_3sounds.append(n)\n",
    "    MidiFileOut.write_NoteContainer(\"chords_midi/\" + chords3sounds[i]+\".mid\",n)\n",
    "\n",
    "len(note_container_3sounds)"
   ]
  },
  {
   "cell_type": "code",
   "execution_count": null,
   "metadata": {},
   "outputs": [
    {
     "data": {
      "text/plain": [
       "['Gbdim', 'Cdim', 'Bmin']"
      ]
     },
     "execution_count": 54,
     "metadata": {},
     "output_type": "execute_result"
    }
   ],
   "source": [
    "progressions[2]"
   ]
  },
  {
   "cell_type": "code",
   "execution_count": 69,
   "metadata": {},
   "outputs": [
    {
     "data": {
      "text/plain": [
       "(['A', 'D', 'E', 'A#', 'C#', 'E#', 'A', 'C', 'Eb'], ['Asus4', 'A#min', 'Adim'])"
      ]
     },
     "execution_count": 69,
     "metadata": {},
     "output_type": "execute_result"
    }
   ],
   "source": [
    "notes = []\n",
    "for j in range(3):\n",
    "    note1 = compo_prog_chords3sounds[str(progressions[0])][j][0]\n",
    "    note2 = compo_prog_chords3sounds[str(progressions[0])][j][1]\n",
    "    note3 = compo_prog_chords3sounds[str(progressions[0])][j][2]\n",
    "    notes.append(note1)\n",
    "    notes.append(note2)\n",
    "    notes.append(note3)\n",
    "\n",
    "notes,progressions[0]"
   ]
  },
  {
   "cell_type": "code",
   "execution_count": 21,
   "metadata": {},
   "outputs": [
    {
     "data": {
      "text/plain": [
       "True"
      ]
     },
     "execution_count": 21,
     "metadata": {},
     "output_type": "execute_result"
    }
   ],
   "source": [
    "note_container_3sounds_prog = []\n",
    "\n",
    "for i in range(len(progressions)):\n",
    "    n = NoteContainer()\n",
    "    for j in range(longueur_progression):\n",
    "      \n",
    "     \n",
    "        \n",
    "        note_container_3sounds_prog.append(n)\n",
    "MidiFileOut.write_NoteContainer(str(progressions[0])+\".mid\",n)       \n",
    "\n",
    "    "
   ]
  }
 ],
 "metadata": {
  "kernelspec": {
   "display_name": "myenv",
   "language": "python",
   "name": "python3"
  },
  "language_info": {
   "codemirror_mode": {
    "name": "ipython",
    "version": 3
   },
   "file_extension": ".py",
   "mimetype": "text/x-python",
   "name": "python",
   "nbconvert_exporter": "python",
   "pygments_lexer": "ipython3",
   "version": "3.10.11"
  },
  "orig_nbformat": 4
 },
 "nbformat": 4,
 "nbformat_minor": 2
}
