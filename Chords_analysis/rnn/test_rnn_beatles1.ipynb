{
 "cells": [
  {
   "cell_type": "code",
   "execution_count": 1,
   "metadata": {},
   "outputs": [],
   "source": [
    "import sqlite3\n",
    "import pandas as pd\n",
    "import numpy as np\n",
    "import re\n",
    "import tensorflow as tf\n",
    "from tensorflow import keras\n",
    "from sklearn.model_selection import train_test_split\n",
    "from tensorflow.keras.layers import Embedding, SpatialDropout1D, Bidirectional, LSTM, Dense"
   ]
  },
  {
   "cell_type": "code",
   "execution_count": 2,
   "metadata": {},
   "outputs": [],
   "source": [
    "nom_base_de_donnees = \"ma_base_de_donnees.db\"\n",
    "\n",
    "colonne1 = \"Good_chords\"\n",
    "colonne2 = \"notes\"\n",
    "\n",
    "df = pd.DataFrame()\n",
    "\n",
    "# Connexion à la base de données\n",
    "connexion = sqlite3.connect(nom_base_de_donnees)\n",
    "\n",
    "# Liste des tables disponibles dans la base de données\n",
    "tables_query = \"SELECT name FROM sqlite_master WHERE type='table';\"\n",
    "tables = pd.read_sql_query(tables_query, connexion)['name']\n",
    "\n",
    "for nom_table in tables:\n",
    "    requete_sql = f\"SELECT {colonne1}, {colonne2} FROM \\\"{nom_table}\\\"\"\n",
    "    table_df = pd.read_sql_query(requete_sql, connexion)\n",
    "\n",
    "    df = pd.concat([df, table_df], ignore_index=True)\n",
    "\n",
    "# Fermeture de la connexion\n",
    "connexion.close()\n"
   ]
  },
  {
   "cell_type": "code",
   "execution_count": 3,
   "metadata": {},
   "outputs": [
    {
     "data": {
      "text/html": [
       "<div>\n",
       "<style scoped>\n",
       "    .dataframe tbody tr th:only-of-type {\n",
       "        vertical-align: middle;\n",
       "    }\n",
       "\n",
       "    .dataframe tbody tr th {\n",
       "        vertical-align: top;\n",
       "    }\n",
       "\n",
       "    .dataframe thead th {\n",
       "        text-align: right;\n",
       "    }\n",
       "</style>\n",
       "<table border=\"1\" class=\"dataframe\">\n",
       "  <thead>\n",
       "    <tr style=\"text-align: right;\">\n",
       "      <th></th>\n",
       "      <th>Good_chords</th>\n",
       "      <th>notes</th>\n",
       "    </tr>\n",
       "  </thead>\n",
       "  <tbody>\n",
       "    <tr>\n",
       "      <th>0</th>\n",
       "      <td>NM</td>\n",
       "      <td>nan</td>\n",
       "    </tr>\n",
       "    <tr>\n",
       "      <th>1</th>\n",
       "      <td>EM</td>\n",
       "      <td>['E','G#','B']</td>\n",
       "    </tr>\n",
       "    <tr>\n",
       "      <th>2</th>\n",
       "      <td>AM</td>\n",
       "      <td>['A','C#','E']</td>\n",
       "    </tr>\n",
       "    <tr>\n",
       "      <th>3</th>\n",
       "      <td>EM</td>\n",
       "      <td>['E','G#','B']</td>\n",
       "    </tr>\n",
       "    <tr>\n",
       "      <th>4</th>\n",
       "      <td>BM</td>\n",
       "      <td>['B','D#','F#']</td>\n",
       "    </tr>\n",
       "    <tr>\n",
       "      <th>...</th>\n",
       "      <td>...</td>\n",
       "      <td>...</td>\n",
       "    </tr>\n",
       "    <tr>\n",
       "      <th>1006</th>\n",
       "      <td>AM</td>\n",
       "      <td>['A','C#','E']</td>\n",
       "    </tr>\n",
       "    <tr>\n",
       "      <th>1007</th>\n",
       "      <td>AM</td>\n",
       "      <td>['A','C#','E']</td>\n",
       "    </tr>\n",
       "    <tr>\n",
       "      <th>1008</th>\n",
       "      <td>DM</td>\n",
       "      <td>['D','F#','A']</td>\n",
       "    </tr>\n",
       "    <tr>\n",
       "      <th>1009</th>\n",
       "      <td>D9</td>\n",
       "      <td>['D','F#','A','C','E']</td>\n",
       "    </tr>\n",
       "    <tr>\n",
       "      <th>1010</th>\n",
       "      <td>NM</td>\n",
       "      <td>nan</td>\n",
       "    </tr>\n",
       "  </tbody>\n",
       "</table>\n",
       "<p>1011 rows × 2 columns</p>\n",
       "</div>"
      ],
      "text/plain": [
       "     Good_chords                   notes\n",
       "0             NM                     nan\n",
       "1             EM          ['E','G#','B']\n",
       "2             AM          ['A','C#','E']\n",
       "3             EM          ['E','G#','B']\n",
       "4             BM         ['B','D#','F#']\n",
       "...          ...                     ...\n",
       "1006          AM          ['A','C#','E']\n",
       "1007          AM          ['A','C#','E']\n",
       "1008          DM          ['D','F#','A']\n",
       "1009          D9  ['D','F#','A','C','E']\n",
       "1010          NM                     nan\n",
       "\n",
       "[1011 rows x 2 columns]"
      ]
     },
     "execution_count": 3,
     "metadata": {},
     "output_type": "execute_result"
    }
   ],
   "source": [
    "df['notes'] = df['notes'].str.replace(' ','')\n",
    "df"
   ]
  },
  {
   "cell_type": "code",
   "execution_count": 4,
   "metadata": {},
   "outputs": [
    {
     "name": "stdout",
     "output_type": "stream",
     "text": [
      "Shape of X: (1011, 25)\n"
     ]
    }
   ],
   "source": [
    "long = []\n",
    "\n",
    "for val in df['notes']:\n",
    "    long.append(len(val))\n",
    "\n",
    "# La variable max_features devrait contenir la longueur maximale de vos séquences, pas la valeur maximale des longueurs\n",
    "max_sequence_length = np.max(long)\n",
    "max_features = 10\n",
    "\n",
    "tokenizer = tf.keras.preprocessing.text.Tokenizer(num_words=10, split=',')\n",
    "tokenizer.fit_on_texts(df['notes'].values)\n",
    "X = tokenizer.texts_to_sequences(df['notes'].values)\n",
    "\n",
    "# Ajoutez la spécification de la longueur maximale de la séquence (input_length) ici\n",
    "X = tf.keras.preprocessing.sequence.pad_sequences(X, maxlen=max_sequence_length)\n",
    "\n",
    "# Affichez la forme de X pour voir la longueur maximale\n",
    "print(\"Shape of X:\", X.shape)\n"
   ]
  },
  {
   "cell_type": "code",
   "execution_count": 5,
   "metadata": {},
   "outputs": [
    {
     "data": {
      "text/plain": [
       "25"
      ]
     },
     "execution_count": 5,
     "metadata": {},
     "output_type": "execute_result"
    }
   ],
   "source": [
    "max_sequence_length"
   ]
  },
  {
   "cell_type": "code",
   "execution_count": 6,
   "metadata": {},
   "outputs": [
    {
     "data": {
      "text/plain": [
       "array([[False, False, False, ..., False, False,  True],\n",
       "       [False, False, False, ..., False, False, False],\n",
       "       [False,  True, False, ..., False, False, False],\n",
       "       ...,\n",
       "       [False, False, False, ..., False, False, False],\n",
       "       [False, False, False, ..., False, False, False],\n",
       "       [False, False, False, ..., False, False,  True]])"
      ]
     },
     "execution_count": 6,
     "metadata": {},
     "output_type": "execute_result"
    }
   ],
   "source": [
    "nb_classe = len(np.unique(df['Good_chords']))\n",
    "classes = np.unique(df['Good_chords'])\n",
    "Y = pd.get_dummies(df['Good_chords'])\n",
    "Y = Y.values\n",
    "Y"
   ]
  },
  {
   "cell_type": "code",
   "execution_count": 7,
   "metadata": {},
   "outputs": [
    {
     "data": {
      "text/plain": [
       "array(['A7', 'AM', 'Amaj7', 'Amaj7/E', 'Amin', 'Amin/C', 'B7', 'BM',\n",
       "       'Bb7', 'BbM', 'Bmaj6', 'Bmin', 'C#7', 'C#min', 'C#min/G#', 'CM',\n",
       "       'Cmin6', 'D9', 'DM', 'DM/E', 'DM/F#', 'E7', 'E7/G#', 'E9', 'EM',\n",
       "       'Eaug', 'Eb7', 'Eb9', 'EbM', 'Ebmin', 'Emaj7', 'Emin', 'F#9',\n",
       "       'F#M', 'F#min', 'F#min7', 'F#minmaj7', 'F9', 'FM', 'G#M', 'G#min',\n",
       "       'G#min7', 'GM', 'Gmin', 'NM'], dtype=object)"
      ]
     },
     "execution_count": 7,
     "metadata": {},
     "output_type": "execute_result"
    }
   ],
   "source": [
    "classes"
   ]
  },
  {
   "cell_type": "code",
   "execution_count": 8,
   "metadata": {},
   "outputs": [
    {
     "name": "stdout",
     "output_type": "stream",
     "text": [
      "(677, 25) (677, 45)\n",
      "(334, 25) (334, 45)\n"
     ]
    }
   ],
   "source": [
    "X_train, X_test, Y_train, Y_test = train_test_split(X, Y, test_size = 0.33, random_state = 42)\n",
    "print(X_train.shape, Y_train.shape)\n",
    "print(X_test.shape, Y_test.shape)"
   ]
  },
  {
   "cell_type": "code",
   "execution_count": 21,
   "metadata": {},
   "outputs": [],
   "source": [
    "embed_dim = 256\n",
    "lstm_out = 196\n",
    "\n",
    "model = tf.keras.Sequential()\n",
    "model.add(tf.keras.layers.Embedding(max_features, embed_dim, input_length = X.shape[1]))\n",
    "model.add(tf.keras.layers.SpatialDropout1D(0.4))\n",
    "model.add(tf.keras.layers.Bidirectional(tf.keras.layers.LSTM(lstm_out, dropout=0.05, recurrent_dropout=0.2)))\n",
    "model.add(tf.keras.layers.Dense(nb_classe, activation='softmax'))\n",
    "model.compile(loss = 'categorical_crossentropy', optimizer='adam', metrics = ['accuracy'])"
   ]
  },
  {
   "cell_type": "code",
   "execution_count": 9,
   "metadata": {},
   "outputs": [],
   "source": [
    "embed_dim = 147\n",
    "lstm_out = 196\n",
    "\n",
    "model2 = tf.keras.Sequential()\n",
    "model2.add(tf.keras.layers.Embedding(max_features, embed_dim, input_length = X.shape[1]))\n",
    "model2.add(tf.keras.layers.SpatialDropout1D(0.4))\n",
    "model2.add(tf.keras.layers.Bidirectional(tf.keras.layers.LSTM(lstm_out, dropout=0.05, recurrent_dropout=0.2)))\n",
    "model2.add(tf.keras.layers.Dense(nb_classe, activation='softmax'))\n",
    "model2.compile(loss = 'categorical_crossentropy', optimizer='adam', metrics = ['accuracy'])"
   ]
  },
  {
   "cell_type": "code",
   "execution_count": 10,
   "metadata": {},
   "outputs": [],
   "source": [
    "embed_dim = 147\n",
    "lstm_out = 98\n",
    "\n",
    "model2_2 = tf.keras.Sequential()\n",
    "model2_2.add(tf.keras.layers.Embedding(max_features, embed_dim, input_length = X.shape[1]))\n",
    "model2_2.add(tf.keras.layers.SpatialDropout1D(0.4))\n",
    "model2_2.add(tf.keras.layers.Bidirectional(tf.keras.layers.LSTM(lstm_out, dropout=0.05, recurrent_dropout=0.2)))\n",
    "model2_2.add(tf.keras.layers.Dense(nb_classe, activation='softmax'))\n",
    "model2_2.compile(loss = 'categorical_crossentropy', optimizer='adam', metrics = ['accuracy'])"
   ]
  },
  {
   "cell_type": "code",
   "execution_count": 11,
   "metadata": {},
   "outputs": [],
   "source": [
    "embed_dim = 147\n",
    "lstm_out = 49\n",
    "\n",
    "model2_3 = tf.keras.Sequential()\n",
    "model2_3.add(tf.keras.layers.Embedding(max_features, embed_dim, input_length = X.shape[1]))\n",
    "model2_3.add(tf.keras.layers.SpatialDropout1D(0.4))\n",
    "model2_3.add(tf.keras.layers.Bidirectional(tf.keras.layers.LSTM(lstm_out, dropout=0.05, recurrent_dropout=0.2)))\n",
    "model2_3.add(tf.keras.layers.Dense(nb_classe, activation='softmax'))\n",
    "model2_3.compile(loss = 'categorical_crossentropy', optimizer='adam', metrics = ['accuracy'])"
   ]
  },
  {
   "cell_type": "code",
   "execution_count": 32,
   "metadata": {},
   "outputs": [],
   "source": [
    "embed_dim = 147\n",
    "lstm_out1 = 196\n",
    "lstm_out2 = 50\n",
    "\n",
    "model2_4 = tf.keras.Sequential()\n",
    "model2_4.add(tf.keras.layers.Embedding(max_features, embed_dim, input_length = X.shape[1]))\n",
    "model2_4.add(tf.keras.layers.SpatialDropout1D(0.4))\n",
    "model2_4.add(tf.keras.layers.Bidirectional(tf.keras.layers.LSTM(lstm_out1, dropout=0.05, recurrent_dropout=0.2, return_sequences=True)))\n",
    "model2_4.add(tf.keras.layers.Bidirectional(tf.keras.layers.LSTM(lstm_out1, dropout=0.05, recurrent_dropout=0.2)))\n",
    "model2_4.add(tf.keras.layers.Dense(nb_classe, activation='softmax'))\n",
    "model2_4.compile(loss = 'categorical_crossentropy', optimizer='adam', metrics = ['accuracy'])"
   ]
  },
  {
   "cell_type": "code",
   "execution_count": 23,
   "metadata": {},
   "outputs": [],
   "source": [
    "embed_dim = 12\n",
    "lstm_out = 196\n",
    "\n",
    "model3 = tf.keras.Sequential()\n",
    "model3.add(tf.keras.layers.Embedding(max_features, embed_dim, input_length = X.shape[1]))\n",
    "model3.add(tf.keras.layers.SpatialDropout1D(0.4))\n",
    "model3.add(tf.keras.layers.Bidirectional(tf.keras.layers.LSTM(lstm_out, dropout=0.05, recurrent_dropout=0.2)))\n",
    "model3.add(tf.keras.layers.Dense(nb_classe, activation='softmax'))\n",
    "model3.compile(loss = 'categorical_crossentropy', optimizer='adam', metrics = ['accuracy'])"
   ]
  },
  {
   "cell_type": "code",
   "execution_count": 24,
   "metadata": {},
   "outputs": [],
   "source": [
    "embed_dim = 73\n",
    "lstm_out = 196\n",
    "\n",
    "model4 = tf.keras.Sequential()\n",
    "model4.add(tf.keras.layers.Embedding(max_features, embed_dim, input_length = X.shape[1]))\n",
    "model4.add(tf.keras.layers.SpatialDropout1D(0.4))\n",
    "model4.add(tf.keras.layers.Bidirectional(tf.keras.layers.LSTM(lstm_out, dropout=0.05, recurrent_dropout=0.2)))\n",
    "model4.add(tf.keras.layers.Dense(nb_classe, activation='softmax'))\n",
    "model4.compile(loss = 'categorical_crossentropy', optimizer='adam', metrics = ['accuracy'])"
   ]
  },
  {
   "cell_type": "code",
   "execution_count": 25,
   "metadata": {},
   "outputs": [],
   "source": [
    "embed_dim = 24\n",
    "lstm_out = 196\n",
    "\n",
    "model5 = tf.keras.Sequential()\n",
    "model5.add(tf.keras.layers.Embedding(max_features, embed_dim, input_length = X.shape[1]))\n",
    "model5.add(tf.keras.layers.SpatialDropout1D(0.4))\n",
    "model5.add(tf.keras.layers.Bidirectional(tf.keras.layers.LSTM(lstm_out, dropout=0.05, recurrent_dropout=0.2)))\n",
    "model5.add(tf.keras.layers.Dense(nb_classe, activation='softmax'))\n",
    "model5.compile(loss = 'categorical_crossentropy', optimizer='adam', metrics = ['accuracy'])"
   ]
  },
  {
   "cell_type": "code",
   "execution_count": 83,
   "metadata": {},
   "outputs": [],
   "source": [
    "from tensorflow.keras.models import Sequential\n",
    "from tensorflow.keras.layers import Embedding, SpatialDropout1D, Bidirectional, LSTM, Dense, SimpleRNN,Input\n",
    "\n",
    "lstm_out=10\n",
    "\n",
    "model6 = Sequential([\n",
    "    Input(shape=[None,1]),\n",
    "    Bidirectional(tf.keras.layers.LSTM(lstm_out, dropout=0.05, recurrent_dropout=0)),\n",
    "    Dense(nb_classe, activation=\"softmax\"),\n",
    "])\n",
    "model6.compile(loss='categorical_crossentropy', optimizer='rmsprop',metrics = ['accuracy'])"
   ]
  },
  {
   "cell_type": "code",
   "execution_count": null,
   "metadata": {},
   "outputs": [],
   "source": [
    "history = model.fit(X_train, Y_train, epochs=20,validation_split=0.3)"
   ]
  },
  {
   "cell_type": "code",
   "execution_count": null,
   "metadata": {},
   "outputs": [],
   "source": [
    "history2 = model2.fit(X_train, Y_train, epochs=20,validation_split=0.3)\n",
    "history2_2 = model2_2.fit(X_train, Y_train, epochs=20,validation_split=0.3)\n",
    "history2_3 = model2_3.fit(X_train, Y_train, epochs=20,validation_split=0.3)"
   ]
  },
  {
   "cell_type": "code",
   "execution_count": null,
   "metadata": {},
   "outputs": [],
   "source": [
    "history2_4 = model2_4.fit(X_train, Y_train, epochs=20,validation_split=0.3)"
   ]
  },
  {
   "cell_type": "code",
   "execution_count": 29,
   "metadata": {},
   "outputs": [
    {
     "ename": "NameError",
     "evalue": "name 'model3' is not defined",
     "output_type": "error",
     "traceback": [
      "\u001b[1;31m---------------------------------------------------------------------------\u001b[0m",
      "\u001b[1;31mNameError\u001b[0m                                 Traceback (most recent call last)",
      "Cell \u001b[1;32mIn[29], line 1\u001b[0m\n\u001b[1;32m----> 1\u001b[0m history3 \u001b[38;5;241m=\u001b[39m \u001b[43mmodel3\u001b[49m\u001b[38;5;241m.\u001b[39mfit(X_train, Y_train, epochs\u001b[38;5;241m=\u001b[39m\u001b[38;5;241m20\u001b[39m,validation_split\u001b[38;5;241m=\u001b[39m\u001b[38;5;241m0.3\u001b[39m)\n",
      "\u001b[1;31mNameError\u001b[0m: name 'model3' is not defined"
     ]
    }
   ],
   "source": [
    "history3 = model3.fit(X_train, Y_train, epochs=20,validation_split=0.3)"
   ]
  },
  {
   "cell_type": "code",
   "execution_count": null,
   "metadata": {},
   "outputs": [],
   "source": [
    "history4 = model4.fit(X_train, Y_train, epochs=20,validation_split=0.3)"
   ]
  },
  {
   "cell_type": "code",
   "execution_count": null,
   "metadata": {},
   "outputs": [],
   "source": [
    "history5 = model5.fit(X_train, Y_train, epochs=20,validation_split=0.3)"
   ]
  },
  {
   "cell_type": "code",
   "execution_count": 84,
   "metadata": {},
   "outputs": [
    {
     "name": "stdout",
     "output_type": "stream",
     "text": [
      "Epoch 1/20\n",
      "15/15 [==============================] - 6s 90ms/step - loss: 3.8026 - accuracy: 0.0063 - val_loss: 3.7662 - val_accuracy: 0.0000e+00\n",
      "Epoch 2/20\n",
      "15/15 [==============================] - 0s 13ms/step - loss: 3.7174 - accuracy: 0.0317 - val_loss: 3.6846 - val_accuracy: 0.0245\n",
      "Epoch 3/20\n",
      "15/15 [==============================] - 0s 15ms/step - loss: 3.6202 - accuracy: 0.0423 - val_loss: 3.5837 - val_accuracy: 0.0000e+00\n",
      "Epoch 4/20\n",
      "15/15 [==============================] - 0s 18ms/step - loss: 3.4919 - accuracy: 0.0148 - val_loss: 3.4450 - val_accuracy: 0.0588\n",
      "Epoch 5/20\n",
      "15/15 [==============================] - 0s 17ms/step - loss: 3.3122 - accuracy: 0.0951 - val_loss: 3.2722 - val_accuracy: 0.0490\n",
      "Epoch 6/20\n",
      "15/15 [==============================] - 0s 16ms/step - loss: 3.1197 - accuracy: 0.1205 - val_loss: 3.1366 - val_accuracy: 0.0490\n",
      "Epoch 7/20\n",
      "15/15 [==============================] - 0s 21ms/step - loss: 2.9876 - accuracy: 0.1205 - val_loss: 3.0551 - val_accuracy: 0.0490\n",
      "Epoch 8/20\n",
      "15/15 [==============================] - 0s 19ms/step - loss: 2.9143 - accuracy: 0.1205 - val_loss: 3.0066 - val_accuracy: 0.0490\n",
      "Epoch 9/20\n",
      "15/15 [==============================] - 0s 17ms/step - loss: 2.8646 - accuracy: 0.2220 - val_loss: 2.9743 - val_accuracy: 0.1716\n",
      "Epoch 10/20\n",
      "15/15 [==============================] - 0s 19ms/step - loss: 2.8355 - accuracy: 0.2537 - val_loss: 2.9475 - val_accuracy: 0.1225\n",
      "Epoch 11/20\n",
      "15/15 [==============================] - 0s 16ms/step - loss: 2.8136 - accuracy: 0.1607 - val_loss: 2.9280 - val_accuracy: 0.1225\n",
      "Epoch 12/20\n",
      "15/15 [==============================] - 0s 16ms/step - loss: 2.7918 - accuracy: 0.1543 - val_loss: 2.9110 - val_accuracy: 0.1225\n",
      "Epoch 13/20\n",
      "15/15 [==============================] - 0s 17ms/step - loss: 2.7769 - accuracy: 0.1564 - val_loss: 2.8986 - val_accuracy: 0.1225\n",
      "Epoch 14/20\n",
      "15/15 [==============================] - 0s 16ms/step - loss: 2.7606 - accuracy: 0.1797 - val_loss: 2.8837 - val_accuracy: 0.1225\n",
      "Epoch 15/20\n",
      "15/15 [==============================] - 0s 18ms/step - loss: 2.7428 - accuracy: 0.1712 - val_loss: 2.8709 - val_accuracy: 0.2500\n",
      "Epoch 16/20\n",
      "15/15 [==============================] - 0s 16ms/step - loss: 2.7301 - accuracy: 0.2474 - val_loss: 2.8597 - val_accuracy: 0.1225\n",
      "Epoch 17/20\n",
      "15/15 [==============================] - 0s 17ms/step - loss: 2.7166 - accuracy: 0.1818 - val_loss: 2.8475 - val_accuracy: 0.2745\n",
      "Epoch 18/20\n",
      "15/15 [==============================] - 0s 16ms/step - loss: 2.6996 - accuracy: 0.2854 - val_loss: 2.8370 - val_accuracy: 0.1471\n",
      "Epoch 19/20\n",
      "15/15 [==============================] - 0s 17ms/step - loss: 2.6816 - accuracy: 0.2918 - val_loss: 2.8227 - val_accuracy: 0.2745\n",
      "Epoch 20/20\n",
      "15/15 [==============================] - 0s 14ms/step - loss: 2.6631 - accuracy: 0.2727 - val_loss: 2.8093 - val_accuracy: 0.2745\n"
     ]
    }
   ],
   "source": [
    "history6 = model6.fit(X_train, Y_train, epochs=20,validation_split=0.3)"
   ]
  },
  {
   "cell_type": "code",
   "execution_count": 30,
   "metadata": {},
   "outputs": [
    {
     "name": "stdout",
     "output_type": "stream",
     "text": [
      "6/6 - 0s - loss: 0.4083 - accuracy: 0.9491 - 229ms/epoch - 38ms/step\n",
      "score: 0.41\n",
      "acc: 0.95\n"
     ]
    }
   ],
   "source": [
    "score, acc = model.evaluate(X_test, Y_test, verbose=2, batch_size=64)\n",
    "print(\"score: %.2f\" % (score))\n",
    "print(\"acc: %.2f\" % (acc))"
   ]
  },
  {
   "cell_type": "code",
   "execution_count": 13,
   "metadata": {},
   "outputs": [
    {
     "name": "stdout",
     "output_type": "stream",
     "text": [
      "6/6 - 0s - loss: 0.4701 - accuracy: 0.9581 - 206ms/epoch - 34ms/step\n",
      "score: 0.47\n",
      "acc: 0.96\n",
      "6/6 - 0s - loss: 0.4920 - accuracy: 0.9341 - 106ms/epoch - 18ms/step\n",
      "score: 0.49\n",
      "acc: 0.93\n",
      "6/6 - 0s - loss: 0.7064 - accuracy: 0.9042 - 91ms/epoch - 15ms/step\n",
      "score: 0.71\n",
      "acc: 0.90\n"
     ]
    }
   ],
   "source": [
    "score, acc = model2.evaluate(X_test, Y_test, verbose=2, batch_size=64)\n",
    "print(\"score: %.2f\" % (score))\n",
    "print(\"acc: %.2f\" % (acc))\n",
    "\n",
    "score, acc = model2_2.evaluate(X_test, Y_test, verbose=2, batch_size=64)\n",
    "print(\"score: %.2f\" % (score))\n",
    "print(\"acc: %.2f\" % (acc))\n",
    "\n",
    "score, acc = model2_3.evaluate(X_test, Y_test, verbose=2, batch_size=64)\n",
    "print(\"score: %.2f\" % (score))\n",
    "print(\"acc: %.2f\" % (acc))"
   ]
  },
  {
   "cell_type": "code",
   "execution_count": 34,
   "metadata": {},
   "outputs": [
    {
     "name": "stdout",
     "output_type": "stream",
     "text": [
      "6/6 - 2s - loss: 0.4456 - accuracy: 0.9461 - 2s/epoch - 273ms/step\n",
      "score: 0.45\n",
      "acc: 0.95\n"
     ]
    }
   ],
   "source": [
    "score, acc = model2_4.evaluate(X_test, Y_test, verbose=2, batch_size=64)\n",
    "print(\"score: %.2f\" % (score))\n",
    "print(\"acc: %.2f\" % (acc))\n"
   ]
  },
  {
   "cell_type": "code",
   "execution_count": 32,
   "metadata": {},
   "outputs": [
    {
     "name": "stdout",
     "output_type": "stream",
     "text": [
      "6/6 - 0s - loss: 0.7817 - accuracy: 0.8922 - 131ms/epoch - 22ms/step\n",
      "score: 0.78\n",
      "acc: 0.89\n"
     ]
    }
   ],
   "source": [
    "score, acc = model3.evaluate(X_test, Y_test, verbose=2, batch_size=64)\n",
    "print(\"score: %.2f\" % (score))\n",
    "print(\"acc: %.2f\" % (acc))"
   ]
  },
  {
   "cell_type": "code",
   "execution_count": 33,
   "metadata": {},
   "outputs": [
    {
     "name": "stdout",
     "output_type": "stream",
     "text": [
      "6/6 - 0s - loss: 0.5724 - accuracy: 0.9222 - 144ms/epoch - 24ms/step\n",
      "score: 0.57\n",
      "acc: 0.92\n"
     ]
    }
   ],
   "source": [
    "score, acc = model4.evaluate(X_test, Y_test, verbose=2, batch_size=64)\n",
    "print(\"score: %.2f\" % (score))\n",
    "print(\"acc: %.2f\" % (acc))"
   ]
  },
  {
   "cell_type": "code",
   "execution_count": 37,
   "metadata": {},
   "outputs": [
    {
     "name": "stdout",
     "output_type": "stream",
     "text": [
      "6/6 - 0s - loss: 0.7507 - accuracy: 0.8383 - 138ms/epoch - 23ms/step\n",
      "score: 0.75\n",
      "acc: 0.84\n"
     ]
    }
   ],
   "source": [
    "score, acc = model5.evaluate(X_test, Y_test, verbose=2, batch_size=64)\n",
    "print(\"score: %.2f\" % (score))\n",
    "print(\"acc: %.2f\" % (acc))"
   ]
  },
  {
   "cell_type": "code",
   "execution_count": 81,
   "metadata": {},
   "outputs": [
    {
     "ename": "NameError",
     "evalue": "name 'history' is not defined",
     "output_type": "error",
     "traceback": [
      "\u001b[1;31m---------------------------------------------------------------------------\u001b[0m",
      "\u001b[1;31mNameError\u001b[0m                                 Traceback (most recent call last)",
      "Cell \u001b[1;32mIn[81], line 7\u001b[0m\n\u001b[0;32m      4\u001b[0m fig, axs \u001b[38;5;241m=\u001b[39m plt\u001b[38;5;241m.\u001b[39msubplots(\u001b[38;5;241m1\u001b[39m, \u001b[38;5;241m2\u001b[39m, figsize\u001b[38;5;241m=\u001b[39m(\u001b[38;5;241m12\u001b[39m, \u001b[38;5;241m4\u001b[39m))  \u001b[38;5;66;03m# Ajustez la taille de la figure selon vos besoins\u001b[39;00m\n\u001b[0;32m      6\u001b[0m \u001b[38;5;66;03m# Premier sous-graphique (précisez le nombre d'époques dans 'range(len(history1['accuracy']))')\u001b[39;00m\n\u001b[1;32m----> 7\u001b[0m axs[\u001b[38;5;241m0\u001b[39m]\u001b[38;5;241m.\u001b[39mplot(\u001b[38;5;28mrange\u001b[39m(\u001b[38;5;28mlen\u001b[39m(\u001b[43mhistory\u001b[49m\u001b[38;5;241m.\u001b[39mhistory[\u001b[38;5;124m'\u001b[39m\u001b[38;5;124maccuracy\u001b[39m\u001b[38;5;124m'\u001b[39m])), history\u001b[38;5;241m.\u001b[39mhistory[\u001b[38;5;124m'\u001b[39m\u001b[38;5;124maccuracy\u001b[39m\u001b[38;5;124m'\u001b[39m], color\u001b[38;5;241m=\u001b[39m\u001b[38;5;124m'\u001b[39m\u001b[38;5;124mr\u001b[39m\u001b[38;5;124m'\u001b[39m)\n\u001b[0;32m      8\u001b[0m axs[\u001b[38;5;241m0\u001b[39m]\u001b[38;5;241m.\u001b[39mplot(\u001b[38;5;28mrange\u001b[39m(\u001b[38;5;28mlen\u001b[39m(history\u001b[38;5;241m.\u001b[39mhistory[\u001b[38;5;124m'\u001b[39m\u001b[38;5;124mval_accuracy\u001b[39m\u001b[38;5;124m'\u001b[39m])), history\u001b[38;5;241m.\u001b[39mhistory[\u001b[38;5;124m'\u001b[39m\u001b[38;5;124mval_accuracy\u001b[39m\u001b[38;5;124m'\u001b[39m],linestyle\u001b[38;5;241m=\u001b[39m\u001b[38;5;124m'\u001b[39m\u001b[38;5;124m--\u001b[39m\u001b[38;5;124m'\u001b[39m, color\u001b[38;5;241m=\u001b[39m\u001b[38;5;124m'\u001b[39m\u001b[38;5;124mr\u001b[39m\u001b[38;5;124m'\u001b[39m, alpha\u001b[38;5;241m=\u001b[39m\u001b[38;5;241m0.5\u001b[39m)\n\u001b[0;32m      9\u001b[0m axs[\u001b[38;5;241m0\u001b[39m]\u001b[38;5;241m.\u001b[39mplot(\u001b[38;5;28mrange\u001b[39m(\u001b[38;5;28mlen\u001b[39m(history2\u001b[38;5;241m.\u001b[39mhistory[\u001b[38;5;124m'\u001b[39m\u001b[38;5;124maccuracy\u001b[39m\u001b[38;5;124m'\u001b[39m])), history2\u001b[38;5;241m.\u001b[39mhistory[\u001b[38;5;124m'\u001b[39m\u001b[38;5;124maccuracy\u001b[39m\u001b[38;5;124m'\u001b[39m], label\u001b[38;5;241m=\u001b[39m\u001b[38;5;124m'\u001b[39m\u001b[38;5;124mtrain\u001b[39m\u001b[38;5;124m'\u001b[39m,color\u001b[38;5;241m=\u001b[39m\u001b[38;5;124m'\u001b[39m\u001b[38;5;124mb\u001b[39m\u001b[38;5;124m'\u001b[39m)\n",
      "\u001b[1;31mNameError\u001b[0m: name 'history' is not defined"
     ]
    },
    {
     "data": {
      "image/png": "[encoded data removed]",
      "text/plain": [
       "<Figure size 1200x400 with 2 Axes>"
      ]
     },
     "metadata": {},
     "output_type": "display_data"
    }
   ],
   "source": [
    "import matplotlib.pyplot as plt\n",
    "\n",
    "# Créez une figure avec une grille de sous-graphiques 1x2\n",
    "fig, axs = plt.subplots(1, 2, figsize=(12, 4))  # Ajustez la taille de la figure selon vos besoins\n",
    "\n",
    "# Premier sous-graphique (précisez le nombre d'époques dans 'range(len(history1['accuracy']))')\n",
    "axs[0].plot(range(len(history.history['accuracy'])), history.history['accuracy'], color='r')\n",
    "axs[0].plot(range(len(history.history['val_accuracy'])), history.history['val_accuracy'],linestyle='--', color='r', alpha=0.5)\n",
    "axs[0].plot(range(len(history2.history['accuracy'])), history2.history['accuracy'], label='train',color='b')\n",
    "axs[0].plot(range(len(history2.history['val_accuracy'])), history2.history['val_accuracy'],linestyle='--', color='b', alpha=0.5)\n",
    "axs[0].plot(range(len(history3.history['accuracy'])), history3.history['accuracy'], color='g')\n",
    "axs[0].plot(range(len(history3.history['val_accuracy'])), history3.history['val_accuracy'], linestyle='--', color='g', alpha=0.5)\n",
    "axs[0].plot(range(len(history4.history['accuracy'])), history4.history['accuracy'],color='y')\n",
    "axs[0].plot(range(len(history4.history['val_accuracy'])), history4.history['val_accuracy'], linestyle='--', color='y', alpha=0.5)\n",
    "\n",
    "axs[0].set_title('Model Accuracy')\n",
    "axs[0].set_ylabel('Accuracy')\n",
    "axs[0].set_xlabel('Epoch')\n",
    "\n",
    "\n",
    "axs[1].plot(range(len(history.history['loss'])), history.history['loss'], label='train 295',color='r')\n",
    "axs[1].plot(range(len(history.history['val_loss'])), history.history['val_loss'], label='validation',linestyle='--', color='r', alpha=0.5)\n",
    "axs[1].plot(range(len(history2.history['loss'])), history2.history['loss'], label='train 147',color='b')\n",
    "axs[1].plot(range(len(history2.history['val_loss'])), history2.history['val_loss'], label='validation',linestyle='--', color='b', alpha=0.5)\n",
    "axs[1].plot(range(len(history3.history['loss'])), history3.history['loss'], label='train 12',color='g')\n",
    "axs[1].plot(range(len(history3.history['val_loss'])), history3.history['val_loss'], label='validation',linestyle='--', color='g', alpha=0.5)\n",
    "axs[1].plot(range(len(history4.history['loss'])), history4.history['loss'], label='train 73',color='y')\n",
    "axs[1].plot(range(len(history4.history['val_loss'])), history4.history['val_loss'], label='validation',linestyle='--', color='y', alpha=0.5)\n",
    "axs[1].plot(range(len(history5.history['loss'])), history5.history['loss'], label='train 24',color='c')\n",
    "axs[1].plot(range(len(history5.history['val_loss'])), history5.history['val_loss'], label='validation',linestyle='--', color='c', alpha=0.5)\n",
    "\n",
    "axs[1].set_title('Model Loss')\n",
    "axs[1].set_ylabel('Loss')\n",
    "axs[1].set_xlabel('Epoch')\n",
    "axs[1].legend(loc='upper left')\n",
    "\n",
    "# Ajustez l'espacement entre les sous-graphiques\n",
    "plt.tight_layout()\n",
    "\n",
    "axs.flatten()[-1].legend(loc='upper left', bbox_to_anchor=(1, 1))\n",
    "\n",
    "# Affichez la figure\n",
    "plt.show()\n"
   ]
  },
  {
   "cell_type": "code",
   "execution_count": 37,
   "metadata": {},
   "outputs": [
    {
     "data": {
      "image/png": "[encoded data removed]",
      "text/plain": [
       "<Figure size 1200x400 with 2 Axes>"
      ]
     },
     "metadata": {},
     "output_type": "display_data"
    }
   ],
   "source": [
    "import matplotlib.pyplot as plt\n",
    "\n",
    "# Créez une figure avec une grille de sous-graphiques 1x2\n",
    "fig, axs = plt.subplots(1, 2, figsize=(12, 4))  # Ajustez la taille de la figure selon vos besoins\n",
    "\n",
    "# Premier sous-graphique (précisez le nombre d'époques dans 'range(len(history1['accuracy']))')\n",
    "axs[0].plot(range(len(history2.history['accuracy'])), history2.history['accuracy'], color='r')\n",
    "axs[0].plot(range(len(history2.history['val_accuracy'])), history2.history['val_accuracy'],linestyle='--', color='r', alpha=0.5)\n",
    "axs[0].plot(range(len(history2_2.history['accuracy'])), history2_2.history['accuracy'], label='train',color='b')\n",
    "axs[0].plot(range(len(history2_2.history['val_accuracy'])), history2_2.history['val_accuracy'],linestyle='--', color='b', alpha=0.5)\n",
    "axs[0].plot(range(len(history2_3.history['accuracy'])), history2_3.history['accuracy'], color='g')\n",
    "axs[0].plot(range(len(history2_3.history['val_accuracy'])), history2_3.history['val_accuracy'], linestyle='--', color='g', alpha=0.5)\n",
    "axs[0].plot(range(len(history2_4.history['accuracy'])), history2_4.history['accuracy'], color='y')\n",
    "axs[0].plot(range(len(history2_4.history['val_accuracy'])), history2_4.history['val_accuracy'], linestyle='--', color='y', alpha=0.5)\n",
    "\n",
    "axs[0].set_title('Model Accuracy')\n",
    "axs[0].set_ylabel('Accuracy')\n",
    "axs[0].set_xlabel('Epoch')\n",
    "\n",
    "\n",
    "axs[1].plot(range(len(history2.history['loss'])), history2.history['loss'], label='train 196',color='r')\n",
    "axs[1].plot(range(len(history2.history['val_loss'])), history2.history['val_loss'], label='validation',linestyle='--', color='r', alpha=0.5)\n",
    "axs[1].plot(range(len(history2_2.history['loss'])), history2_2.history['loss'], label='train 98',color='b')\n",
    "axs[1].plot(range(len(history2_2.history['val_loss'])), history2_2.history['val_loss'], label='validation',linestyle='--', color='b', alpha=0.5)\n",
    "axs[1].plot(range(len(history2_3.history['loss'])), history2_3.history['loss'], label='train 49',color='g')\n",
    "axs[1].plot(range(len(history2_3.history['val_loss'])), history2_3.history['val_loss'], label='validation',linestyle='--', color='g', alpha=0.5)\n",
    "axs[1].plot(range(len(history2_4.history['loss'])), history2_4.history['loss'],label='train 2 layers', color='y')\n",
    "axs[1].plot(range(len(history2_4.history['val_loss'])), history2_4.history['val_loss'], label='validation',linestyle='--', color='y', alpha=0.5)\n",
    "\n",
    "\n",
    "axs[1].set_title('Model Loss')\n",
    "axs[1].set_ylabel('Loss')\n",
    "axs[1].set_xlabel('Epoch')\n",
    "axs[1].legend(loc='upper left')\n",
    "\n",
    "# Ajustez l'espacement entre les sous-graphiques\n",
    "plt.tight_layout()\n",
    "\n",
    "axs.flatten()[-1].legend(loc='upper left', bbox_to_anchor=(1, 1))\n",
    "\n",
    "# Affichez la figure\n",
    "plt.show()\n"
   ]
  },
  {
   "cell_type": "code",
   "execution_count": 99,
   "metadata": {},
   "outputs": [
    {
     "data": {
      "text/plain": [
       "<module 'conversion_notes' from 'c:\\\\Users\\\\lucie\\\\Documents\\\\Programmation\\\\PFE_Analayse_musicale\\\\Chords_analysis\\\\rnn\\\\conversion_notes.py'>"
      ]
     },
     "execution_count": 99,
     "metadata": {},
     "output_type": "execute_result"
    }
   ],
   "source": [
    "import conversion_notes\n",
    "from importlib import reload\n",
    "reload(conversion_notes)"
   ]
  },
  {
   "cell_type": "code",
   "execution_count": 102,
   "metadata": {},
   "outputs": [
    {
     "data": {
      "text/html": [
       "<div>\n",
       "<style scoped>\n",
       "    .dataframe tbody tr th:only-of-type {\n",
       "        vertical-align: middle;\n",
       "    }\n",
       "\n",
       "    .dataframe tbody tr th {\n",
       "        vertical-align: top;\n",
       "    }\n",
       "\n",
       "    .dataframe thead th {\n",
       "        text-align: right;\n",
       "    }\n",
       "</style>\n",
       "<table border=\"1\" class=\"dataframe\">\n",
       "  <thead>\n",
       "    <tr style=\"text-align: right;\">\n",
       "      <th></th>\n",
       "      <th>start</th>\n",
       "      <th>end</th>\n",
       "      <th>chords</th>\n",
       "      <th>NomFichier</th>\n",
       "    </tr>\n",
       "  </thead>\n",
       "  <tbody>\n",
       "    <tr>\n",
       "      <th>0</th>\n",
       "      <td>0.0</td>\n",
       "      <td>0.000</td>\n",
       "      <td>N</td>\n",
       "      <td>It_Won't_Be_Long</td>\n",
       "    </tr>\n",
       "    <tr>\n",
       "      <th>1</th>\n",
       "      <td>0.0</td>\n",
       "      <td>1.511</td>\n",
       "      <td>N</td>\n",
       "      <td>It_Won't_Be_Long</td>\n",
       "    </tr>\n",
       "    <tr>\n",
       "      <th>2</th>\n",
       "      <td>1.511</td>\n",
       "      <td>4.936</td>\n",
       "      <td>C</td>\n",
       "      <td>It_Won't_Be_Long</td>\n",
       "    </tr>\n",
       "    <tr>\n",
       "      <th>3</th>\n",
       "      <td>4.936</td>\n",
       "      <td>6.678</td>\n",
       "      <td>G:9</td>\n",
       "      <td>It_Won't_Be_Long</td>\n",
       "    </tr>\n",
       "    <tr>\n",
       "      <th>4</th>\n",
       "      <td>6.678</td>\n",
       "      <td>11.129</td>\n",
       "      <td>N</td>\n",
       "      <td>It_Won't_Be_Long</td>\n",
       "    </tr>\n",
       "    <tr>\n",
       "      <th>...</th>\n",
       "      <td>...</td>\n",
       "      <td>...</td>\n",
       "      <td>...</td>\n",
       "      <td>...</td>\n",
       "    </tr>\n",
       "    <tr>\n",
       "      <th>157</th>\n",
       "      <td>144.627029 146.089886 D</td>\n",
       "      <td>NaN</td>\n",
       "      <td>NaN</td>\n",
       "      <td>The_Night_Before</td>\n",
       "    </tr>\n",
       "    <tr>\n",
       "      <th>158</th>\n",
       "      <td>146.089886 147.552743 F</td>\n",
       "      <td>NaN</td>\n",
       "      <td>NaN</td>\n",
       "      <td>The_Night_Before</td>\n",
       "    </tr>\n",
       "    <tr>\n",
       "      <th>159</th>\n",
       "      <td>147.552743 148.934331 D</td>\n",
       "      <td>NaN</td>\n",
       "      <td>NaN</td>\n",
       "      <td>The_Night_Before</td>\n",
       "    </tr>\n",
       "    <tr>\n",
       "      <th>160</th>\n",
       "      <td>148.934331 152.521576 D</td>\n",
       "      <td>NaN</td>\n",
       "      <td>NaN</td>\n",
       "      <td>The_Night_Before</td>\n",
       "    </tr>\n",
       "    <tr>\n",
       "      <th>161</th>\n",
       "      <td>152.521576 156.708571 N</td>\n",
       "      <td>NaN</td>\n",
       "      <td>NaN</td>\n",
       "      <td>The_Night_Before</td>\n",
       "    </tr>\n",
       "  </tbody>\n",
       "</table>\n",
       "<p>162 rows × 4 columns</p>\n",
       "</div>"
      ],
      "text/plain": [
       "                       start     end chords        NomFichier\n",
       "0                        0.0   0.000      N  It_Won't_Be_Long\n",
       "1                        0.0   1.511      N  It_Won't_Be_Long\n",
       "2                      1.511   4.936      C  It_Won't_Be_Long\n",
       "3                      4.936   6.678    G:9  It_Won't_Be_Long\n",
       "4                      6.678  11.129      N  It_Won't_Be_Long\n",
       "..                       ...     ...    ...               ...\n",
       "157  144.627029 146.089886 D     NaN    NaN  The_Night_Before\n",
       "158  146.089886 147.552743 F     NaN    NaN  The_Night_Before\n",
       "159  147.552743 148.934331 D     NaN    NaN  The_Night_Before\n",
       "160  148.934331 152.521576 D     NaN    NaN  The_Night_Before\n",
       "161  152.521576 156.708571 N     NaN    NaN  The_Night_Before\n",
       "\n",
       "[162 rows x 4 columns]"
      ]
     },
     "execution_count": 102,
     "metadata": {},
     "output_type": "execute_result"
    }
   ],
   "source": [
    "dataframe_test"
   ]
  },
  {
   "cell_type": "code",
   "execution_count": 107,
   "metadata": {},
   "outputs": [
    {
     "data": {
      "text/html": [
       "<div>\n",
       "<style scoped>\n",
       "    .dataframe tbody tr th:only-of-type {\n",
       "        vertical-align: middle;\n",
       "    }\n",
       "\n",
       "    .dataframe tbody tr th {\n",
       "        vertical-align: top;\n",
       "    }\n",
       "\n",
       "    .dataframe thead th {\n",
       "        text-align: right;\n",
       "    }\n",
       "</style>\n",
       "<table border=\"1\" class=\"dataframe\">\n",
       "  <thead>\n",
       "    <tr style=\"text-align: right;\">\n",
       "      <th></th>\n",
       "      <th>start</th>\n",
       "      <th>end</th>\n",
       "      <th>chords</th>\n",
       "      <th>NomFichier</th>\n",
       "      <th>Decompo</th>\n",
       "      <th>Good_chords</th>\n",
       "      <th>notes</th>\n",
       "      <th>taille_sequence</th>\n",
       "    </tr>\n",
       "  </thead>\n",
       "  <tbody>\n",
       "    <tr>\n",
       "      <th>0</th>\n",
       "      <td>0.000</td>\n",
       "      <td>0.000</td>\n",
       "      <td>N</td>\n",
       "      <td>Mr_Morgan</td>\n",
       "      <td>['N', 'M', ' ']</td>\n",
       "      <td>NM</td>\n",
       "      <td>nan</td>\n",
       "      <td>NaN</td>\n",
       "    </tr>\n",
       "    <tr>\n",
       "      <th>1</th>\n",
       "      <td>0.000</td>\n",
       "      <td>1.150</td>\n",
       "      <td>N</td>\n",
       "      <td>Mr_Morgan</td>\n",
       "      <td>['N', 'M', ' ']</td>\n",
       "      <td>NM</td>\n",
       "      <td>nan</td>\n",
       "      <td>NaN</td>\n",
       "    </tr>\n",
       "    <tr>\n",
       "      <th>2</th>\n",
       "      <td>1.150</td>\n",
       "      <td>3.294</td>\n",
       "      <td>D</td>\n",
       "      <td>Mr_Morgan</td>\n",
       "      <td>['D', 'M', ' ']</td>\n",
       "      <td>DM</td>\n",
       "      <td>['D','F#','A']</td>\n",
       "      <td>3.0</td>\n",
       "    </tr>\n",
       "    <tr>\n",
       "      <th>3</th>\n",
       "      <td>3.294</td>\n",
       "      <td>4.063</td>\n",
       "      <td>G</td>\n",
       "      <td>Mr_Morgan</td>\n",
       "      <td>['G', 'M', ' ']</td>\n",
       "      <td>GM</td>\n",
       "      <td>['G','B','D']</td>\n",
       "      <td>3.0</td>\n",
       "    </tr>\n",
       "    <tr>\n",
       "      <th>4</th>\n",
       "      <td>4.063</td>\n",
       "      <td>5.734</td>\n",
       "      <td>D</td>\n",
       "      <td>Mr_Morgan</td>\n",
       "      <td>['D', 'M', ' ']</td>\n",
       "      <td>DM</td>\n",
       "      <td>['D','F#','A']</td>\n",
       "      <td>3.0</td>\n",
       "    </tr>\n",
       "  </tbody>\n",
       "</table>\n",
       "</div>"
      ],
      "text/plain": [
       "   start    end chords NomFichier          Decompo Good_chords  \\\n",
       "0  0.000  0.000      N  Mr_Morgan  ['N', 'M', ' ']          NM   \n",
       "1  0.000  1.150      N  Mr_Morgan  ['N', 'M', ' ']          NM   \n",
       "2  1.150  3.294      D  Mr_Morgan  ['D', 'M', ' ']          DM   \n",
       "3  3.294  4.063      G  Mr_Morgan  ['G', 'M', ' ']          GM   \n",
       "4  4.063  5.734      D  Mr_Morgan  ['D', 'M', ' ']          DM   \n",
       "\n",
       "            notes  taille_sequence  \n",
       "0             nan              NaN  \n",
       "1             nan              NaN  \n",
       "2  ['D','F#','A']              3.0  \n",
       "3   ['G','B','D']              3.0  \n",
       "4  ['D','F#','A']              3.0  "
      ]
     },
     "execution_count": 107,
     "metadata": {},
     "output_type": "execute_result"
    }
   ],
   "source": [
    "import conversion_notes\n",
    "dossier_test = r\"C:\\Users\\lucie\\Documents\\Programmation\\Beatles\\test\\autre\"\n",
    "\n",
    "dataframe_test = conversion_notes.create_df(dossier_test)\n",
    "res = conversion_notes.cleaning_df(dataframe_test)\n",
    "\n",
    "res['notes'] = res['notes'].str.replace(' ','')\n",
    "res.head()"
   ]
  },
  {
   "cell_type": "code",
   "execution_count": 108,
   "metadata": {},
   "outputs": [],
   "source": [
    "seq = res['notes']\n",
    "\n",
    "# Convertissez les séquences en représentations numériques\n",
    "twt_sequences = tokenizer.texts_to_sequences(seq)\n",
    "# Remplacez les valeurs manquantes par des zéros\n",
    "twt_padded = tf.keras.preprocessing.sequence.pad_sequences(twt_sequences, maxlen=X.shape[1], dtype='int32', value=0)"
   ]
  },
  {
   "cell_type": "code",
   "execution_count": 109,
   "metadata": {},
   "outputs": [
    {
     "name": "stdout",
     "output_type": "stream",
     "text": [
      "1/1 [==============================] - 0s 104ms/step\n",
      "Séquence 1 - Classe prédite : NM\n",
      "Séquence 2 - Classe prédite : NM\n",
      "Séquence 3 - Classe prédite : DM\n",
      "Séquence 4 - Classe prédite : GM\n",
      "Séquence 5 - Classe prédite : DM\n",
      "Séquence 6 - Classe prédite : GM\n",
      "Séquence 7 - Classe prédite : DM\n",
      "Séquence 8 - Classe prédite : AM\n",
      "Séquence 9 - Classe prédite : DM\n",
      "Séquence 10 - Classe prédite : DM\n",
      "Séquence 11 - Classe prédite : GM\n",
      "Séquence 12 - Classe prédite : DM\n",
      "Séquence 13 - Classe prédite : GM\n",
      "Séquence 14 - Classe prédite : DM\n",
      "Séquence 15 - Classe prédite : AM\n",
      "Séquence 16 - Classe prédite : DM\n",
      "Séquence 17 - Classe prédite : DM\n",
      "Séquence 18 - Classe prédite : GM\n",
      "Séquence 19 - Classe prédite : DM\n",
      "Séquence 20 - Classe prédite : GM\n",
      "Séquence 21 - Classe prédite : DM\n",
      "Séquence 22 - Classe prédite : GM\n",
      "Séquence 23 - Classe prédite : AM\n",
      "Séquence 24 - Classe prédite : DM\n",
      "Séquence 25 - Classe prédite : GM\n",
      "Séquence 26 - Classe prédite : DM\n",
      "Séquence 27 - Classe prédite : GM\n",
      "Séquence 28 - Classe prédite : DM\n",
      "Séquence 29 - Classe prédite : GM\n",
      "Séquence 30 - Classe prédite : AM\n",
      "Séquence 31 - Classe prédite : DM\n",
      "Séquence 32 - Classe prédite : GM\n",
      "Séquence 33 - Classe prédite : DM\n",
      "Séquence 34 - Classe prédite : GM\n",
      "Séquence 35 - Classe prédite : DM\n",
      "Séquence 36 - Classe prédite : GM\n",
      "Séquence 37 - Classe prédite : AM\n",
      "Séquence 38 - Classe prédite : DM\n",
      "Séquence 39 - Classe prédite : GM\n",
      "Séquence 40 - Classe prédite : DM\n",
      "Séquence 41 - Classe prédite : GM\n",
      "Séquence 42 - Classe prédite : DM\n",
      "Séquence 43 - Classe prédite : GM\n",
      "Séquence 44 - Classe prédite : AM\n",
      "Séquence 45 - Classe prédite : DM\n",
      "Séquence 46 - Classe prédite : GM\n",
      "Séquence 47 - Classe prédite : DM\n",
      "Séquence 48 - Classe prédite : GM\n",
      "Séquence 49 - Classe prédite : DM\n",
      "Séquence 50 - Classe prédite : GM\n",
      "Séquence 51 - Classe prédite : AM\n",
      "Séquence 52 - Classe prédite : DM\n",
      "Séquence 53 - Classe prédite : GM\n",
      "Séquence 54 - Classe prédite : DM\n",
      "Séquence 55 - Classe prédite : GM\n",
      "Séquence 56 - Classe prédite : DM\n",
      "Séquence 57 - Classe prédite : GM\n",
      "Séquence 58 - Classe prédite : AM\n",
      "Séquence 59 - Classe prédite : DM\n",
      "Séquence 60 - Classe prédite : GM\n",
      "Séquence 61 - Classe prédite : DM\n",
      "Séquence 62 - Classe prédite : GM\n",
      "Séquence 63 - Classe prédite : DM\n",
      "Séquence 64 - Classe prédite : GM\n",
      "Séquence 65 - Classe prédite : AM\n",
      "Séquence 66 - Classe prédite : DM\n",
      "Séquence 67 - Classe prédite : GM\n",
      "Séquence 68 - Classe prédite : DM\n",
      "Séquence 69 - Classe prédite : GM\n",
      "Séquence 70 - Classe prédite : DM\n",
      "Séquence 71 - Classe prédite : GM\n",
      "Séquence 72 - Classe prédite : AM\n",
      "Séquence 73 - Classe prédite : DM\n",
      "Séquence 74 - Classe prédite : GM\n",
      "Séquence 75 - Classe prédite : DM\n",
      "Séquence 76 - Classe prédite : GM\n",
      "Séquence 77 - Classe prédite : DM\n",
      "Séquence 78 - Classe prédite : GM\n",
      "Séquence 79 - Classe prédite : AM\n",
      "Séquence 80 - Classe prédite : DM\n",
      "Séquence 81 - Classe prédite : GM\n",
      "Séquence 82 - Classe prédite : F#M\n",
      "Séquence 83 - Classe prédite : FM\n",
      "Séquence 84 - Classe prédite : GM\n",
      "Séquence 85 - Classe prédite : FM\n",
      "Séquence 86 - Classe prédite : CM\n",
      "Séquence 87 - Classe prédite : CM\n",
      "Séquence 88 - Classe prédite : DM\n",
      "Séquence 89 - Classe prédite : GM\n",
      "Séquence 90 - Classe prédite : DM\n",
      "Séquence 91 - Classe prédite : GM\n",
      "Séquence 92 - Classe prédite : DM\n",
      "Séquence 93 - Classe prédite : GM\n",
      "Séquence 94 - Classe prédite : AM\n",
      "Séquence 95 - Classe prédite : DM\n",
      "Séquence 96 - Classe prédite : GM\n",
      "Séquence 97 - Classe prédite : DM\n",
      "Séquence 98 - Classe prédite : GM\n",
      "Séquence 99 - Classe prédite : DM\n",
      "Séquence 100 - Classe prédite : GM\n",
      "Séquence 101 - Classe prédite : AM\n",
      "Séquence 102 - Classe prédite : DM\n",
      "Séquence 103 - Classe prédite : GM\n",
      "Séquence 104 - Classe prédite : DM\n",
      "Séquence 105 - Classe prédite : GM\n",
      "Séquence 106 - Classe prédite : DM\n",
      "Séquence 107 - Classe prédite : GM\n",
      "Séquence 108 - Classe prédite : AM\n",
      "Séquence 109 - Classe prédite : DM\n",
      "Séquence 110 - Classe prédite : GM\n",
      "Séquence 111 - Classe prédite : DM\n",
      "Séquence 112 - Classe prédite : GM\n",
      "Séquence 113 - Classe prédite : AM\n",
      "Séquence 114 - Classe prédite : DM\n",
      "Séquence 115 - Classe prédite : GM\n",
      "Séquence 116 - Classe prédite : F#M\n",
      "Séquence 117 - Classe prédite : FM\n",
      "Séquence 118 - Classe prédite : GM\n",
      "Séquence 119 - Classe prédite : FM\n",
      "Séquence 120 - Classe prédite : CM\n",
      "Séquence 121 - Classe prédite : CM\n",
      "Séquence 122 - Classe prédite : DM\n",
      "Séquence 123 - Classe prédite : GM\n",
      "Séquence 124 - Classe prédite : DM\n",
      "Séquence 125 - Classe prédite : GM\n",
      "Séquence 126 - Classe prédite : DM\n",
      "Séquence 127 - Classe prédite : GM\n",
      "Séquence 128 - Classe prédite : AM\n",
      "Séquence 129 - Classe prédite : DM\n",
      "Séquence 130 - Classe prédite : DM\n",
      "Séquence 131 - Classe prédite : GM\n",
      "Séquence 132 - Classe prédite : DM\n",
      "Séquence 133 - Classe prédite : GM\n",
      "Séquence 134 - Classe prédite : DM\n",
      "Séquence 135 - Classe prédite : GM\n",
      "Séquence 136 - Classe prédite : AM\n",
      "Séquence 137 - Classe prédite : DM\n",
      "Séquence 138 - Classe prédite : NM\n"
     ]
    }
   ],
   "source": [
    "# Effectuez la prédiction avec votre modèle\n",
    "predictions = model2.predict(twt_padded, batch_size=len(seq))\n",
    "pred = []\n",
    "\n",
    "# Affichez les résultats pour chaque séquence\n",
    "for i, prediction in enumerate(predictions):\n",
    "    predicted_class_index = np.argmax(prediction)\n",
    "    predicted_class = classes[predicted_class_index]\n",
    "    pred.append(predicted_class)\n",
    "    print(f\"Séquence {i+1} - Classe prédite : {predicted_class}\")"
   ]
  },
  {
   "cell_type": "code",
   "execution_count": 110,
   "metadata": {},
   "outputs": [
    {
     "data": {
      "text/plain": [
       "90.57971014492753"
      ]
     },
     "execution_count": 110,
     "metadata": {},
     "output_type": "execute_result"
    }
   ],
   "source": [
    "count = 0\n",
    "faux_pred = []\n",
    "real = []\n",
    "\n",
    "for i in range(len(pred)):\n",
    "    if pred[i] == res['Good_chords'][i]:\n",
    "        count+=1\n",
    "    else:\n",
    "        faux_pred.append(pred[i])\n",
    "        real.append(res['Good_chords'][i])\n",
    "\n",
    "count/len(pred) * 100"
   ]
  },
  {
   "cell_type": "code",
   "execution_count": 2,
   "metadata": {},
   "outputs": [
    {
     "data": {
      "text/html": [
       "<div>\n",
       "<style scoped>\n",
       "    .dataframe tbody tr th:only-of-type {\n",
       "        vertical-align: middle;\n",
       "    }\n",
       "\n",
       "    .dataframe tbody tr th {\n",
       "        vertical-align: top;\n",
       "    }\n",
       "\n",
       "    .dataframe thead th {\n",
       "        text-align: right;\n",
       "    }\n",
       "</style>\n",
       "<table border=\"1\" class=\"dataframe\">\n",
       "  <thead>\n",
       "    <tr style=\"text-align: right;\">\n",
       "      <th></th>\n",
       "      <th>Unnamed: 0</th>\n",
       "      <th>StartTime</th>\n",
       "      <th>Chordsname</th>\n",
       "      <th>notes</th>\n",
       "    </tr>\n",
       "  </thead>\n",
       "  <tbody>\n",
       "    <tr>\n",
       "      <th>0</th>\n",
       "      <td>0,0.65217394,Fmaj,\"['F', 'A', 'C']\"</td>\n",
       "      <td>NaN</td>\n",
       "      <td>NaN</td>\n",
       "      <td>nan</td>\n",
       "    </tr>\n",
       "    <tr>\n",
       "      <th>1</th>\n",
       "      <td>1,1.3043479,Fmaj,\"['F', 'A', 'C']\"</td>\n",
       "      <td>NaN</td>\n",
       "      <td>NaN</td>\n",
       "      <td>nan</td>\n",
       "    </tr>\n",
       "    <tr>\n",
       "      <th>2</th>\n",
       "      <td>2,1.9565217,Fmaj,\"['F', 'A', 'C']\"</td>\n",
       "      <td>NaN</td>\n",
       "      <td>NaN</td>\n",
       "      <td>nan</td>\n",
       "    </tr>\n",
       "    <tr>\n",
       "      <th>3</th>\n",
       "      <td>3,2.6086957,A#maj,\"['A#', 'C##', 'E#']\"</td>\n",
       "      <td>NaN</td>\n",
       "      <td>NaN</td>\n",
       "      <td>nan</td>\n",
       "    </tr>\n",
       "    <tr>\n",
       "      <th>4</th>\n",
       "      <td>4,3.2608697,A#maj,\"['A#', 'C##', 'E#']\"</td>\n",
       "      <td>NaN</td>\n",
       "      <td>NaN</td>\n",
       "      <td>nan</td>\n",
       "    </tr>\n",
       "    <tr>\n",
       "      <th>...</th>\n",
       "      <td>...</td>\n",
       "      <td>...</td>\n",
       "      <td>...</td>\n",
       "      <td>...</td>\n",
       "    </tr>\n",
       "    <tr>\n",
       "      <th>178</th>\n",
       "      <td>178,116.739136,Dmin,\"['D', 'F', 'A']\"</td>\n",
       "      <td>NaN</td>\n",
       "      <td>NaN</td>\n",
       "      <td>nan</td>\n",
       "    </tr>\n",
       "    <tr>\n",
       "      <th>179</th>\n",
       "      <td>179,117.39131,Gmin,\"['G', 'Bb', 'D']\"</td>\n",
       "      <td>NaN</td>\n",
       "      <td>NaN</td>\n",
       "      <td>nan</td>\n",
       "    </tr>\n",
       "    <tr>\n",
       "      <th>180</th>\n",
       "      <td>180,118.04349,Gmin,\"['G', 'Bb', 'D']\"</td>\n",
       "      <td>NaN</td>\n",
       "      <td>NaN</td>\n",
       "      <td>nan</td>\n",
       "    </tr>\n",
       "    <tr>\n",
       "      <th>181</th>\n",
       "      <td>181,118.695656,Gmin,\"['G', 'Bb', 'D']\"</td>\n",
       "      <td>NaN</td>\n",
       "      <td>NaN</td>\n",
       "      <td>nan</td>\n",
       "    </tr>\n",
       "    <tr>\n",
       "      <th>182</th>\n",
       "      <td>182,119.34783,Gmin,\"['G', 'Bb', 'D']\"</td>\n",
       "      <td>NaN</td>\n",
       "      <td>NaN</td>\n",
       "      <td>nan</td>\n",
       "    </tr>\n",
       "  </tbody>\n",
       "</table>\n",
       "<p>183 rows × 4 columns</p>\n",
       "</div>"
      ],
      "text/plain": [
       "                                  Unnamed: 0  StartTime Chordsname notes\n",
       "0        0,0.65217394,Fmaj,\"['F', 'A', 'C']\"        NaN        NaN   nan\n",
       "1         1,1.3043479,Fmaj,\"['F', 'A', 'C']\"        NaN        NaN   nan\n",
       "2         2,1.9565217,Fmaj,\"['F', 'A', 'C']\"        NaN        NaN   nan\n",
       "3    3,2.6086957,A#maj,\"['A#', 'C##', 'E#']\"        NaN        NaN   nan\n",
       "4    4,3.2608697,A#maj,\"['A#', 'C##', 'E#']\"        NaN        NaN   nan\n",
       "..                                       ...        ...        ...   ...\n",
       "178    178,116.739136,Dmin,\"['D', 'F', 'A']\"        NaN        NaN   nan\n",
       "179    179,117.39131,Gmin,\"['G', 'Bb', 'D']\"        NaN        NaN   nan\n",
       "180    180,118.04349,Gmin,\"['G', 'Bb', 'D']\"        NaN        NaN   nan\n",
       "181   181,118.695656,Gmin,\"['G', 'Bb', 'D']\"        NaN        NaN   nan\n",
       "182    182,119.34783,Gmin,\"['G', 'Bb', 'D']\"        NaN        NaN   nan\n",
       "\n",
       "[183 rows x 4 columns]"
      ]
     },
     "execution_count": 2,
     "metadata": {},
     "output_type": "execute_result"
    }
   ],
   "source": [
    "import pandas as pd\n",
    "\n",
    "file = r\"C:\\Users\\lucie\\Documents\\Programmation\\PFE_Analayse_musicale\\Chords_analysis\\rnn\\out.csv\"\n",
    "df_aam = pd.read_csv(file)\n",
    "df_aam['notes'] = df_aam['notes'].fillna('nan')\n",
    "df_aam['notes'] = df_aam['notes'].str.replace(' ','')\n",
    "\n",
    "test_aam = df_aam[:183]\n",
    "test_aam"
   ]
  },
  {
   "cell_type": "code",
   "execution_count": 112,
   "metadata": {},
   "outputs": [],
   "source": [
    "seq = test_aam['notes']\n",
    "\n",
    "# Convertissez les séquences en représentations numériques\n",
    "twt_sequences = tokenizer.texts_to_sequences(seq)\n",
    "# Remplacez les valeurs manquantes par des zéros\n",
    "twt_padded = tf.keras.preprocessing.sequence.pad_sequences(twt_sequences, maxlen=X.shape[1], dtype='int32', value=0)"
   ]
  },
  {
   "cell_type": "code",
   "execution_count": 113,
   "metadata": {},
   "outputs": [
    {
     "name": "stdout",
     "output_type": "stream",
     "text": [
      "1/1 [==============================] - 0s 114ms/step\n",
      "Séquence 1 - Classe prédite : FM\n",
      "Séquence 2 - Classe prédite : FM\n",
      "Séquence 3 - Classe prédite : FM\n",
      "Séquence 4 - Classe prédite : F#min\n",
      "Séquence 5 - Classe prédite : F#min\n",
      "Séquence 6 - Classe prédite : F#min\n",
      "Séquence 7 - Classe prédite : F#min\n",
      "Séquence 8 - Classe prédite : Amin\n",
      "Séquence 9 - Classe prédite : Amin\n",
      "Séquence 10 - Classe prédite : FM\n",
      "Séquence 11 - Classe prédite : FM\n",
      "Séquence 12 - Classe prédite : FM\n",
      "Séquence 13 - Classe prédite : FM\n",
      "Séquence 14 - Classe prédite : FM\n",
      "Séquence 15 - Classe prédite : FM\n",
      "Séquence 16 - Classe prédite : CM\n",
      "Séquence 17 - Classe prédite : CM\n",
      "Séquence 18 - Classe prédite : CM\n",
      "Séquence 19 - Classe prédite : CM\n",
      "Séquence 20 - Classe prédite : FM\n",
      "Séquence 21 - Classe prédite : FM\n",
      "Séquence 22 - Classe prédite : FM\n",
      "Séquence 23 - Classe prédite : FM\n",
      "Séquence 24 - Classe prédite : FM\n",
      "Séquence 25 - Classe prédite : FM\n",
      "Séquence 26 - Classe prédite : FM\n",
      "Séquence 27 - Classe prédite : FM\n",
      "Séquence 28 - Classe prédite : F#min\n",
      "Séquence 29 - Classe prédite : F#min\n",
      "Séquence 30 - Classe prédite : F#min\n",
      "Séquence 31 - Classe prédite : F#min\n",
      "Séquence 32 - Classe prédite : Amin\n",
      "Séquence 33 - Classe prédite : Amin\n",
      "Séquence 34 - Classe prédite : FM\n",
      "Séquence 35 - Classe prédite : FM\n",
      "Séquence 36 - Classe prédite : FM\n",
      "Séquence 37 - Classe prédite : FM\n",
      "Séquence 38 - Classe prédite : FM\n",
      "Séquence 39 - Classe prédite : FM\n",
      "Séquence 40 - Classe prédite : CM\n",
      "Séquence 41 - Classe prédite : CM\n",
      "Séquence 42 - Classe prédite : CM\n",
      "Séquence 43 - Classe prédite : CM\n",
      "Séquence 44 - Classe prédite : FM\n",
      "Séquence 45 - Classe prédite : FM\n",
      "Séquence 46 - Classe prédite : FM\n",
      "Séquence 47 - Classe prédite : FM\n",
      "Séquence 48 - Classe prédite : FM\n",
      "Séquence 49 - Classe prédite : FM\n",
      "Séquence 50 - Classe prédite : FM\n",
      "Séquence 51 - Classe prédite : FM\n",
      "Séquence 52 - Classe prédite : F#min\n",
      "Séquence 53 - Classe prédite : F#min\n",
      "Séquence 54 - Classe prédite : F#min\n",
      "Séquence 55 - Classe prédite : F#min\n",
      "Séquence 56 - Classe prédite : Amin\n",
      "Séquence 57 - Classe prédite : Amin\n",
      "Séquence 58 - Classe prédite : FM\n",
      "Séquence 59 - Classe prédite : FM\n",
      "Séquence 60 - Classe prédite : FM\n",
      "Séquence 61 - Classe prédite : FM\n",
      "Séquence 62 - Classe prédite : FM\n",
      "Séquence 63 - Classe prédite : FM\n",
      "Séquence 64 - Classe prédite : CM\n",
      "Séquence 65 - Classe prédite : CM\n",
      "Séquence 66 - Classe prédite : CM\n",
      "Séquence 67 - Classe prédite : CM\n",
      "Séquence 68 - Classe prédite : FM\n",
      "Séquence 69 - Classe prédite : FM\n",
      "Séquence 70 - Classe prédite : FM\n",
      "Séquence 71 - Classe prédite : FM\n",
      "Séquence 72 - Classe prédite : FM\n",
      "Séquence 73 - Classe prédite : FM\n",
      "Séquence 74 - Classe prédite : FM\n",
      "Séquence 75 - Classe prédite : FM\n",
      "Séquence 76 - Classe prédite : F#min\n",
      "Séquence 77 - Classe prédite : F#min\n",
      "Séquence 78 - Classe prédite : F#min\n",
      "Séquence 79 - Classe prédite : F#min\n",
      "Séquence 80 - Classe prédite : Amin\n",
      "Séquence 81 - Classe prédite : Amin\n",
      "Séquence 82 - Classe prédite : FM\n",
      "Séquence 83 - Classe prédite : FM\n",
      "Séquence 84 - Classe prédite : FM\n",
      "Séquence 85 - Classe prédite : FM\n",
      "Séquence 86 - Classe prédite : FM\n",
      "Séquence 87 - Classe prédite : FM\n",
      "Séquence 88 - Classe prédite : CM\n",
      "Séquence 89 - Classe prédite : CM\n",
      "Séquence 90 - Classe prédite : CM\n",
      "Séquence 91 - Classe prédite : CM\n",
      "Séquence 92 - Classe prédite : FM\n",
      "Séquence 93 - Classe prédite : FM\n",
      "Séquence 94 - Classe prédite : FM\n",
      "Séquence 95 - Classe prédite : FM\n",
      "Séquence 96 - Classe prédite : FM\n",
      "Séquence 97 - Classe prédite : FM\n",
      "Séquence 98 - Classe prédite : FM\n",
      "Séquence 99 - Classe prédite : FM\n",
      "Séquence 100 - Classe prédite : F#min\n",
      "Séquence 101 - Classe prédite : F#min\n",
      "Séquence 102 - Classe prédite : F#min\n",
      "Séquence 103 - Classe prédite : F#min\n",
      "Séquence 104 - Classe prédite : Amin\n",
      "Séquence 105 - Classe prédite : Amin\n",
      "Séquence 106 - Classe prédite : FM\n",
      "Séquence 107 - Classe prédite : FM\n",
      "Séquence 108 - Classe prédite : FM\n",
      "Séquence 109 - Classe prédite : FM\n",
      "Séquence 110 - Classe prédite : FM\n",
      "Séquence 111 - Classe prédite : FM\n",
      "Séquence 112 - Classe prédite : CM\n",
      "Séquence 113 - Classe prédite : CM\n",
      "Séquence 114 - Classe prédite : CM\n",
      "Séquence 115 - Classe prédite : CM\n",
      "Séquence 116 - Classe prédite : FM\n",
      "Séquence 117 - Classe prédite : FM\n",
      "Séquence 118 - Classe prédite : FM\n",
      "Séquence 119 - Classe prédite : FM\n",
      "Séquence 120 - Classe prédite : Gmin\n",
      "Séquence 121 - Classe prédite : Gmin\n",
      "Séquence 122 - Classe prédite : Gmin\n",
      "Séquence 123 - Classe prédite : Gmin\n",
      "Séquence 124 - Classe prédite : G#M\n",
      "Séquence 125 - Classe prédite : G#M\n",
      "Séquence 126 - Classe prédite : G#M\n",
      "Séquence 127 - Classe prédite : G#M\n",
      "Séquence 128 - Classe prédite : FM\n",
      "Séquence 129 - Classe prédite : FM\n",
      "Séquence 130 - Classe prédite : FM\n",
      "Séquence 131 - Classe prédite : FM\n",
      "Séquence 132 - Classe prédite : F#min\n",
      "Séquence 133 - Classe prédite : F#min\n",
      "Séquence 134 - Classe prédite : F#min\n",
      "Séquence 135 - Classe prédite : F#min\n",
      "Séquence 136 - Classe prédite : Gmin\n",
      "Séquence 137 - Classe prédite : Gmin\n",
      "Séquence 138 - Classe prédite : Gmin\n",
      "Séquence 139 - Classe prédite : Gmin\n",
      "Séquence 140 - Classe prédite : G#M\n",
      "Séquence 141 - Classe prédite : G#M\n",
      "Séquence 142 - Classe prédite : FM\n",
      "Séquence 143 - Classe prédite : FM\n",
      "Séquence 144 - Classe prédite : Gmin\n",
      "Séquence 145 - Classe prédite : Gmin\n",
      "Séquence 146 - Classe prédite : Gmin\n",
      "Séquence 147 - Classe prédite : Gmin\n",
      "Séquence 148 - Classe prédite : FM\n",
      "Séquence 149 - Classe prédite : FM\n",
      "Séquence 150 - Classe prédite : FM\n",
      "Séquence 151 - Classe prédite : FM\n",
      "Séquence 152 - Classe prédite : Gmin\n",
      "Séquence 153 - Classe prédite : Gmin\n",
      "Séquence 154 - Classe prédite : Gmin\n",
      "Séquence 155 - Classe prédite : Gmin\n",
      "Séquence 156 - Classe prédite : Gmin\n",
      "Séquence 157 - Classe prédite : Gmin\n",
      "Séquence 158 - Classe prédite : Gmin\n",
      "Séquence 159 - Classe prédite : Gmin\n",
      "Séquence 160 - Classe prédite : FM\n",
      "Séquence 161 - Classe prédite : FM\n",
      "Séquence 162 - Classe prédite : FM\n",
      "Séquence 163 - Classe prédite : FM\n",
      "Séquence 164 - Classe prédite : G#M\n",
      "Séquence 165 - Classe prédite : G#M\n",
      "Séquence 166 - Classe prédite : G#M\n",
      "Séquence 167 - Classe prédite : G#M\n",
      "Séquence 168 - Classe prédite : Eb7\n",
      "Séquence 169 - Classe prédite : Eb7\n",
      "Séquence 170 - Classe prédite : Eb7\n",
      "Séquence 171 - Classe prédite : Eb7\n",
      "Séquence 172 - Classe prédite : G#M\n",
      "Séquence 173 - Classe prédite : G#M\n",
      "Séquence 174 - Classe prédite : G#M\n",
      "Séquence 175 - Classe prédite : G#M\n",
      "Séquence 176 - Classe prédite : F#min\n",
      "Séquence 177 - Classe prédite : F#min\n",
      "Séquence 178 - Classe prédite : FM\n",
      "Séquence 179 - Classe prédite : FM\n",
      "Séquence 180 - Classe prédite : Gmin\n",
      "Séquence 181 - Classe prédite : Gmin\n",
      "Séquence 182 - Classe prédite : Gmin\n",
      "Séquence 183 - Classe prédite : Gmin\n"
     ]
    }
   ],
   "source": [
    "# Effectuez la prédiction avec votre modèle\n",
    "predictions = model2.predict(twt_padded, batch_size=len(seq))\n",
    "pred = []\n",
    "\n",
    "# Affichez les résultats pour chaque séquence\n",
    "for i, prediction in enumerate(predictions):\n",
    "    predicted_class_index = np.argmax(prediction)\n",
    "    predicted_class = classes[predicted_class_index]\n",
    "    pred.append(predicted_class)\n",
    "    print(f\"Séquence {i+1} - Classe prédite : {predicted_class}\")"
   ]
  },
  {
   "cell_type": "code",
   "execution_count": 114,
   "metadata": {},
   "outputs": [
    {
     "data": {
      "text/plain": [
       "18.579234972677597"
      ]
     },
     "execution_count": 114,
     "metadata": {},
     "output_type": "execute_result"
    }
   ],
   "source": [
    "count = 0\n",
    "faux_pred = []\n",
    "real = []\n",
    "\n",
    "for i in range(len(pred)):\n",
    "    if pred[i] == test_aam['Chordsname'][i]:\n",
    "        count+=1\n",
    "    else:\n",
    "        faux_pred.append(pred[i])\n",
    "        real.append(test_aam['Chordsname'][i])\n",
    "\n",
    "count/len(pred) * 100"
   ]
  }
 ],
 "metadata": {
  "kernelspec": {
   "display_name": "myenv",
   "language": "python",
   "name": "python3"
  },
  "language_info": {
   "codemirror_mode": {
    "name": "ipython",
    "version": 3
   },
   "file_extension": ".py",
   "mimetype": "text/x-python",
   "name": "python",
   "nbconvert_exporter": "python",
   "pygments_lexer": "ipython3",
   "version": "3.10.11"
  }
 },
 "nbformat": 4,
 "nbformat_minor": 2
}
