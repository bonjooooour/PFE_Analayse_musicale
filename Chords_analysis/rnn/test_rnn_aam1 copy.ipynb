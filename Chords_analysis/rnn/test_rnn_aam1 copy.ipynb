{
 "cells": [
  {
   "cell_type": "code",
   "execution_count": 2,
   "metadata": {},
   "outputs": [],
   "source": [
    "import sqlite3\n",
    "import pandas as pd\n",
    "import numpy as np\n",
    "import re\n",
    "import tensorflow as tf\n",
    "from tensorflow import keras\n",
    "from sklearn.model_selection import train_test_split\n",
    "from tensorflow.keras.layers import Embedding, SpatialDropout1D, Bidirectional, LSTM, Dense\n",
    "from keras_tuner.tuners import RandomSearch, Hyperband"
   ]
  },
  {
   "cell_type": "code",
   "execution_count": 3,
   "metadata": {},
   "outputs": [],
   "source": [
    "file = r\"C:\\Users\\lucie\\Documents\\Programmation\\PFE_Analayse_musicale\\Chords_analysis\\data\\out.csv\"\n",
    "df_aam = pd.read_csv(file)"
   ]
  },
  {
   "cell_type": "code",
   "execution_count": 11,
   "metadata": {},
   "outputs": [
    {
     "data": {
      "text/html": [
       "<div>\n",
       "<style scoped>\n",
       "    .dataframe tbody tr th:only-of-type {\n",
       "        vertical-align: middle;\n",
       "    }\n",
       "\n",
       "    .dataframe tbody tr th {\n",
       "        vertical-align: top;\n",
       "    }\n",
       "\n",
       "    .dataframe thead th {\n",
       "        text-align: right;\n",
       "    }\n",
       "</style>\n",
       "<table border=\"1\" class=\"dataframe\">\n",
       "  <thead>\n",
       "    <tr style=\"text-align: right;\">\n",
       "      <th></th>\n",
       "      <th>start</th>\n",
       "      <th>end</th>\n",
       "      <th>chords</th>\n",
       "    </tr>\n",
       "  </thead>\n",
       "  <tbody>\n",
       "    <tr>\n",
       "      <th>NaN</th>\n",
       "      <td>StartTime</td>\n",
       "      <td>Chordsname</td>\n",
       "      <td>notes</td>\n",
       "    </tr>\n",
       "    <tr>\n",
       "      <th>0,0.65217394,Fmaj,\"['F', 'A', 'C']\"</th>\n",
       "      <td>NaN</td>\n",
       "      <td>NaN</td>\n",
       "      <td>NaN</td>\n",
       "    </tr>\n",
       "    <tr>\n",
       "      <th>1,1.3043479,Fmaj,\"['F', 'A', 'C']\"</th>\n",
       "      <td>NaN</td>\n",
       "      <td>NaN</td>\n",
       "      <td>NaN</td>\n",
       "    </tr>\n",
       "    <tr>\n",
       "      <th>2,1.9565217,Fmaj,\"['F', 'A', 'C']\"</th>\n",
       "      <td>NaN</td>\n",
       "      <td>NaN</td>\n",
       "      <td>NaN</td>\n",
       "    </tr>\n",
       "    <tr>\n",
       "      <th>3,2.6086957,A#maj,\"['A#', 'C##', 'E#']\"</th>\n",
       "      <td>NaN</td>\n",
       "      <td>NaN</td>\n",
       "      <td>NaN</td>\n",
       "    </tr>\n",
       "    <tr>\n",
       "      <th>...</th>\n",
       "      <td>...</td>\n",
       "      <td>...</td>\n",
       "      <td>...</td>\n",
       "    </tr>\n",
       "    <tr>\n",
       "      <th>293307,159.67743,D#min,\"['D#', 'F#', 'A#']\"</th>\n",
       "      <td>NaN</td>\n",
       "      <td>NaN</td>\n",
       "      <td>NaN</td>\n",
       "    </tr>\n",
       "    <tr>\n",
       "      <th>293308,160.40913,F#maj,\"['F#', 'A#', 'C#']\"</th>\n",
       "      <td>NaN</td>\n",
       "      <td>NaN</td>\n",
       "      <td>NaN</td>\n",
       "    </tr>\n",
       "    <tr>\n",
       "      <th>293309,161.14084,F#maj,\"['F#', 'A#', 'C#']\"</th>\n",
       "      <td>NaN</td>\n",
       "      <td>NaN</td>\n",
       "      <td>NaN</td>\n",
       "    </tr>\n",
       "    <tr>\n",
       "      <th>293310,161.87254,F#maj,\"['F#', 'A#', 'C#']\"</th>\n",
       "      <td>NaN</td>\n",
       "      <td>NaN</td>\n",
       "      <td>NaN</td>\n",
       "    </tr>\n",
       "    <tr>\n",
       "      <th>293311,162.60425,F#maj,\"['F#', 'A#', 'C#']\"</th>\n",
       "      <td>NaN</td>\n",
       "      <td>NaN</td>\n",
       "      <td>NaN</td>\n",
       "    </tr>\n",
       "  </tbody>\n",
       "</table>\n",
       "<p>293313 rows × 3 columns</p>\n",
       "</div>"
      ],
      "text/plain": [
       "                                                 start         end chords\n",
       "NaN                                          StartTime  Chordsname  notes\n",
       "0,0.65217394,Fmaj,\"['F', 'A', 'C']\"                NaN         NaN    NaN\n",
       "1,1.3043479,Fmaj,\"['F', 'A', 'C']\"                 NaN         NaN    NaN\n",
       "2,1.9565217,Fmaj,\"['F', 'A', 'C']\"                 NaN         NaN    NaN\n",
       "3,2.6086957,A#maj,\"['A#', 'C##', 'E#']\"            NaN         NaN    NaN\n",
       "...                                                ...         ...    ...\n",
       "293307,159.67743,D#min,\"['D#', 'F#', 'A#']\"        NaN         NaN    NaN\n",
       "293308,160.40913,F#maj,\"['F#', 'A#', 'C#']\"        NaN         NaN    NaN\n",
       "293309,161.14084,F#maj,\"['F#', 'A#', 'C#']\"        NaN         NaN    NaN\n",
       "293310,161.87254,F#maj,\"['F#', 'A#', 'C#']\"        NaN         NaN    NaN\n",
       "293311,162.60425,F#maj,\"['F#', 'A#', 'C#']\"        NaN         NaN    NaN\n",
       "\n",
       "[293313 rows x 3 columns]"
      ]
     },
     "execution_count": 11,
     "metadata": {},
     "output_type": "execute_result"
    }
   ],
   "source": [
    "df_aam"
   ]
  },
  {
   "cell_type": "code",
   "execution_count": 14,
   "metadata": {},
   "outputs": [],
   "source": [
    "df_aam['notes'] = df_aam['notes'].fillna('nan')"
   ]
  },
  {
   "cell_type": "code",
   "execution_count": 15,
   "metadata": {},
   "outputs": [
    {
     "data": {
      "text/html": [
       "<div>\n",
       "<style scoped>\n",
       "    .dataframe tbody tr th:only-of-type {\n",
       "        vertical-align: middle;\n",
       "    }\n",
       "\n",
       "    .dataframe tbody tr th {\n",
       "        vertical-align: top;\n",
       "    }\n",
       "\n",
       "    .dataframe thead th {\n",
       "        text-align: right;\n",
       "    }\n",
       "</style>\n",
       "<table border=\"1\" class=\"dataframe\">\n",
       "  <thead>\n",
       "    <tr style=\"text-align: right;\">\n",
       "      <th></th>\n",
       "      <th>notes</th>\n",
       "    </tr>\n",
       "  </thead>\n",
       "  <tbody>\n",
       "    <tr>\n",
       "      <th>0</th>\n",
       "      <td>F,A,C</td>\n",
       "    </tr>\n",
       "    <tr>\n",
       "      <th>1</th>\n",
       "      <td>F,A,C</td>\n",
       "    </tr>\n",
       "    <tr>\n",
       "      <th>2</th>\n",
       "      <td>F,A,C</td>\n",
       "    </tr>\n",
       "    <tr>\n",
       "      <th>3</th>\n",
       "      <td>A#,C##,E#</td>\n",
       "    </tr>\n",
       "    <tr>\n",
       "      <th>4</th>\n",
       "      <td>A#,C##,E#</td>\n",
       "    </tr>\n",
       "  </tbody>\n",
       "</table>\n",
       "</div>"
      ],
      "text/plain": [
       "       notes\n",
       "0      F,A,C\n",
       "1      F,A,C\n",
       "2      F,A,C\n",
       "3  A#,C##,E#\n",
       "4  A#,C##,E#"
      ]
     },
     "execution_count": 15,
     "metadata": {},
     "output_type": "execute_result"
    }
   ],
   "source": [
    "df_bis = pd.DataFrame()\n",
    "df_bis['notes'] = df_aam['notes'].str.replace('[','')\n",
    "df_bis['notes'] = df_bis['notes'].str.replace(']','')\n",
    "df_bis['notes'] = df_bis['notes'].str.replace(\"'\",'')\n",
    "df_bis['notes'] = df_bis['notes'].str.replace(' ','')\n",
    "df_bis.head()"
   ]
  },
  {
   "cell_type": "code",
   "execution_count": 16,
   "metadata": {},
   "outputs": [
    {
     "name": "stdout",
     "output_type": "stream",
     "text": [
      "Shape of X: (293312, 9)\n"
     ]
    }
   ],
   "source": [
    "long = []\n",
    "\n",
    "for val in df_bis['notes']:\n",
    "    long.append(len(val))\n",
    "\n",
    "# La variable max_features devrait contenir la longueur maximale de vos séquences, pas la valeur maximale des longueurs\n",
    "max_sequence_length = np.max(long)\n",
    "\n",
    "tokenizer = tf.keras.preprocessing.text.Tokenizer(num_words=7, split=',')\n",
    "tokenizer.fit_on_texts(df_aam['notes'].values)\n",
    "X = tokenizer.texts_to_sequences(df_aam['notes'].values)\n",
    "\n",
    "# Ajoutez la spécification de la longueur maximale de la séquence (input_length) ici\n",
    "X = tf.keras.preprocessing.sequence.pad_sequences(X, maxlen=max_sequence_length)\n",
    "\n",
    "# Affichez la forme de X pour voir la longueur maximale\n",
    "print(\"Shape of X:\", X.shape)\n"
   ]
  }
 ],
 "metadata": {
  "kernelspec": {
   "display_name": "myenv",
   "language": "python",
   "name": "python3"
  },
  "language_info": {
   "codemirror_mode": {
    "name": "ipython",
    "version": 3
   },
   "file_extension": ".py",
   "mimetype": "text/x-python",
   "name": "python",
   "nbconvert_exporter": "python",
   "pygments_lexer": "ipython3",
   "version": "3.10.11"
  }
 },
 "nbformat": 4,
 "nbformat_minor": 2
}
