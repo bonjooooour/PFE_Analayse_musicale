{
 "cells": [
  {
   "cell_type": "code",
   "execution_count": 1,
   "metadata": {},
   "outputs": [],
   "source": [
    "import sqlite3\n",
    "import pandas as pd\n",
    "import numpy as np\n",
    "import re\n",
    "import tensorflow as tf\n",
    "from tensorflow import keras\n",
    "from sklearn.model_selection import train_test_split\n",
    "from tensorflow.keras.layers import Embedding, SpatialDropout1D, Bidirectional, LSTM, Dense\n",
    "from keras_tuner.tuners import RandomSearch, Hyperband"
   ]
  },
  {
   "cell_type": "code",
   "execution_count": 2,
   "metadata": {},
   "outputs": [],
   "source": [
    "import os \n",
    "import pandas as pd\n",
    "from mingus.core import chords\n",
    "from mingus.containers import NoteContainer\n",
    "from mingus.midi import midi_file_out as MidiFileOut"
   ]
  },
  {
   "cell_type": "code",
   "execution_count": 3,
   "metadata": {},
   "outputs": [],
   "source": [
    "dossier_racine = r'C:\\Users\\lucie\\Documents\\Programmation\\AAM-beatinfo'\n",
    "tous_les_fichiers = []"
   ]
  },
  {
   "cell_type": "code",
   "execution_count": 5,
   "metadata": {},
   "outputs": [
    {
     "ename": "AttributeError",
     "evalue": "'list' object has no attribute 'from_shorthand'",
     "output_type": "error",
     "traceback": [
      "\u001b[1;31m---------------------------------------------------------------------------\u001b[0m",
      "\u001b[1;31mAttributeError\u001b[0m                            Traceback (most recent call last)",
      "Cell \u001b[1;32mIn[5], line 26\u001b[0m\n\u001b[0;32m     24\u001b[0m chordName \u001b[38;5;241m=\u001b[39m val[\u001b[38;5;241m-\u001b[39m\u001b[38;5;241m1\u001b[39m]\n\u001b[0;32m     25\u001b[0m chordName \u001b[38;5;241m=\u001b[39m chordName[:\u001b[38;5;241m-\u001b[39m\u001b[38;5;241m2\u001b[39m]\u001b[38;5;241m.\u001b[39mreplace(\u001b[38;5;124m\"\u001b[39m\u001b[38;5;124m'\u001b[39m\u001b[38;5;124m\"\u001b[39m,\u001b[38;5;124m'\u001b[39m\u001b[38;5;124m'\u001b[39m)\n\u001b[1;32m---> 26\u001b[0m seq \u001b[38;5;241m=\u001b[39m \u001b[43mchords\u001b[49m\u001b[38;5;241;43m.\u001b[39;49m\u001b[43mfrom_shorthand\u001b[49m(chordName)\n\u001b[0;32m     27\u001b[0m notes\u001b[38;5;241m.\u001b[39mappend(seq)\n\u001b[0;32m     28\u001b[0m chords\u001b[38;5;241m.\u001b[39mappend(chordName)\n",
      "\u001b[1;31mAttributeError\u001b[0m: 'list' object has no attribute 'from_shorthand'"
     ]
    }
   ],
   "source": [
    "for dossier, sous_dossiers, fichiers in os.walk(dossier_racine):\n",
    "    for fichier in fichiers:\n",
    "        chemin_fichier = os.path.join(dossier, fichier)\n",
    "        tous_les_fichiers.append(chemin_fichier)\n",
    "\n",
    "lignes_list = []\n",
    "\n",
    "for fichier in tous_les_fichiers:\n",
    "    with open(fichier, 'r') as fichier_ouvert:\n",
    "        lignes = fichier_ouvert.readlines()[8:]  # Ignorer les 5 premières lignes\n",
    "        # Faites quelque chose avec le reste des lignes du fichier\n",
    "        # Par exemple, afficher les 5 lignes suivantes de chaque fichier\n",
    "        lignes_list.append(lignes)\n",
    "\n",
    "\n",
    "start = []\n",
    "chords = []\n",
    "notes = []\n",
    "\n",
    "for el in lignes_list:\n",
    "    for var in el:\n",
    "        val = var.split(',')\n",
    "        start.append(val[0])\n",
    "        chordName = val[-1]\n",
    "        chordName = chordName[:-2].replace(\"'\",'')\n",
    "        seq = chords.from_shorthand(chordName)\n",
    "        notes.append(seq)\n",
    "        chords.append(chordName)\n",
    "\n"
   ]
  },
  {
   "cell_type": "code",
   "execution_count": null,
   "metadata": {},
   "outputs": [],
   "source": [
    "import pandas as pd\n",
    "\n",
    "df = pd.DataFrame()\n",
    "df['StartTime'] = start\n",
    "df['Chordsname'] = chords\n",
    "\n",
    "df"
   ]
  },
  {
   "cell_type": "code",
   "execution_count": 4,
   "metadata": {},
   "outputs": [
    {
     "data": {
      "text/html": [
       "<div>\n",
       "<style scoped>\n",
       "    .dataframe tbody tr th:only-of-type {\n",
       "        vertical-align: middle;\n",
       "    }\n",
       "\n",
       "    .dataframe tbody tr th {\n",
       "        vertical-align: top;\n",
       "    }\n",
       "\n",
       "    .dataframe thead th {\n",
       "        text-align: right;\n",
       "    }\n",
       "</style>\n",
       "<table border=\"1\" class=\"dataframe\">\n",
       "  <thead>\n",
       "    <tr style=\"text-align: right;\">\n",
       "      <th></th>\n",
       "      <th>Unnamed: 0</th>\n",
       "      <th>StartTime</th>\n",
       "      <th>Chordsname</th>\n",
       "      <th>notes</th>\n",
       "    </tr>\n",
       "  </thead>\n",
       "  <tbody>\n",
       "    <tr>\n",
       "      <th>0</th>\n",
       "      <td>0</td>\n",
       "      <td>0.652174</td>\n",
       "      <td>Fmaj</td>\n",
       "      <td>['F', 'A', 'C']</td>\n",
       "    </tr>\n",
       "    <tr>\n",
       "      <th>1</th>\n",
       "      <td>1</td>\n",
       "      <td>1.304348</td>\n",
       "      <td>Fmaj</td>\n",
       "      <td>['F', 'A', 'C']</td>\n",
       "    </tr>\n",
       "    <tr>\n",
       "      <th>2</th>\n",
       "      <td>2</td>\n",
       "      <td>1.956522</td>\n",
       "      <td>Fmaj</td>\n",
       "      <td>['F', 'A', 'C']</td>\n",
       "    </tr>\n",
       "    <tr>\n",
       "      <th>3</th>\n",
       "      <td>3</td>\n",
       "      <td>2.608696</td>\n",
       "      <td>A#maj</td>\n",
       "      <td>['A#', 'C##', 'E#']</td>\n",
       "    </tr>\n",
       "    <tr>\n",
       "      <th>4</th>\n",
       "      <td>4</td>\n",
       "      <td>3.260870</td>\n",
       "      <td>A#maj</td>\n",
       "      <td>['A#', 'C##', 'E#']</td>\n",
       "    </tr>\n",
       "    <tr>\n",
       "      <th>...</th>\n",
       "      <td>...</td>\n",
       "      <td>...</td>\n",
       "      <td>...</td>\n",
       "      <td>...</td>\n",
       "    </tr>\n",
       "    <tr>\n",
       "      <th>293307</th>\n",
       "      <td>293307</td>\n",
       "      <td>159.677430</td>\n",
       "      <td>D#min</td>\n",
       "      <td>['D#', 'F#', 'A#']</td>\n",
       "    </tr>\n",
       "    <tr>\n",
       "      <th>293308</th>\n",
       "      <td>293308</td>\n",
       "      <td>160.409130</td>\n",
       "      <td>F#maj</td>\n",
       "      <td>['F#', 'A#', 'C#']</td>\n",
       "    </tr>\n",
       "    <tr>\n",
       "      <th>293309</th>\n",
       "      <td>293309</td>\n",
       "      <td>161.140840</td>\n",
       "      <td>F#maj</td>\n",
       "      <td>['F#', 'A#', 'C#']</td>\n",
       "    </tr>\n",
       "    <tr>\n",
       "      <th>293310</th>\n",
       "      <td>293310</td>\n",
       "      <td>161.872540</td>\n",
       "      <td>F#maj</td>\n",
       "      <td>['F#', 'A#', 'C#']</td>\n",
       "    </tr>\n",
       "    <tr>\n",
       "      <th>293311</th>\n",
       "      <td>293311</td>\n",
       "      <td>162.604250</td>\n",
       "      <td>F#maj</td>\n",
       "      <td>['F#', 'A#', 'C#']</td>\n",
       "    </tr>\n",
       "  </tbody>\n",
       "</table>\n",
       "<p>293312 rows × 4 columns</p>\n",
       "</div>"
      ],
      "text/plain": [
       "        Unnamed: 0   StartTime Chordsname                notes\n",
       "0                0    0.652174       Fmaj      ['F', 'A', 'C']\n",
       "1                1    1.304348       Fmaj      ['F', 'A', 'C']\n",
       "2                2    1.956522       Fmaj      ['F', 'A', 'C']\n",
       "3                3    2.608696      A#maj  ['A#', 'C##', 'E#']\n",
       "4                4    3.260870      A#maj  ['A#', 'C##', 'E#']\n",
       "...            ...         ...        ...                  ...\n",
       "293307      293307  159.677430      D#min   ['D#', 'F#', 'A#']\n",
       "293308      293308  160.409130      F#maj   ['F#', 'A#', 'C#']\n",
       "293309      293309  161.140840      F#maj   ['F#', 'A#', 'C#']\n",
       "293310      293310  161.872540      F#maj   ['F#', 'A#', 'C#']\n",
       "293311      293311  162.604250      F#maj   ['F#', 'A#', 'C#']\n",
       "\n",
       "[293312 rows x 4 columns]"
      ]
     },
     "execution_count": 4,
     "metadata": {},
     "output_type": "execute_result"
    }
   ],
   "source": [
    "df_aam"
   ]
  },
  {
   "cell_type": "code",
   "execution_count": 5,
   "metadata": {},
   "outputs": [
    {
     "data": {
      "text/plain": [
       "array(['A#maj', 'A#min', 'Amaj', 'Amin', 'Bmaj', 'Bmin', 'C#maj', 'C#min',\n",
       "       'Cmaj', 'Cmin', 'D#maj', 'D#min', 'Dmaj', 'Dmin', 'Emaj', 'Emin',\n",
       "       'F#maj', 'F#min', 'Fmaj', 'Fmin', 'G#maj', 'G#min', 'Gmaj', 'Gmin',\n",
       "       'N.C.'], dtype=object)"
      ]
     },
     "execution_count": 5,
     "metadata": {},
     "output_type": "execute_result"
    }
   ],
   "source": [
    "unique_values = np.unique(df_aam['Chordsname'])\n",
    "unique_values"
   ]
  },
  {
   "cell_type": "code",
   "execution_count": 8,
   "metadata": {},
   "outputs": [
    {
     "name": "stdout",
     "output_type": "stream",
     "text": [
      "Shape of X: (293312, 19)\n"
     ]
    }
   ],
   "source": [
    "long = []\n",
    "\n",
    "for val in df_aam['notes']:\n",
    "    long.append(len(val))\n",
    "\n",
    "# La variable max_features devrait contenir la longueur maximale de vos séquences, pas la valeur maximale des longueurs\n",
    "max_sequence_length = np.max(long)\n",
    "\n",
    "tokenizer = tf.keras.preprocessing.text.Tokenizer(num_words=10, split=',')\n",
    "tokenizer.fit_on_texts(df_aam['notes'].values)\n",
    "X = tokenizer.texts_to_sequences(df_aam['notes'].values)\n",
    "\n",
    "# Ajoutez la spécification de la longueur maximale de la séquence (input_length) ici\n",
    "X = tf.keras.preprocessing.sequence.pad_sequences(X, maxlen=max_sequence_length)\n",
    "\n",
    "# Affichez la forme de X pour voir la longueur maximale\n",
    "print(\"Shape of X:\", X.shape)\n"
   ]
  },
  {
   "cell_type": "code",
   "execution_count": 7,
   "metadata": {},
   "outputs": [
    {
     "data": {
      "text/plain": [
       "19"
      ]
     },
     "execution_count": 7,
     "metadata": {},
     "output_type": "execute_result"
    }
   ],
   "source": [
    "max_features"
   ]
  }
 ],
 "metadata": {
  "kernelspec": {
   "display_name": "myenv",
   "language": "python",
   "name": "python3"
  },
  "language_info": {
   "codemirror_mode": {
    "name": "ipython",
    "version": 3
   },
   "file_extension": ".py",
   "mimetype": "text/x-python",
   "name": "python",
   "nbconvert_exporter": "python",
   "pygments_lexer": "ipython3",
   "version": "3.10.11"
  }
 },
 "nbformat": 4,
 "nbformat_minor": 2
}
