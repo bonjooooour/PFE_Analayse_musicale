{
 "cells": [
  {
   "cell_type": "code",
   "execution_count": 1,
   "metadata": {},
   "outputs": [],
   "source": [
    "import sqlite3\n",
    "import pandas as pd\n",
    "import numpy as np\n",
    "import re\n",
    "import tensorflow as tf\n",
    "from tensorflow import keras\n",
    "from sklearn.model_selection import train_test_split\n",
    "from tensorflow.keras.layers import Embedding, SpatialDropout1D, Bidirectional, LSTM, Dense\n",
    "from keras_tuner.tuners import RandomSearch, Hyperband"
   ]
  },
  {
   "cell_type": "code",
   "execution_count": 3,
   "metadata": {},
   "outputs": [],
   "source": [
    "file = r\"C:\\Users\\lucie\\Documents\\Programmation\\PFE_Analayse_musicale\\Chords_analysis\\data\\out.csv\"\n",
    "df_aam = pd.read_csv(file)"
   ]
  },
  {
   "cell_type": "code",
   "execution_count": 5,
   "metadata": {},
   "outputs": [
    {
     "data": {
      "text/html": [
       "<div>\n",
       "<style scoped>\n",
       "    .dataframe tbody tr th:only-of-type {\n",
       "        vertical-align: middle;\n",
       "    }\n",
       "\n",
       "    .dataframe tbody tr th {\n",
       "        vertical-align: top;\n",
       "    }\n",
       "\n",
       "    .dataframe thead th {\n",
       "        text-align: right;\n",
       "    }\n",
       "</style>\n",
       "<table border=\"1\" class=\"dataframe\">\n",
       "  <thead>\n",
       "    <tr style=\"text-align: right;\">\n",
       "      <th></th>\n",
       "      <th>Unnamed: 0</th>\n",
       "      <th>StartTime</th>\n",
       "      <th>Chordsname</th>\n",
       "      <th>notes</th>\n",
       "    </tr>\n",
       "  </thead>\n",
       "  <tbody>\n",
       "    <tr>\n",
       "      <th>0</th>\n",
       "      <td>0</td>\n",
       "      <td>0.652174</td>\n",
       "      <td>Fmaj</td>\n",
       "      <td>['F','A','C']</td>\n",
       "    </tr>\n",
       "    <tr>\n",
       "      <th>1</th>\n",
       "      <td>1</td>\n",
       "      <td>1.304348</td>\n",
       "      <td>Fmaj</td>\n",
       "      <td>['F','A','C']</td>\n",
       "    </tr>\n",
       "    <tr>\n",
       "      <th>2</th>\n",
       "      <td>2</td>\n",
       "      <td>1.956522</td>\n",
       "      <td>Fmaj</td>\n",
       "      <td>['F','A','C']</td>\n",
       "    </tr>\n",
       "    <tr>\n",
       "      <th>3</th>\n",
       "      <td>3</td>\n",
       "      <td>2.608696</td>\n",
       "      <td>A#maj</td>\n",
       "      <td>['A#','C##','E#']</td>\n",
       "    </tr>\n",
       "    <tr>\n",
       "      <th>4</th>\n",
       "      <td>4</td>\n",
       "      <td>3.260870</td>\n",
       "      <td>A#maj</td>\n",
       "      <td>['A#','C##','E#']</td>\n",
       "    </tr>\n",
       "  </tbody>\n",
       "</table>\n",
       "</div>"
      ],
      "text/plain": [
       "   Unnamed: 0  StartTime Chordsname              notes\n",
       "0           0   0.652174       Fmaj      ['F','A','C']\n",
       "1           1   1.304348       Fmaj      ['F','A','C']\n",
       "2           2   1.956522       Fmaj      ['F','A','C']\n",
       "3           3   2.608696      A#maj  ['A#','C##','E#']\n",
       "4           4   3.260870      A#maj  ['A#','C##','E#']"
      ]
     },
     "execution_count": 5,
     "metadata": {},
     "output_type": "execute_result"
    }
   ],
   "source": [
    "df_aam['notes'] = df_aam['notes'].fillna('nan')\n",
    "df_aam['notes'] = df_aam['notes'].str.replace(' ','')\n",
    "df_aam.head()"
   ]
  },
  {
   "cell_type": "code",
   "execution_count": 6,
   "metadata": {},
   "outputs": [
    {
     "data": {
      "text/plain": [
       "array(['A#maj', 'A#min', 'Amaj', 'Amin', 'Bmaj', 'Bmin', 'C#maj', 'C#min',\n",
       "       'Cmaj', 'Cmin', 'D#maj', 'D#min', 'Dmaj', 'Dmin', 'Emaj', 'Emin',\n",
       "       'F#maj', 'F#min', 'Fmaj', 'Fmin', 'G#maj', 'G#min', 'Gmaj', 'Gmin',\n",
       "       'N.C.'], dtype=object)"
      ]
     },
     "execution_count": 6,
     "metadata": {},
     "output_type": "execute_result"
    }
   ],
   "source": [
    "unique_values = np.unique(df_aam['Chordsname'])\n",
    "unique_values"
   ]
  },
  {
   "cell_type": "code",
   "execution_count": 7,
   "metadata": {},
   "outputs": [
    {
     "name": "stdout",
     "output_type": "stream",
     "text": [
      "Shape of X: (293312, 17)\n"
     ]
    }
   ],
   "source": [
    "long = []\n",
    "\n",
    "for val in df_aam['notes']:\n",
    "    long.append(len(val))\n",
    "\n",
    "# La variable max_features devrait contenir la longueur maximale de vos séquences, pas la valeur maximale des longueurs\n",
    "max_sequence_length = np.max(long)\n",
    "\n",
    "tokenizer = tf.keras.preprocessing.text.Tokenizer(num_words=10, split=',')\n",
    "tokenizer.fit_on_texts(df_aam['notes'].values)\n",
    "X = tokenizer.texts_to_sequences(df_aam['notes'].values)\n",
    "\n",
    "# Ajoutez la spécification de la longueur maximale de la séquence (input_length) ici\n",
    "X = tf.keras.preprocessing.sequence.pad_sequences(X, maxlen=max_sequence_length)\n",
    "\n",
    "# Affichez la forme de X pour voir la longueur maximale\n",
    "print(\"Shape of X:\", X.shape)\n"
   ]
  },
  {
   "cell_type": "code",
   "execution_count": null,
   "metadata": {},
   "outputs": [],
   "source": [
    "max_features"
   ]
  }
 ],
 "metadata": {
  "kernelspec": {
   "display_name": "myenv",
   "language": "python",
   "name": "python3"
  },
  "language_info": {
   "codemirror_mode": {
    "name": "ipython",
    "version": 3
   },
   "file_extension": ".py",
   "mimetype": "text/x-python",
   "name": "python",
   "nbconvert_exporter": "python",
   "pygments_lexer": "ipython3",
   "version": "3.10.11"
  }
 },
 "nbformat": 4,
 "nbformat_minor": 2
}
