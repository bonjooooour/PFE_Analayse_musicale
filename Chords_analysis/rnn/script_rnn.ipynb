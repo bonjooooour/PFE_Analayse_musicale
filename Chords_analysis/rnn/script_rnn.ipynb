{
 "cells": [
  {
   "cell_type": "code",
   "execution_count": 3,
   "metadata": {},
   "outputs": [
    {
     "name": "stdout",
     "output_type": "stream",
     "text": [
      "     Good_chords                       notes\n",
      "0             NM                         nan\n",
      "1             EM            ['E', 'G#', 'B']\n",
      "2             AM            ['A', 'C#', 'E']\n",
      "3             EM            ['E', 'G#', 'B']\n",
      "4             BM           ['B', 'D#', 'F#']\n",
      "...          ...                         ...\n",
      "1006          AM            ['A', 'C#', 'E']\n",
      "1007          AM            ['A', 'C#', 'E']\n",
      "1008          DM            ['D', 'F#', 'A']\n",
      "1009          D9  ['D', 'F#', 'A', 'C', 'E']\n",
      "1010          NM                         nan\n",
      "\n",
      "[1011 rows x 2 columns]\n"
     ]
    }
   ],
   "source": [
    "import sqlite3\n",
    "import pandas as pd\n",
    "\n",
    "# Remplacez \"ma_base_de_donnees.db\" par le nom de votre base de données SQLite\n",
    "nom_base_de_donnees = \"ma_base_de_donnees.db\"\n",
    "\n",
    "# Colones que vous souhaitez récupérer\n",
    "colonne1 = \"Good_chords\"\n",
    "colonne2 = \"notes\"\n",
    "\n",
    "# Initialisation d'un DataFrame vide\n",
    "df = pd.DataFrame()\n",
    "\n",
    "# Connexion à la base de données\n",
    "connexion = sqlite3.connect(nom_base_de_donnees)\n",
    "\n",
    "# Obtenez la liste des tables disponibles dans la base de données\n",
    "tables_query = \"SELECT name FROM sqlite_master WHERE type='table';\"\n",
    "tables = pd.read_sql_query(tables_query, connexion)['name']\n",
    "\n",
    "# Boucle à travers les tables et récupération des données\n",
    "for nom_table in tables:\n",
    "    requete_sql = f\"SELECT {colonne1}, {colonne2} FROM \\\"{nom_table}\\\"\"\n",
    "    table_df = pd.read_sql_query(requete_sql, connexion)\n",
    "    \n",
    "    # Fusionner le DataFrame actuel avec le DataFrame de la table courante\n",
    "    df = pd.concat([df, table_df], ignore_index=True)\n",
    "\n",
    "# Affichage du DataFrame combiné\n",
    "print(df)\n",
    "\n",
    "# Fermeture de la connexion\n",
    "connexion.close()\n"
   ]
  },
  {
   "cell_type": "code",
   "execution_count": 4,
   "metadata": {},
   "outputs": [
    {
     "data": {
      "text/html": [
       "<div>\n",
       "<style scoped>\n",
       "    .dataframe tbody tr th:only-of-type {\n",
       "        vertical-align: middle;\n",
       "    }\n",
       "\n",
       "    .dataframe tbody tr th {\n",
       "        vertical-align: top;\n",
       "    }\n",
       "\n",
       "    .dataframe thead th {\n",
       "        text-align: right;\n",
       "    }\n",
       "</style>\n",
       "<table border=\"1\" class=\"dataframe\">\n",
       "  <thead>\n",
       "    <tr style=\"text-align: right;\">\n",
       "      <th></th>\n",
       "      <th>Good_chords</th>\n",
       "      <th>notes</th>\n",
       "    </tr>\n",
       "  </thead>\n",
       "  <tbody>\n",
       "    <tr>\n",
       "      <th>0</th>\n",
       "      <td>NM</td>\n",
       "      <td>nan</td>\n",
       "    </tr>\n",
       "    <tr>\n",
       "      <th>1</th>\n",
       "      <td>EM</td>\n",
       "      <td>['E', 'G#', 'B']</td>\n",
       "    </tr>\n",
       "    <tr>\n",
       "      <th>2</th>\n",
       "      <td>AM</td>\n",
       "      <td>['A', 'C#', 'E']</td>\n",
       "    </tr>\n",
       "    <tr>\n",
       "      <th>3</th>\n",
       "      <td>EM</td>\n",
       "      <td>['E', 'G#', 'B']</td>\n",
       "    </tr>\n",
       "    <tr>\n",
       "      <th>4</th>\n",
       "      <td>BM</td>\n",
       "      <td>['B', 'D#', 'F#']</td>\n",
       "    </tr>\n",
       "  </tbody>\n",
       "</table>\n",
       "</div>"
      ],
      "text/plain": [
       "  Good_chords              notes\n",
       "0          NM                nan\n",
       "1          EM   ['E', 'G#', 'B']\n",
       "2          AM   ['A', 'C#', 'E']\n",
       "3          EM   ['E', 'G#', 'B']\n",
       "4          BM  ['B', 'D#', 'F#']"
      ]
     },
     "execution_count": 4,
     "metadata": {},
     "output_type": "execute_result"
    }
   ],
   "source": [
    "df.head()"
   ]
  },
  {
   "cell_type": "code",
   "execution_count": null,
   "metadata": {},
   "outputs": [],
   "source": [
    "type()"
   ]
  },
  {
   "cell_type": "code",
   "execution_count": 5,
   "metadata": {},
   "outputs": [
    {
     "data": {
      "text/plain": [
       "array([\"['A', 'C#', 'E', 'G#']\", \"['A', 'C#', 'E', 'G']\",\n",
       "       \"['A', 'C#', 'E']\", \"['A', 'C', 'E']\", \"['B', 'D#', 'F#', 'A']\",\n",
       "       \"['B', 'D#', 'F#', 'G#']\", \"['B', 'D#', 'F#']\", \"['B', 'D', 'F#']\",\n",
       "       \"['Bb', 'D', 'F', 'Ab']\", \"['Bb', 'D', 'F']\",\n",
       "       \"['C#', 'E#', 'G#', 'B']\", \"['C#', 'E', 'G#']\",\n",
       "       \"['C', 'A', 'C', 'E']\", \"['C', 'E', 'G']\", \"['C', 'Eb', 'G', 'A']\",\n",
       "       \"['D', 'F#', 'A', 'C', 'E']\", \"['D', 'F#', 'A']\",\n",
       "       \"['E', 'A', 'C#', 'E', 'G#']\", \"['E', 'D', 'F#', 'A']\",\n",
       "       \"['E', 'G#', 'B#']\", \"['E', 'G#', 'B', 'D#']\",\n",
       "       \"['E', 'G#', 'B', 'D', 'F#']\", \"['E', 'G#', 'B', 'D']\",\n",
       "       \"['E', 'G#', 'B']\", \"['E', 'G', 'B']\",\n",
       "       \"['Eb', 'G', 'Bb', 'Db', 'F']\", \"['Eb', 'G', 'Bb', 'Db']\",\n",
       "       \"['Eb', 'G', 'Bb']\", \"['Eb', 'Gb', 'Bb']\",\n",
       "       \"['F#', 'A#', 'C#', 'E', 'G#']\", \"['F#', 'A#', 'C#']\",\n",
       "       \"['F#', 'A', 'C#', 'E#']\", \"['F#', 'A', 'C#', 'E']\",\n",
       "       \"['F#', 'A', 'C#']\", \"['F#', 'D', 'F#', 'A']\",\n",
       "       \"['F', 'A', 'C', 'Eb', 'G']\", \"['F', 'A', 'C']\",\n",
       "       \"['G#', 'B#', 'D#']\", \"['G#', 'B', 'D#', 'F#']\",\n",
       "       \"['G#', 'B', 'D#']\", \"['G#', 'C#', 'E', 'G#']\",\n",
       "       \"['G#', 'E', 'G#', 'B', 'D']\", \"['G', 'B', 'D']\",\n",
       "       \"['G', 'Bb', 'D']\", 'nan'], dtype=object)"
      ]
     },
     "execution_count": 5,
     "metadata": {},
     "output_type": "execute_result"
    }
   ],
   "source": [
    "import numpy as np\n",
    "notes = np.unique(df['notes'])\n",
    "notes"
   ]
  },
  {
   "cell_type": "code",
   "execution_count": 34,
   "metadata": {},
   "outputs": [],
   "source": [
    "import re\n",
    "import tensorflow as tf\n",
    "\n",
    "max_features = 4000\n",
    "tokenizer = tf.keras.preprocessing.text.Tokenizer(num_words=max_features, split=' ')\n",
    "tokenizer.fit_on_texts(df['notes'].values)\n",
    "X = tokenizer.texts_to_sequences(df['notes'].values)\n",
    "X = tf.keras.preprocessing.sequence.pad_sequences(X) "
   ]
  },
  {
   "cell_type": "code",
   "execution_count": 35,
   "metadata": {},
   "outputs": [
    {
     "data": {
      "text/plain": [
       "array([0, 0, 0, 0, 0, 2, 9, 1, 3])"
      ]
     },
     "execution_count": 35,
     "metadata": {},
     "output_type": "execute_result"
    }
   ],
   "source": [
    "X[1]"
   ]
  },
  {
   "cell_type": "code",
   "execution_count": 36,
   "metadata": {},
   "outputs": [
    {
     "data": {
      "text/plain": [
       "(1011, 9)"
      ]
     },
     "execution_count": 36,
     "metadata": {},
     "output_type": "execute_result"
    }
   ],
   "source": [
    "X.shape"
   ]
  },
  {
   "cell_type": "code",
   "execution_count": 37,
   "metadata": {},
   "outputs": [],
   "source": [
    "import numpy as np\n",
    "nb_classe = len(np.unique(df['Good_chords']))"
   ]
  },
  {
   "cell_type": "code",
   "execution_count": 38,
   "metadata": {},
   "outputs": [],
   "source": [
    "classes = np.unique(df['Good_chords'])"
   ]
  },
  {
   "cell_type": "code",
   "execution_count": 39,
   "metadata": {},
   "outputs": [
    {
     "name": "stdout",
     "output_type": "stream",
     "text": [
      "Model: \"sequential_1\"\n",
      "_________________________________________________________________\n",
      " Layer (type)                Output Shape              Param #   \n",
      "=================================================================\n",
      " embedding_1 (Embedding)     (None, 9, 300)            1200000   \n",
      "                                                                 \n",
      " spatial_dropout1d_1 (Spati  (None, 9, 300)            0         \n",
      " alDropout1D)                                                    \n",
      "                                                                 \n",
      " bidirectional_1 (Bidirecti  (None, 392)               779296    \n",
      " onal)                                                           \n",
      "                                                                 \n",
      " dense_1 (Dense)             (None, 45)                17685     \n",
      "                                                                 \n",
      "=================================================================\n",
      "Total params: 1996981 (7.62 MB)\n",
      "Trainable params: 1996981 (7.62 MB)\n",
      "Non-trainable params: 0 (0.00 Byte)\n",
      "_________________________________________________________________\n"
     ]
    }
   ],
   "source": [
    "embed_dim = 300  # la dim sans affceter la qualité des résultats, reduire la taille du dataset. \n",
    "lstm_out = 196\n",
    "\n",
    "model = tf.keras.Sequential()\n",
    "model.add(tf.keras.layers.Embedding(max_features, embed_dim, input_length = X.shape[1]))\n",
    "model.add(tf.keras.layers.SpatialDropout1D(0.4))\n",
    "model.add(tf.keras.layers.Bidirectional(tf.keras.layers.LSTM(lstm_out, dropout=0.05, recurrent_dropout=0.2)))\n",
    "model.add(tf.keras.layers.Dense(nb_classe, activation='softmax'))\n",
    "model.compile(loss = 'categorical_crossentropy', optimizer='adam', metrics = ['accuracy'])\n",
    "\n",
    "model.summary()"
   ]
  },
  {
   "cell_type": "code",
   "execution_count": 40,
   "metadata": {},
   "outputs": [
    {
     "data": {
      "text/html": [
       "<div>\n",
       "<style scoped>\n",
       "    .dataframe tbody tr th:only-of-type {\n",
       "        vertical-align: middle;\n",
       "    }\n",
       "\n",
       "    .dataframe tbody tr th {\n",
       "        vertical-align: top;\n",
       "    }\n",
       "\n",
       "    .dataframe thead th {\n",
       "        text-align: right;\n",
       "    }\n",
       "</style>\n",
       "<table border=\"1\" class=\"dataframe\">\n",
       "  <thead>\n",
       "    <tr style=\"text-align: right;\">\n",
       "      <th></th>\n",
       "      <th>A7</th>\n",
       "      <th>AM</th>\n",
       "      <th>Amaj7</th>\n",
       "      <th>Amaj7/E</th>\n",
       "      <th>Amin</th>\n",
       "      <th>Amin/C</th>\n",
       "      <th>B7</th>\n",
       "      <th>BM</th>\n",
       "      <th>Bb7</th>\n",
       "      <th>BbM</th>\n",
       "      <th>...</th>\n",
       "      <th>F#min7</th>\n",
       "      <th>F#minmaj7</th>\n",
       "      <th>F9</th>\n",
       "      <th>FM</th>\n",
       "      <th>G#M</th>\n",
       "      <th>G#min</th>\n",
       "      <th>G#min7</th>\n",
       "      <th>GM</th>\n",
       "      <th>Gmin</th>\n",
       "      <th>NM</th>\n",
       "    </tr>\n",
       "  </thead>\n",
       "  <tbody>\n",
       "    <tr>\n",
       "      <th>0</th>\n",
       "      <td>False</td>\n",
       "      <td>False</td>\n",
       "      <td>False</td>\n",
       "      <td>False</td>\n",
       "      <td>False</td>\n",
       "      <td>False</td>\n",
       "      <td>False</td>\n",
       "      <td>False</td>\n",
       "      <td>False</td>\n",
       "      <td>False</td>\n",
       "      <td>...</td>\n",
       "      <td>False</td>\n",
       "      <td>False</td>\n",
       "      <td>False</td>\n",
       "      <td>False</td>\n",
       "      <td>False</td>\n",
       "      <td>False</td>\n",
       "      <td>False</td>\n",
       "      <td>False</td>\n",
       "      <td>False</td>\n",
       "      <td>True</td>\n",
       "    </tr>\n",
       "    <tr>\n",
       "      <th>1</th>\n",
       "      <td>False</td>\n",
       "      <td>False</td>\n",
       "      <td>False</td>\n",
       "      <td>False</td>\n",
       "      <td>False</td>\n",
       "      <td>False</td>\n",
       "      <td>False</td>\n",
       "      <td>False</td>\n",
       "      <td>False</td>\n",
       "      <td>False</td>\n",
       "      <td>...</td>\n",
       "      <td>False</td>\n",
       "      <td>False</td>\n",
       "      <td>False</td>\n",
       "      <td>False</td>\n",
       "      <td>False</td>\n",
       "      <td>False</td>\n",
       "      <td>False</td>\n",
       "      <td>False</td>\n",
       "      <td>False</td>\n",
       "      <td>False</td>\n",
       "    </tr>\n",
       "    <tr>\n",
       "      <th>2</th>\n",
       "      <td>False</td>\n",
       "      <td>True</td>\n",
       "      <td>False</td>\n",
       "      <td>False</td>\n",
       "      <td>False</td>\n",
       "      <td>False</td>\n",
       "      <td>False</td>\n",
       "      <td>False</td>\n",
       "      <td>False</td>\n",
       "      <td>False</td>\n",
       "      <td>...</td>\n",
       "      <td>False</td>\n",
       "      <td>False</td>\n",
       "      <td>False</td>\n",
       "      <td>False</td>\n",
       "      <td>False</td>\n",
       "      <td>False</td>\n",
       "      <td>False</td>\n",
       "      <td>False</td>\n",
       "      <td>False</td>\n",
       "      <td>False</td>\n",
       "    </tr>\n",
       "    <tr>\n",
       "      <th>3</th>\n",
       "      <td>False</td>\n",
       "      <td>False</td>\n",
       "      <td>False</td>\n",
       "      <td>False</td>\n",
       "      <td>False</td>\n",
       "      <td>False</td>\n",
       "      <td>False</td>\n",
       "      <td>False</td>\n",
       "      <td>False</td>\n",
       "      <td>False</td>\n",
       "      <td>...</td>\n",
       "      <td>False</td>\n",
       "      <td>False</td>\n",
       "      <td>False</td>\n",
       "      <td>False</td>\n",
       "      <td>False</td>\n",
       "      <td>False</td>\n",
       "      <td>False</td>\n",
       "      <td>False</td>\n",
       "      <td>False</td>\n",
       "      <td>False</td>\n",
       "    </tr>\n",
       "    <tr>\n",
       "      <th>4</th>\n",
       "      <td>False</td>\n",
       "      <td>False</td>\n",
       "      <td>False</td>\n",
       "      <td>False</td>\n",
       "      <td>False</td>\n",
       "      <td>False</td>\n",
       "      <td>False</td>\n",
       "      <td>True</td>\n",
       "      <td>False</td>\n",
       "      <td>False</td>\n",
       "      <td>...</td>\n",
       "      <td>False</td>\n",
       "      <td>False</td>\n",
       "      <td>False</td>\n",
       "      <td>False</td>\n",
       "      <td>False</td>\n",
       "      <td>False</td>\n",
       "      <td>False</td>\n",
       "      <td>False</td>\n",
       "      <td>False</td>\n",
       "      <td>False</td>\n",
       "    </tr>\n",
       "  </tbody>\n",
       "</table>\n",
       "<p>5 rows × 45 columns</p>\n",
       "</div>"
      ],
      "text/plain": [
       "      A7     AM  Amaj7  Amaj7/E   Amin  Amin/C     B7     BM    Bb7    BbM  \\\n",
       "0  False  False  False    False  False   False  False  False  False  False   \n",
       "1  False  False  False    False  False   False  False  False  False  False   \n",
       "2  False   True  False    False  False   False  False  False  False  False   \n",
       "3  False  False  False    False  False   False  False  False  False  False   \n",
       "4  False  False  False    False  False   False  False   True  False  False   \n",
       "\n",
       "   ...  F#min7  F#minmaj7     F9     FM    G#M  G#min  G#min7     GM   Gmin  \\\n",
       "0  ...   False      False  False  False  False  False   False  False  False   \n",
       "1  ...   False      False  False  False  False  False   False  False  False   \n",
       "2  ...   False      False  False  False  False  False   False  False  False   \n",
       "3  ...   False      False  False  False  False  False   False  False  False   \n",
       "4  ...   False      False  False  False  False  False   False  False  False   \n",
       "\n",
       "      NM  \n",
       "0   True  \n",
       "1  False  \n",
       "2  False  \n",
       "3  False  \n",
       "4  False  \n",
       "\n",
       "[5 rows x 45 columns]"
      ]
     },
     "execution_count": 40,
     "metadata": {},
     "output_type": "execute_result"
    }
   ],
   "source": [
    "from sklearn.model_selection import train_test_split\n",
    "import numpy as np\n",
    "Y = pd.get_dummies(df['Good_chords'])\n",
    "Y.head()"
   ]
  },
  {
   "cell_type": "code",
   "execution_count": 41,
   "metadata": {},
   "outputs": [],
   "source": [
    "Y = Y.values"
   ]
  },
  {
   "cell_type": "code",
   "execution_count": 42,
   "metadata": {},
   "outputs": [
    {
     "name": "stdout",
     "output_type": "stream",
     "text": [
      "(677, 9) (677, 45)\n",
      "(334, 9) (334, 45)\n"
     ]
    }
   ],
   "source": [
    "X_train, X_test, Y_train, Y_test = train_test_split(X, Y, test_size = 0.33, random_state = 42)\n",
    "print(X_train.shape, Y_train.shape)\n",
    "print(X_test.shape, Y_test.shape)"
   ]
  },
  {
   "cell_type": "code",
   "execution_count": 43,
   "metadata": {},
   "outputs": [
    {
     "name": "stdout",
     "output_type": "stream",
     "text": [
      "Epoch 1/20\n",
      "4/4 - 10s - loss: 3.7457 - accuracy: 0.2326 - val_loss: 3.6151 - val_accuracy: 0.4559 - 10s/epoch - 2s/step\n",
      "Epoch 2/20\n",
      "4/4 - 1s - loss: 3.4828 - accuracy: 0.3404 - val_loss: 3.2006 - val_accuracy: 0.2500 - 643ms/epoch - 161ms/step\n",
      "Epoch 3/20\n",
      "4/4 - 1s - loss: 2.9381 - accuracy: 0.2516 - val_loss: 3.0312 - val_accuracy: 0.2500 - 591ms/epoch - 148ms/step\n",
      "Epoch 4/20\n",
      "4/4 - 1s - loss: 2.8122 - accuracy: 0.3298 - val_loss: 2.7413 - val_accuracy: 0.4559 - 621ms/epoch - 155ms/step\n",
      "Epoch 5/20\n",
      "4/4 - 1s - loss: 2.5740 - accuracy: 0.5053 - val_loss: 2.5795 - val_accuracy: 0.5441 - 628ms/epoch - 157ms/step\n",
      "Epoch 6/20\n",
      "4/4 - 1s - loss: 2.4264 - accuracy: 0.5370 - val_loss: 2.3422 - val_accuracy: 0.5441 - 631ms/epoch - 158ms/step\n",
      "Epoch 7/20\n",
      "4/4 - 1s - loss: 2.1516 - accuracy: 0.5328 - val_loss: 2.0787 - val_accuracy: 0.5441 - 615ms/epoch - 154ms/step\n",
      "Epoch 8/20\n",
      "4/4 - 1s - loss: 1.8183 - accuracy: 0.5772 - val_loss: 1.7790 - val_accuracy: 0.5686 - 615ms/epoch - 154ms/step\n",
      "Epoch 9/20\n",
      "4/4 - 1s - loss: 1.4807 - accuracy: 0.6385 - val_loss: 1.4485 - val_accuracy: 0.6716 - 627ms/epoch - 157ms/step\n",
      "Epoch 10/20\n",
      "4/4 - 1s - loss: 1.1834 - accuracy: 0.7336 - val_loss: 1.2128 - val_accuracy: 0.7549 - 626ms/epoch - 156ms/step\n",
      "Epoch 11/20\n",
      "4/4 - 1s - loss: 0.9612 - accuracy: 0.7738 - val_loss: 1.0325 - val_accuracy: 0.7696 - 621ms/epoch - 155ms/step\n",
      "Epoch 12/20\n",
      "4/4 - 1s - loss: 0.7865 - accuracy: 0.8140 - val_loss: 0.8836 - val_accuracy: 0.8333 - 625ms/epoch - 156ms/step\n",
      "Epoch 13/20\n",
      "4/4 - 1s - loss: 0.6547 - accuracy: 0.8203 - val_loss: 0.7447 - val_accuracy: 0.8480 - 621ms/epoch - 155ms/step\n",
      "Epoch 14/20\n",
      "4/4 - 1s - loss: 0.5408 - accuracy: 0.8499 - val_loss: 0.6521 - val_accuracy: 0.8480 - 608ms/epoch - 152ms/step\n",
      "Epoch 15/20\n",
      "4/4 - 1s - loss: 0.4483 - accuracy: 0.8922 - val_loss: 0.5799 - val_accuracy: 0.8922 - 623ms/epoch - 156ms/step\n",
      "Epoch 16/20\n",
      "4/4 - 1s - loss: 0.3710 - accuracy: 0.9112 - val_loss: 0.5017 - val_accuracy: 0.8971 - 617ms/epoch - 154ms/step\n",
      "Epoch 17/20\n",
      "4/4 - 1s - loss: 0.2998 - accuracy: 0.9260 - val_loss: 0.4262 - val_accuracy: 0.9167 - 617ms/epoch - 154ms/step\n",
      "Epoch 18/20\n",
      "4/4 - 1s - loss: 0.2482 - accuracy: 0.9493 - val_loss: 0.3897 - val_accuracy: 0.9363 - 605ms/epoch - 151ms/step\n",
      "Epoch 19/20\n",
      "4/4 - 1s - loss: 0.2087 - accuracy: 0.9598 - val_loss: 0.3332 - val_accuracy: 0.9363 - 607ms/epoch - 152ms/step\n",
      "Epoch 20/20\n",
      "4/4 - 1s - loss: 0.1680 - accuracy: 0.9746 - val_loss: 0.3024 - val_accuracy: 0.9363 - 616ms/epoch - 154ms/step\n"
     ]
    }
   ],
   "source": [
    "history = model.fit(X_train, Y_train, epochs=20, batch_size=128, verbose=2,validation_split=0.3)"
   ]
  },
  {
   "cell_type": "code",
   "execution_count": 44,
   "metadata": {},
   "outputs": [
    {
     "data": {
      "image/png": "[encoded data removed]",
      "text/plain": [
       "<Figure size 1200x400 with 2 Axes>"
      ]
     },
     "metadata": {},
     "output_type": "display_data"
    }
   ],
   "source": [
    "import matplotlib.pyplot as plt\n",
    "\n",
    "\n",
    "# Créez une figure avec une grille de sous-graphiques 1x2\n",
    "fig, axs = plt.subplots(1, 2, figsize=(12, 4))  # Ajustez la taille de la figure selon vos besoins\n",
    "\n",
    "# Premier sous-graphique (précisez le nombre d'époques dans 'range(len(history1['accuracy']))')\n",
    "axs[0].plot(range(len(history.history['accuracy'])), history.history['accuracy'], label='train')\n",
    "axs[0].plot(range(len(history.history['val_accuracy'])), history.history['val_accuracy'], label='validation')\n",
    "axs[0].set_title('Model Accuracy (Model 1)')\n",
    "axs[0].set_ylabel('Accuracy')\n",
    "axs[0].set_xlabel('Epoch')\n",
    "axs[0].legend(loc='upper left')\n",
    "\n",
    "axs[1].plot(range(len(history.history['loss'])), history.history['loss'], label='train')\n",
    "axs[1].plot(range(len(history.history['val_loss'])), history.history['val_loss'], label='validation')\n",
    "axs[1].set_title('Model Loss (Model 1)')\n",
    "axs[1].set_ylabel('Loss')\n",
    "axs[1].set_xlabel('Epoch')\n",
    "axs[1].legend(loc='upper left')\n",
    "\n",
    "# Ajustez l'espacement entre les sous-graphiques\n",
    "plt.tight_layout()\n",
    "\n",
    "# Affichez la figure\n",
    "plt.show()\n"
   ]
  },
  {
   "cell_type": "code",
   "execution_count": 61,
   "metadata": {},
   "outputs": [
    {
     "name": "stdout",
     "output_type": "stream",
     "text": [
      "6/6 - 0s - loss: 0.4677 - accuracy: 0.9371 - 169ms/epoch - 28ms/step\n",
      "score: 0.47\n",
      "acc: 0.94\n"
     ]
    }
   ],
   "source": [
    "score, acc = model.evaluate(X_test, Y_test, verbose=2, batch_size=64)\n",
    "print(\"score: %.2f\" % (score))\n",
    "print(\"acc: %.2f\" % (acc))"
   ]
  },
  {
   "cell_type": "code",
   "execution_count": 46,
   "metadata": {},
   "outputs": [
    {
     "name": "stdout",
     "output_type": "stream",
     "text": [
      "1/1 [==============================] - 1s 574ms/step\n",
      "Séquence 1 - Classe prédite : BM\n",
      "Séquence 2 - Classe prédite : CM\n",
      "Séquence 3 - Classe prédite : AM\n"
     ]
    }
   ],
   "source": [
    "import numpy as np\n",
    "\n",
    "# Supposons que vous avez plusieurs séquences dans twt\n",
    "twt = [\"['B', 'D#', 'F#']\", \"['C', 'E', 'G']\", \"['A', 'C#', 'E']\"]\n",
    "\n",
    "# Convertissez les séquences en représentations numériques\n",
    "twt_sequences = tokenizer.texts_to_sequences(twt)\n",
    "\n",
    "# Remplacez les valeurs manquantes par des zéros\n",
    "twt_padded = tf.keras.preprocessing.sequence.pad_sequences(twt_sequences, maxlen=X.shape[1], dtype='int32', value=0)\n",
    "\n",
    "# Effectuez la prédiction avec votre modèle\n",
    "predictions = model.predict(twt_padded, batch_size=len(twt))\n",
    "\n",
    "\n",
    "# Affichez les résultats pour chaque séquence\n",
    "for i, prediction in enumerate(predictions):\n",
    "    predicted_class_index = np.argmax(prediction)\n",
    "    predicted_class = classes[predicted_class_index]\n",
    "    print(f\"Séquence {i+1} - Classe prédite : {predicted_class}\")\n"
   ]
  },
  {
   "cell_type": "code",
   "execution_count": 47,
   "metadata": {},
   "outputs": [],
   "source": [
    "import conversion_notes\n",
    "\n",
    "\n",
    "dossier_test = r\"C:\\Users\\lucie\\Documents\\Programmation\\Beatles\\test\"\n",
    "\n",
    "dataframe_test = conversion_notes.create_df(dossier_test)\n",
    "res = conversion_notes.cleaning_df(dataframe_test)"
   ]
  },
  {
   "cell_type": "code",
   "execution_count": 48,
   "metadata": {},
   "outputs": [
    {
     "data": {
      "text/html": [
       "<div>\n",
       "<style scoped>\n",
       "    .dataframe tbody tr th:only-of-type {\n",
       "        vertical-align: middle;\n",
       "    }\n",
       "\n",
       "    .dataframe tbody tr th {\n",
       "        vertical-align: top;\n",
       "    }\n",
       "\n",
       "    .dataframe thead th {\n",
       "        text-align: right;\n",
       "    }\n",
       "</style>\n",
       "<table border=\"1\" class=\"dataframe\">\n",
       "  <thead>\n",
       "    <tr style=\"text-align: right;\">\n",
       "      <th></th>\n",
       "      <th>start</th>\n",
       "      <th>end</th>\n",
       "      <th>chords</th>\n",
       "      <th>NomFichier</th>\n",
       "      <th>Decompo</th>\n",
       "      <th>Good_chords</th>\n",
       "      <th>notes</th>\n",
       "      <th>taille_sequence</th>\n",
       "    </tr>\n",
       "  </thead>\n",
       "  <tbody>\n",
       "    <tr>\n",
       "      <th>0</th>\n",
       "      <td>0.000000</td>\n",
       "      <td>1.072266</td>\n",
       "      <td>N</td>\n",
       "      <td>It_Won't_Be_Long</td>\n",
       "      <td>['N', 'M', ' ']</td>\n",
       "      <td>NM</td>\n",
       "      <td>nan</td>\n",
       "      <td>NaN</td>\n",
       "    </tr>\n",
       "    <tr>\n",
       "      <th>1</th>\n",
       "      <td>1.072266</td>\n",
       "      <td>1.773285</td>\n",
       "      <td>F#</td>\n",
       "      <td>It_Won't_Be_Long</td>\n",
       "      <td>['F#', 'M', ' ']</td>\n",
       "      <td>F#M</td>\n",
       "      <td>['F#', 'A#', 'C#']</td>\n",
       "      <td>3.0</td>\n",
       "    </tr>\n",
       "    <tr>\n",
       "      <th>2</th>\n",
       "      <td>1.773285</td>\n",
       "      <td>5.216719</td>\n",
       "      <td>C#:min</td>\n",
       "      <td>It_Won't_Be_Long</td>\n",
       "      <td>['C#', 'min', ' ']</td>\n",
       "      <td>C#min</td>\n",
       "      <td>['C#', 'E', 'G#']</td>\n",
       "      <td>3.0</td>\n",
       "    </tr>\n",
       "    <tr>\n",
       "      <th>3</th>\n",
       "      <td>5.216719</td>\n",
       "      <td>8.757762</td>\n",
       "      <td>E</td>\n",
       "      <td>It_Won't_Be_Long</td>\n",
       "      <td>['E', 'M', ' ']</td>\n",
       "      <td>EM</td>\n",
       "      <td>['E', 'G#', 'B']</td>\n",
       "      <td>3.0</td>\n",
       "    </tr>\n",
       "    <tr>\n",
       "      <th>4</th>\n",
       "      <td>8.757762</td>\n",
       "      <td>10.510869</td>\n",
       "      <td>C#:min</td>\n",
       "      <td>It_Won't_Be_Long</td>\n",
       "      <td>['C#', 'min', ' ']</td>\n",
       "      <td>C#min</td>\n",
       "      <td>['C#', 'E', 'G#']</td>\n",
       "      <td>3.0</td>\n",
       "    </tr>\n",
       "  </tbody>\n",
       "</table>\n",
       "</div>"
      ],
      "text/plain": [
       "      start        end  chords        NomFichier             Decompo  \\\n",
       "0  0.000000   1.072266       N  It_Won't_Be_Long     ['N', 'M', ' ']   \n",
       "1  1.072266   1.773285      F#  It_Won't_Be_Long    ['F#', 'M', ' ']   \n",
       "2  1.773285   5.216719  C#:min  It_Won't_Be_Long  ['C#', 'min', ' ']   \n",
       "3  5.216719   8.757762       E  It_Won't_Be_Long     ['E', 'M', ' ']   \n",
       "4  8.757762  10.510869  C#:min  It_Won't_Be_Long  ['C#', 'min', ' ']   \n",
       "\n",
       "  Good_chords               notes  taille_sequence  \n",
       "0          NM                 nan              NaN  \n",
       "1         F#M  ['F#', 'A#', 'C#']              3.0  \n",
       "2       C#min   ['C#', 'E', 'G#']              3.0  \n",
       "3          EM    ['E', 'G#', 'B']              3.0  \n",
       "4       C#min   ['C#', 'E', 'G#']              3.0  "
      ]
     },
     "execution_count": 48,
     "metadata": {},
     "output_type": "execute_result"
    }
   ],
   "source": [
    "res.head()"
   ]
  },
  {
   "cell_type": "code",
   "execution_count": 49,
   "metadata": {},
   "outputs": [],
   "source": [
    "seq = res['notes']\n",
    "\n",
    "# Convertissez les séquences en représentations numériques\n",
    "twt_sequences = tokenizer.texts_to_sequences(seq)\n",
    "# Remplacez les valeurs manquantes par des zéros\n",
    "twt_padded = tf.keras.preprocessing.sequence.pad_sequences(twt_sequences, maxlen=X.shape[1], dtype='int32', value=0)"
   ]
  },
  {
   "cell_type": "code",
   "execution_count": 56,
   "metadata": {},
   "outputs": [
    {
     "name": "stdout",
     "output_type": "stream",
     "text": [
      "1/1 [==============================] - 0s 69ms/step\n"
     ]
    },
    {
     "name": "stdout",
     "output_type": "stream",
     "text": [
      "Séquence 1 - Classe prédite : NM\n",
      "Séquence 2 - Classe prédite : F#min7\n",
      "Séquence 3 - Classe prédite : C#min\n",
      "Séquence 4 - Classe prédite : EM\n",
      "Séquence 5 - Classe prédite : C#min\n",
      "Séquence 6 - Classe prédite : AM\n",
      "Séquence 7 - Classe prédite : Eb7\n",
      "Séquence 8 - Classe prédite : EM\n",
      "Séquence 9 - Classe prédite : EM\n",
      "Séquence 10 - Classe prédite : EM\n",
      "Séquence 11 - Classe prédite : CM\n",
      "Séquence 12 - Classe prédite : EM\n",
      "Séquence 13 - Classe prédite : EM\n",
      "Séquence 14 - Classe prédite : CM\n",
      "Séquence 15 - Classe prédite : EM\n",
      "Séquence 16 - Classe prédite : EM\n",
      "Séquence 17 - Classe prédite : C#min\n",
      "Séquence 18 - Classe prédite : EM\n",
      "Séquence 19 - Classe prédite : C#min\n",
      "Séquence 20 - Classe prédite : AM\n",
      "Séquence 21 - Classe prédite : Eb7\n",
      "Séquence 22 - Classe prédite : EM\n",
      "Séquence 23 - Classe prédite : EM\n",
      "Séquence 24 - Classe prédite : G#min7\n",
      "Séquence 25 - Classe prédite : Bmin\n",
      "Séquence 26 - Classe prédite : Emaj7\n",
      "Séquence 27 - Classe prédite : AM\n",
      "Séquence 28 - Classe prédite : BM\n",
      "Séquence 29 - Classe prédite : F#min7\n",
      "Séquence 30 - Classe prédite : BM\n",
      "Séquence 31 - Classe prédite : EM\n",
      "Séquence 32 - Classe prédite : CM\n",
      "Séquence 33 - Classe prédite : EM\n",
      "Séquence 34 - Classe prédite : EM\n",
      "Séquence 35 - Classe prédite : CM\n",
      "Séquence 36 - Classe prédite : EM\n",
      "Séquence 37 - Classe prédite : EM\n",
      "Séquence 38 - Classe prédite : C#min\n",
      "Séquence 39 - Classe prédite : EM\n",
      "Séquence 40 - Classe prédite : C#min\n",
      "Séquence 41 - Classe prédite : AM\n",
      "Séquence 42 - Classe prédite : Eb7\n",
      "Séquence 43 - Classe prédite : EM\n",
      "Séquence 44 - Classe prédite : EM\n",
      "Séquence 45 - Classe prédite : EM\n",
      "Séquence 46 - Classe prédite : G#min7\n",
      "Séquence 47 - Classe prédite : Bmin\n",
      "Séquence 48 - Classe prédite : Emaj7\n",
      "Séquence 49 - Classe prédite : AM\n",
      "Séquence 50 - Classe prédite : BM\n",
      "Séquence 51 - Classe prédite : F#min7\n",
      "Séquence 52 - Classe prédite : BM\n",
      "Séquence 53 - Classe prédite : EM\n",
      "Séquence 54 - Classe prédite : CM\n",
      "Séquence 55 - Classe prédite : EM\n",
      "Séquence 56 - Classe prédite : EM\n",
      "Séquence 57 - Classe prédite : CM\n",
      "Séquence 58 - Classe prédite : EM\n",
      "Séquence 59 - Classe prédite : EM\n",
      "Séquence 60 - Classe prédite : C#min\n",
      "Séquence 61 - Classe prédite : EM\n",
      "Séquence 62 - Classe prédite : C#min\n",
      "Séquence 63 - Classe prédite : AM\n",
      "Séquence 64 - Classe prédite : Eb7\n",
      "Séquence 65 - Classe prédite : EM\n",
      "Séquence 66 - Classe prédite : GM\n",
      "Séquence 67 - Classe prédite : F#min7\n",
      "Séquence 68 - Classe prédite : Eb7\n",
      "Séquence 69 - Classe prédite : Emaj7\n",
      "Séquence 70 - Classe prédite : NM\n"
     ]
    }
   ],
   "source": [
    "# Effectuez la prédiction avec votre modèle\n",
    "predictions = model.predict(twt_padded, batch_size=len(seq))\n",
    "pred = []\n",
    "\n",
    "# Affichez les résultats pour chaque séquence\n",
    "for i, prediction in enumerate(predictions):\n",
    "    predicted_class_index = np.argmax(prediction)\n",
    "    predicted_class = classes[predicted_class_index]\n",
    "    pred.append(predicted_class)\n",
    "    print(f\"Séquence {i+1} - Classe prédite : {predicted_class}\")"
   ]
  },
  {
   "cell_type": "code",
   "execution_count": 69,
   "metadata": {},
   "outputs": [
    {
     "data": {
      "text/plain": [
       "80.0"
      ]
     },
     "execution_count": 69,
     "metadata": {},
     "output_type": "execute_result"
    }
   ],
   "source": [
    "count = 0\n",
    "faux_pred = []\n",
    "real = []\n",
    "\n",
    "for i in range(len(pred)):\n",
    "    if pred[i] == res['Good_chords'][i]:\n",
    "        count+=1\n",
    "    else:\n",
    "        faux_pred.append(pred[i])\n",
    "        real.append(res['Good_chords'][i])\n",
    "\n",
    "count/70 * 100"
   ]
  },
  {
   "cell_type": "code",
   "execution_count": 70,
   "metadata": {},
   "outputs": [
    {
     "data": {
      "text/plain": [
       "(['F#min7',\n",
       "  'Eb7',\n",
       "  'Eb7',\n",
       "  'G#min7',\n",
       "  'Bmin',\n",
       "  'Emaj7',\n",
       "  'Eb7',\n",
       "  'G#min7',\n",
       "  'Bmin',\n",
       "  'Emaj7',\n",
       "  'Eb7',\n",
       "  'GM',\n",
       "  'F#min7',\n",
       "  'Eb7'],\n",
       " ['F#M',\n",
       "  'Gdim7',\n",
       "  'Gdim7',\n",
       "  'Baug/D#',\n",
       "  'Bmin/D',\n",
       "  'C#7',\n",
       "  'Gdim7',\n",
       "  'Baug/D#',\n",
       "  'Bmin/D',\n",
       "  'C#7',\n",
       "  'Gdim7',\n",
       "  'G7',\n",
       "  'F#7',\n",
       "  'F7'])"
      ]
     },
     "execution_count": 70,
     "metadata": {},
     "output_type": "execute_result"
    }
   ],
   "source": [
    "faux_pred, real"
   ]
  }
 ],
 "metadata": {
  "kernelspec": {
   "display_name": "myenv",
   "language": "python",
   "name": "python3"
  },
  "language_info": {
   "codemirror_mode": {
    "name": "ipython",
    "version": 3
   },
   "file_extension": ".py",
   "mimetype": "text/x-python",
   "name": "python",
   "nbconvert_exporter": "python",
   "pygments_lexer": "ipython3",
   "version": "3.10.11"
  }
 },
 "nbformat": 4,
 "nbformat_minor": 2
}
