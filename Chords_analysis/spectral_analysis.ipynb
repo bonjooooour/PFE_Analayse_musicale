{
 "cells": [
  {
   "cell_type": "code",
   "execution_count": 1,
   "metadata": {},
   "outputs": [],
   "source": [
    "import numpy as np\n",
    "import librosa\n",
    "import os\n",
    "import pandas as pd\n",
    "from os import walk\n",
    "from matplotlib import pyplot as plt\n",
    "from sklearn.model_selection import train_test_split\n",
    "from sklearn.preprocessing import LabelEncoder\n",
    "from sklearn.preprocessing import StandardScaler\n",
    "import tensorflow as tf\n",
    "from tensorflow import keras"
   ]
  },
  {
   "cell_type": "code",
   "execution_count": 2,
   "metadata": {},
   "outputs": [],
   "source": [
    "def get_chroma_vector(wav_file_path, target_duration=3):\n",
    "    y, sr = librosa.load(wav_file_path, sr=None)\n",
    "    current_duration = librosa.get_duration(y=y, sr=sr)\n",
    "    \n",
    "    # Calculez le facteur d'étirement ou de compression nécessaire\n",
    "    time_stretch_factor = current_duration / target_duration\n",
    "    # Étirez ou compressez le signal audio pour atteindre la durée cible\n",
    "    y_stretched = librosa.effects.time_stretch(y,rate=time_stretch_factor)\n",
    "    # Calculez le chromagramme à partir du signal modifié\n",
    "    chroma = np.array(librosa.feature.chroma_stft(y=y_stretched, sr=sr))\n",
    "    df_chroma = pd.DataFrame(chroma)\n",
    "    moyenne_par_colonne = df_chroma.mean()\n",
    "    # Sélectionnez les colonnes dont la moyenne est inférieure ou égale à 0.6\n",
    "    colonnes_a_conserver = moyenne_par_colonne[moyenne_par_colonne <= 0.65].index\n",
    "\n",
    "    # Créez un nouveau DataFrame en ne conservant que les colonnes sélectionnées\n",
    "    df_filtered = df_chroma[colonnes_a_conserver]\n",
    "    new_chroma = df_filtered.to_numpy()\n",
    "    return new_chroma\n"
   ]
  },
  {
   "cell_type": "code",
   "execution_count": 6,
   "metadata": {},
   "outputs": [],
   "source": [
    "guitar_file = r\"Chords_generation\\chords_wav\\F_A#aug.wav\"\n",
    "flute_file = r\"Chords_generation\\chords_wav\\F_A#aug.wav\"\n",
    "piano_file = r\"\\Chords_generation\\chords_wav\\F_A#aug.wav\"\n",
    "violin_file = r\"Chords_generation\\chords_wav\\F_A#aug.wav\""
   ]
  },
  {
   "cell_type": "code",
   "execution_count": 7,
   "metadata": {},
   "outputs": [
    {
     "name": "stderr",
     "output_type": "stream",
     "text": [
      "C:\\Users\\zalat\\AppData\\Local\\Temp\\ipykernel_20204\\1701673794.py:2: UserWarning: PySoundFile failed. Trying audioread instead.\n",
      "  y, sr = librosa.load(wav_file_path, sr=None)\n"
     ]
    },
    {
     "ename": "FileNotFoundError",
     "evalue": "[Errno 2] No such file or directory: 'Chords_generation\\\\chords_wav\\\\F_A#aug.wav'",
     "output_type": "error",
     "traceback": [
      "\u001b[1;31m---------------------------------------------------------------------------\u001b[0m",
      "\u001b[1;31mLibsndfileError\u001b[0m                           Traceback (most recent call last)",
      "File \u001b[1;32mc:\\Users\\zalat\\AppData\\Local\\Programs\\Python\\Python311\\Lib\\site-packages\\librosa\\core\\audio.py:175\u001b[0m, in \u001b[0;36mload\u001b[1;34m(path, sr, mono, offset, duration, dtype, res_type)\u001b[0m\n\u001b[0;32m    174\u001b[0m \u001b[39mtry\u001b[39;00m:\n\u001b[1;32m--> 175\u001b[0m     y, sr_native \u001b[39m=\u001b[39m __soundfile_load(path, offset, duration, dtype)\n\u001b[0;32m    177\u001b[0m \u001b[39mexcept\u001b[39;00m sf\u001b[39m.\u001b[39mSoundFileRuntimeError \u001b[39mas\u001b[39;00m exc:\n\u001b[0;32m    178\u001b[0m     \u001b[39m# If soundfile failed, try audioread instead\u001b[39;00m\n",
      "File \u001b[1;32mc:\\Users\\zalat\\AppData\\Local\\Programs\\Python\\Python311\\Lib\\site-packages\\librosa\\core\\audio.py:208\u001b[0m, in \u001b[0;36m__soundfile_load\u001b[1;34m(path, offset, duration, dtype)\u001b[0m\n\u001b[0;32m    206\u001b[0m \u001b[39melse\u001b[39;00m:\n\u001b[0;32m    207\u001b[0m     \u001b[39m# Otherwise, create the soundfile object\u001b[39;00m\n\u001b[1;32m--> 208\u001b[0m     context \u001b[39m=\u001b[39m sf\u001b[39m.\u001b[39;49mSoundFile(path)\n\u001b[0;32m    210\u001b[0m \u001b[39mwith\u001b[39;00m context \u001b[39mas\u001b[39;00m sf_desc:\n",
      "File \u001b[1;32mc:\\Users\\zalat\\AppData\\Local\\Programs\\Python\\Python311\\Lib\\site-packages\\soundfile.py:658\u001b[0m, in \u001b[0;36mSoundFile.__init__\u001b[1;34m(self, file, mode, samplerate, channels, subtype, endian, format, closefd)\u001b[0m\n\u001b[0;32m    656\u001b[0m \u001b[39mself\u001b[39m\u001b[39m.\u001b[39m_info \u001b[39m=\u001b[39m _create_info_struct(file, mode, samplerate, channels,\n\u001b[0;32m    657\u001b[0m                                  \u001b[39mformat\u001b[39m, subtype, endian)\n\u001b[1;32m--> 658\u001b[0m \u001b[39mself\u001b[39m\u001b[39m.\u001b[39m_file \u001b[39m=\u001b[39m \u001b[39mself\u001b[39;49m\u001b[39m.\u001b[39;49m_open(file, mode_int, closefd)\n\u001b[0;32m    659\u001b[0m \u001b[39mif\u001b[39;00m \u001b[39mset\u001b[39m(mode)\u001b[39m.\u001b[39missuperset(\u001b[39m'\u001b[39m\u001b[39mr+\u001b[39m\u001b[39m'\u001b[39m) \u001b[39mand\u001b[39;00m \u001b[39mself\u001b[39m\u001b[39m.\u001b[39mseekable():\n\u001b[0;32m    660\u001b[0m     \u001b[39m# Move write position to 0 (like in Python file objects)\u001b[39;00m\n",
      "File \u001b[1;32mc:\\Users\\zalat\\AppData\\Local\\Programs\\Python\\Python311\\Lib\\site-packages\\soundfile.py:1216\u001b[0m, in \u001b[0;36mSoundFile._open\u001b[1;34m(self, file, mode_int, closefd)\u001b[0m\n\u001b[0;32m   1215\u001b[0m     err \u001b[39m=\u001b[39m _snd\u001b[39m.\u001b[39msf_error(file_ptr)\n\u001b[1;32m-> 1216\u001b[0m     \u001b[39mraise\u001b[39;00m LibsndfileError(err, prefix\u001b[39m=\u001b[39m\u001b[39m\"\u001b[39m\u001b[39mError opening \u001b[39m\u001b[39m{0!r}\u001b[39;00m\u001b[39m: \u001b[39m\u001b[39m\"\u001b[39m\u001b[39m.\u001b[39mformat(\u001b[39mself\u001b[39m\u001b[39m.\u001b[39mname))\n\u001b[0;32m   1217\u001b[0m \u001b[39mif\u001b[39;00m mode_int \u001b[39m==\u001b[39m _snd\u001b[39m.\u001b[39mSFM_WRITE:\n\u001b[0;32m   1218\u001b[0m     \u001b[39m# Due to a bug in libsndfile version <= 1.0.25, frames != 0\u001b[39;00m\n\u001b[0;32m   1219\u001b[0m     \u001b[39m# when opening a named pipe in SFM_WRITE mode.\u001b[39;00m\n\u001b[0;32m   1220\u001b[0m     \u001b[39m# See http://github.com/erikd/libsndfile/issues/77.\u001b[39;00m\n",
      "\u001b[1;31mLibsndfileError\u001b[0m: Error opening 'Chords_generation\\\\chords_wav\\\\F_A#aug.wav': System error.",
      "\nDuring handling of the above exception, another exception occurred:\n",
      "\u001b[1;31mFileNotFoundError\u001b[0m                         Traceback (most recent call last)",
      "\u001b[1;32md:\\Mike\\ESEO\\PFE_Repo\\PFE_Analayse_musicale\\Chords_analysis\\spectral_analysis.ipynb Cellule 4\u001b[0m line \u001b[0;36m2\n\u001b[0;32m      <a href='vscode-notebook-cell:/d%3A/Mike/ESEO/PFE_Repo/PFE_Analayse_musicale/Chords_analysis/spectral_analysis.ipynb#W3sZmlsZQ%3D%3D?line=0'>1</a>\u001b[0m \u001b[39m# Obtenez les 4 chromagrammes (remplacez ces lignes par les données réelles que vous avez)\u001b[39;00m\n\u001b[1;32m----> <a href='vscode-notebook-cell:/d%3A/Mike/ESEO/PFE_Repo/PFE_Analayse_musicale/Chords_analysis/spectral_analysis.ipynb#W3sZmlsZQ%3D%3D?line=1'>2</a>\u001b[0m chroma1 \u001b[39m=\u001b[39m get_chroma_vector(flute_file)\n\u001b[0;32m      <a href='vscode-notebook-cell:/d%3A/Mike/ESEO/PFE_Repo/PFE_Analayse_musicale/Chords_analysis/spectral_analysis.ipynb#W3sZmlsZQ%3D%3D?line=2'>3</a>\u001b[0m chroma2 \u001b[39m=\u001b[39m get_chroma_vector(guitar_file)\n\u001b[0;32m      <a href='vscode-notebook-cell:/d%3A/Mike/ESEO/PFE_Repo/PFE_Analayse_musicale/Chords_analysis/spectral_analysis.ipynb#W3sZmlsZQ%3D%3D?line=3'>4</a>\u001b[0m chroma3 \u001b[39m=\u001b[39m get_chroma_vector(piano_file)\n",
      "\u001b[1;32md:\\Mike\\ESEO\\PFE_Repo\\PFE_Analayse_musicale\\Chords_analysis\\spectral_analysis.ipynb Cellule 4\u001b[0m line \u001b[0;36m2\n\u001b[0;32m      <a href='vscode-notebook-cell:/d%3A/Mike/ESEO/PFE_Repo/PFE_Analayse_musicale/Chords_analysis/spectral_analysis.ipynb#W3sZmlsZQ%3D%3D?line=0'>1</a>\u001b[0m \u001b[39mdef\u001b[39;00m \u001b[39mget_chroma_vector\u001b[39m(wav_file_path, target_duration\u001b[39m=\u001b[39m\u001b[39m3\u001b[39m):\n\u001b[1;32m----> <a href='vscode-notebook-cell:/d%3A/Mike/ESEO/PFE_Repo/PFE_Analayse_musicale/Chords_analysis/spectral_analysis.ipynb#W3sZmlsZQ%3D%3D?line=1'>2</a>\u001b[0m     y, sr \u001b[39m=\u001b[39m librosa\u001b[39m.\u001b[39;49mload(wav_file_path, sr\u001b[39m=\u001b[39;49m\u001b[39mNone\u001b[39;49;00m)\n\u001b[0;32m      <a href='vscode-notebook-cell:/d%3A/Mike/ESEO/PFE_Repo/PFE_Analayse_musicale/Chords_analysis/spectral_analysis.ipynb#W3sZmlsZQ%3D%3D?line=2'>3</a>\u001b[0m     current_duration \u001b[39m=\u001b[39m librosa\u001b[39m.\u001b[39mget_duration(y\u001b[39m=\u001b[39my, sr\u001b[39m=\u001b[39msr)\n\u001b[0;32m      <a href='vscode-notebook-cell:/d%3A/Mike/ESEO/PFE_Repo/PFE_Analayse_musicale/Chords_analysis/spectral_analysis.ipynb#W3sZmlsZQ%3D%3D?line=4'>5</a>\u001b[0m     \u001b[39m# Calculez le facteur d'étirement ou de compression nécessaire\u001b[39;00m\n",
      "File \u001b[1;32mc:\\Users\\zalat\\AppData\\Local\\Programs\\Python\\Python311\\Lib\\site-packages\\librosa\\core\\audio.py:183\u001b[0m, in \u001b[0;36mload\u001b[1;34m(path, sr, mono, offset, duration, dtype, res_type)\u001b[0m\n\u001b[0;32m    179\u001b[0m \u001b[39mif\u001b[39;00m \u001b[39misinstance\u001b[39m(path, (\u001b[39mstr\u001b[39m, pathlib\u001b[39m.\u001b[39mPurePath)):\n\u001b[0;32m    180\u001b[0m     warnings\u001b[39m.\u001b[39mwarn(\n\u001b[0;32m    181\u001b[0m         \u001b[39m\"\u001b[39m\u001b[39mPySoundFile failed. Trying audioread instead.\u001b[39m\u001b[39m\"\u001b[39m, stacklevel\u001b[39m=\u001b[39m\u001b[39m2\u001b[39m\n\u001b[0;32m    182\u001b[0m     )\n\u001b[1;32m--> 183\u001b[0m     y, sr_native \u001b[39m=\u001b[39m __audioread_load(path, offset, duration, dtype)\n\u001b[0;32m    184\u001b[0m \u001b[39melse\u001b[39;00m:\n\u001b[0;32m    185\u001b[0m     \u001b[39mraise\u001b[39;00m exc\n",
      "File \u001b[1;32m~\\AppData\\Roaming\\Python\\Python311\\site-packages\\decorator.py:232\u001b[0m, in \u001b[0;36mdecorate.<locals>.fun\u001b[1;34m(*args, **kw)\u001b[0m\n\u001b[0;32m    230\u001b[0m \u001b[39mif\u001b[39;00m \u001b[39mnot\u001b[39;00m kwsyntax:\n\u001b[0;32m    231\u001b[0m     args, kw \u001b[39m=\u001b[39m fix(args, kw, sig)\n\u001b[1;32m--> 232\u001b[0m \u001b[39mreturn\u001b[39;00m caller(func, \u001b[39m*\u001b[39;49m(extras \u001b[39m+\u001b[39;49m args), \u001b[39m*\u001b[39;49m\u001b[39m*\u001b[39;49mkw)\n",
      "File \u001b[1;32mc:\\Users\\zalat\\AppData\\Local\\Programs\\Python\\Python311\\Lib\\site-packages\\librosa\\util\\decorators.py:59\u001b[0m, in \u001b[0;36mdeprecated.<locals>.__wrapper\u001b[1;34m(func, *args, **kwargs)\u001b[0m\n\u001b[0;32m     50\u001b[0m \u001b[39m\u001b[39m\u001b[39m\"\"\"Warn the user, and then proceed.\"\"\"\u001b[39;00m\n\u001b[0;32m     51\u001b[0m warnings\u001b[39m.\u001b[39mwarn(\n\u001b[0;32m     52\u001b[0m     \u001b[39m\"\u001b[39m\u001b[39m{:s}\u001b[39;00m\u001b[39m.\u001b[39m\u001b[39m{:s}\u001b[39;00m\u001b[39m\\n\u001b[39;00m\u001b[39m\\t\u001b[39;00m\u001b[39mDeprecated as of librosa version \u001b[39m\u001b[39m{:s}\u001b[39;00m\u001b[39m.\u001b[39m\u001b[39m\"\u001b[39m\n\u001b[0;32m     53\u001b[0m     \u001b[39m\"\u001b[39m\u001b[39m\\n\u001b[39;00m\u001b[39m\\t\u001b[39;00m\u001b[39mIt will be removed in librosa version \u001b[39m\u001b[39m{:s}\u001b[39;00m\u001b[39m.\u001b[39m\u001b[39m\"\u001b[39m\u001b[39m.\u001b[39mformat(\n\u001b[1;32m   (...)\u001b[0m\n\u001b[0;32m     57\u001b[0m     stacklevel\u001b[39m=\u001b[39m\u001b[39m3\u001b[39m,  \u001b[39m# Would be 2, but the decorator adds a level\u001b[39;00m\n\u001b[0;32m     58\u001b[0m )\n\u001b[1;32m---> 59\u001b[0m \u001b[39mreturn\u001b[39;00m func(\u001b[39m*\u001b[39;49margs, \u001b[39m*\u001b[39;49m\u001b[39m*\u001b[39;49mkwargs)\n",
      "File \u001b[1;32mc:\\Users\\zalat\\AppData\\Local\\Programs\\Python\\Python311\\Lib\\site-packages\\librosa\\core\\audio.py:239\u001b[0m, in \u001b[0;36m__audioread_load\u001b[1;34m(path, offset, duration, dtype)\u001b[0m\n\u001b[0;32m    236\u001b[0m     reader \u001b[39m=\u001b[39m path\n\u001b[0;32m    237\u001b[0m \u001b[39melse\u001b[39;00m:\n\u001b[0;32m    238\u001b[0m     \u001b[39m# If the input was not an audioread object, try to open it\u001b[39;00m\n\u001b[1;32m--> 239\u001b[0m     reader \u001b[39m=\u001b[39m audioread\u001b[39m.\u001b[39;49maudio_open(path)\n\u001b[0;32m    241\u001b[0m \u001b[39mwith\u001b[39;00m reader \u001b[39mas\u001b[39;00m input_file:\n\u001b[0;32m    242\u001b[0m     sr_native \u001b[39m=\u001b[39m input_file\u001b[39m.\u001b[39msamplerate\n",
      "File \u001b[1;32mc:\\Users\\zalat\\AppData\\Local\\Programs\\Python\\Python311\\Lib\\site-packages\\audioread\\__init__.py:127\u001b[0m, in \u001b[0;36maudio_open\u001b[1;34m(path, backends)\u001b[0m\n\u001b[0;32m    125\u001b[0m \u001b[39mfor\u001b[39;00m BackendClass \u001b[39min\u001b[39;00m backends:\n\u001b[0;32m    126\u001b[0m     \u001b[39mtry\u001b[39;00m:\n\u001b[1;32m--> 127\u001b[0m         \u001b[39mreturn\u001b[39;00m BackendClass(path)\n\u001b[0;32m    128\u001b[0m     \u001b[39mexcept\u001b[39;00m DecodeError:\n\u001b[0;32m    129\u001b[0m         \u001b[39mpass\u001b[39;00m\n",
      "File \u001b[1;32mc:\\Users\\zalat\\AppData\\Local\\Programs\\Python\\Python311\\Lib\\site-packages\\audioread\\rawread.py:59\u001b[0m, in \u001b[0;36mRawAudioFile.__init__\u001b[1;34m(self, filename)\u001b[0m\n\u001b[0;32m     58\u001b[0m \u001b[39mdef\u001b[39;00m \u001b[39m__init__\u001b[39m(\u001b[39mself\u001b[39m, filename):\n\u001b[1;32m---> 59\u001b[0m     \u001b[39mself\u001b[39m\u001b[39m.\u001b[39m_fh \u001b[39m=\u001b[39m \u001b[39mopen\u001b[39;49m(filename, \u001b[39m'\u001b[39;49m\u001b[39mrb\u001b[39;49m\u001b[39m'\u001b[39;49m)\n\u001b[0;32m     61\u001b[0m     \u001b[39mtry\u001b[39;00m:\n\u001b[0;32m     62\u001b[0m         \u001b[39mself\u001b[39m\u001b[39m.\u001b[39m_file \u001b[39m=\u001b[39m aifc\u001b[39m.\u001b[39mopen(\u001b[39mself\u001b[39m\u001b[39m.\u001b[39m_fh)\n",
      "\u001b[1;31mFileNotFoundError\u001b[0m: [Errno 2] No such file or directory: 'Chords_generation\\\\chords_wav\\\\F_A#aug.wav'"
     ]
    }
   ],
   "source": [
    "\n",
    "# Obtenez les 4 chromagrammes (remplacez ces lignes par les données réelles que vous avez)\n",
    "chroma1 = get_chroma_vector(flute_file)\n",
    "chroma2 = get_chroma_vector(guitar_file)\n",
    "chroma3 = get_chroma_vector(piano_file)\n",
    "chroma4 = get_chroma_vector(violin_file)\n",
    "\n",
    "# Créez une figure avec une grille de 2x2 sous-plots\n",
    "fig, axes = plt.subplots(2, 2, figsize=(10, 8))\n",
    "\n",
    "# Affichez chaque chromagramme dans un sous-plot\n",
    "img1 = librosa.display.specshow(chroma1, y_axis='chroma', x_axis='time', ax=axes[0, 0])\n",
    "axes[0, 0].set_title('Flute Chroma')\n",
    "\n",
    "img2 = librosa.display.specshow(chroma2, y_axis='chroma', x_axis='time', ax=axes[0, 1])\n",
    "axes[0, 1].set_title('Guitar Chroma')\n",
    "\n",
    "img3 = librosa.display.specshow(chroma3, y_axis='chroma', x_axis='time', ax=axes[1, 0])\n",
    "axes[1, 0].set_title('Piano Chroma')\n",
    "\n",
    "img4 = librosa.display.specshow(chroma4, y_axis='chroma', x_axis='time', ax=axes[1, 1])\n",
    "axes[1, 1].set_title('Violin Chroma')\n",
    "\n",
    "# Ajoutez une barre de couleur pour chaque sous-plot\n",
    "fig.colorbar(img1, ax=axes[0, 0])\n",
    "fig.colorbar(img2, ax=axes[0, 1])\n",
    "fig.colorbar(img3, ax=axes[1, 0])\n",
    "fig.colorbar(img4, ax=axes[1, 1])\n",
    "\n",
    "# Ajustez l'espacement entre les sous-plots\n",
    "plt.tight_layout()\n",
    "\n",
    "# Affichez la figure\n",
    "plt.show()\n"
   ]
  },
  {
   "cell_type": "code",
   "execution_count": null,
   "metadata": {},
   "outputs": [],
   "source": [
    "def get_feature(file_path):\n",
    " # Extracting chroma vector feature\n",
    "  chroma = get_chroma_vector(file_path)\n",
    "  chroma_mean = chroma.mean(axis=1)\n",
    "\n",
    "  feature = chroma_mean\n",
    "  return feature"
   ]
  },
  {
   "cell_type": "code",
   "execution_count": null,
   "metadata": {},
   "outputs": [],
   "source": [
    "names = ['C', 'C#', 'D','D#','E','F','F#','G','G#','A','A#','B'] # nom des barres\n",
    "\n",
    "values_f = get_feature(flute_file).tolist()\n",
    "values_g = get_feature(guitar_file).tolist()\n",
    "values_p = get_feature(piano_file).tolist()\n",
    "values_v = get_feature(violin_file).tolist()\n",
    "\n",
    "plt.subplot(221)\n",
    "plt.bar(names, values_f)\n",
    "plt.text(0.5, 0.5, \"F_Gmaj.wav\", size=12, alpha=.5)\n",
    "\n",
    "plt.subplot(222)\n",
    "plt.bar(names, values_g)\n",
    "plt.text(0.5,0.5, \"G_Gmaj.wav.wav\", size=12, alpha=.5)\n",
    "\n",
    "plt.subplot(223)\n",
    "plt.bar(names, values_p)\n",
    "plt.text(0.5,0.5, \"P_Gmaj.wav.wav\", size=12, alpha=.5)\n",
    "\n",
    "plt.subplot(224)\n",
    "plt.bar(names, values_v)\n",
    "plt.text(0.5,0.5, \"V_Gmaj.wav\", size=12, alpha=.5)\n",
    "\n",
    "plt.show()\n"
   ]
  }
 ],
 "metadata": {
  "kernelspec": {
   "display_name": "envlucie",
   "language": "python",
   "name": "python3"
  },
  "language_info": {
   "codemirror_mode": {
    "name": "ipython",
    "version": 3
   },
   "file_extension": ".py",
   "mimetype": "text/x-python",
   "name": "python",
   "nbconvert_exporter": "python",
   "pygments_lexer": "ipython3",
   "version": "3.11.1"
  }
 },
 "nbformat": 4,
 "nbformat_minor": 2
}
