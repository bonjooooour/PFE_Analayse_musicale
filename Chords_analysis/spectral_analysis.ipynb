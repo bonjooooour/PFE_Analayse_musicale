{
 "cells": [
  {
   "cell_type": "code",
   "execution_count": 1,
   "metadata": {},
   "outputs": [],
   "source": [
    "import numpy as np\n",
    "import librosa\n",
    "import os\n",
    "import pandas as pd\n",
    "from os import walk\n",
    "from matplotlib import pyplot as plt\n",
    "from sklearn.model_selection import train_test_split\n",
    "from sklearn.preprocessing import LabelEncoder\n",
    "from sklearn.preprocessing import StandardScaler\n",
    "import tensorflow as tf\n",
    "from tensorflow import keras"
   ]
  },
  {
   "cell_type": "code",
   "execution_count": 2,
   "metadata": {},
   "outputs": [],
   "source": [
    "def get_chroma_vector(wav_file_path, target_duration=3):\n",
    "    y, sr = librosa.load(wav_file_path, sr=None)\n",
    "    current_duration = librosa.get_duration(y=y, sr=sr)\n",
    "    \n",
    "    # Calculez le facteur d'étirement ou de compression nécessaire\n",
    "    time_stretch_factor = current_duration / target_duration\n",
    "    # Étirez ou compressez le signal audio pour atteindre la durée cible\n",
    "    y_stretched = librosa.effects.time_stretch(y,rate=time_stretch_factor)\n",
    "    # Calculez le chromagramme à partir du signal modifié\n",
    "    chroma = np.array(librosa.feature.chroma_stft(y=y_stretched, sr=sr))\n",
    "    df_chroma = pd.DataFrame(chroma)\n",
    "    moyenne_par_colonne = df_chroma.mean()\n",
    "    # Sélectionnez les colonnes dont la moyenne est inférieure ou égale à 0.6\n",
    "    colonnes_a_conserver = moyenne_par_colonne[moyenne_par_colonne <= 0.65].index\n",
    "\n",
    "    # Créez un nouveau DataFrame en ne conservant que les colonnes sélectionnées\n",
    "    df_filtered = df_chroma[colonnes_a_conserver]\n",
    "    new_chroma = df_filtered.to_numpy()\n",
    "    return new_chroma\n"
   ]
  },
  {
   "cell_type": "code",
   "execution_count": null,
   "metadata": {},
   "outputs": [],
   "source": [
    "guitar_file = r\"C:\\Users\\lucie\\Documents\\Programmation\\PFE_Analayse_musicale\\Chords_generation\\chords_wav\\F_A#aug.wav\"\n",
    "flute_file = r\"C:\\Users\\lucie\\Documents\\Programmation\\PFE_Analayse_musicale\\Chords_generation\\chords_wav\\F_A#aug.wav\"\n",
    "piano_file = r\"C:\\Users\\lucie\\Documents\\Programmation\\PFE_Analayse_musicale\\Chords_generation\\chords_wav\\F_A#aug.wav\"\n",
    "violin_file = r\"C:\\Users\\lucie\\Documents\\Programmation\\PFE_Analayse_musicale\\Chords_generation\\chords_wav\\F_A#aug.wav\""
   ]
  },
  {
   "cell_type": "code",
   "execution_count": null,
   "metadata": {},
   "outputs": [],
   "source": [
    "\n",
    "# Obtenez les 4 chromagrammes (remplacez ces lignes par les données réelles que vous avez)\n",
    "chroma1 = get_chroma_vector(flute_file)\n",
    "chroma2 = get_chroma_vector(guitar_file)\n",
    "chroma3 = get_chroma_vector(piano_file)\n",
    "chroma4 = get_chroma_vector(violin_file)\n",
    "\n",
    "# Créez une figure avec une grille de 2x2 sous-plots\n",
    "fig, axes = plt.subplots(2, 2, figsize=(10, 8))\n",
    "\n",
    "# Affichez chaque chromagramme dans un sous-plot\n",
    "img1 = librosa.display.specshow(chroma1, y_axis='chroma', x_axis='time', ax=axes[0, 0])\n",
    "axes[0, 0].set_title('Flute Chroma')\n",
    "\n",
    "img2 = librosa.display.specshow(chroma2, y_axis='chroma', x_axis='time', ax=axes[0, 1])\n",
    "axes[0, 1].set_title('Guitar Chroma')\n",
    "\n",
    "img3 = librosa.display.specshow(chroma3, y_axis='chroma', x_axis='time', ax=axes[1, 0])\n",
    "axes[1, 0].set_title('Piano Chroma')\n",
    "\n",
    "img4 = librosa.display.specshow(chroma4, y_axis='chroma', x_axis='time', ax=axes[1, 1])\n",
    "axes[1, 1].set_title('Violin Chroma')\n",
    "\n",
    "# Ajoutez une barre de couleur pour chaque sous-plot\n",
    "fig.colorbar(img1, ax=axes[0, 0])\n",
    "fig.colorbar(img2, ax=axes[0, 1])\n",
    "fig.colorbar(img3, ax=axes[1, 0])\n",
    "fig.colorbar(img4, ax=axes[1, 1])\n",
    "\n",
    "# Ajustez l'espacement entre les sous-plots\n",
    "plt.tight_layout()\n",
    "\n",
    "# Affichez la figure\n",
    "plt.show()\n"
   ]
  },
  {
   "cell_type": "code",
   "execution_count": null,
   "metadata": {},
   "outputs": [],
   "source": [
    "def get_feature(file_path):\n",
    " # Extracting chroma vector feature\n",
    "  chroma = get_chroma_vector(file_path)\n",
    "  chroma_mean = chroma.mean(axis=1)\n",
    "\n",
    "  feature = chroma_mean\n",
    "  return feature"
   ]
  },
  {
   "cell_type": "code",
   "execution_count": null,
   "metadata": {},
   "outputs": [],
   "source": [
    "names = ['C', 'C#', 'D','D#','E','F','F#','G','G#','A','A#','B'] # nom des barres\n",
    "\n",
    "values_f = get_feature(flute_file).tolist()\n",
    "values_g = get_feature(guitar_file).tolist()\n",
    "values_p = get_feature(piano_file).tolist()\n",
    "values_v = get_feature(violin_file).tolist()\n",
    "\n",
    "plt.subplot(221)\n",
    "plt.bar(names, values_f)\n",
    "plt.text(0.5, 0.5, \"F_Gmaj.wav\", size=12, alpha=.5)\n",
    "\n",
    "plt.subplot(222)\n",
    "plt.bar(names, values_g)\n",
    "plt.text(0.5,0.5, \"G_Gmaj.wav.wav\", size=12, alpha=.5)\n",
    "\n",
    "plt.subplot(223)\n",
    "plt.bar(names, values_p)\n",
    "plt.text(0.5,0.5, \"P_Gmaj.wav.wav\", size=12, alpha=.5)\n",
    "\n",
    "plt.subplot(224)\n",
    "plt.bar(names, values_v)\n",
    "plt.text(0.5,0.5, \"V_Gmaj.wav\", size=12, alpha=.5)\n",
    "\n",
    "plt.show()\n"
   ]
  }
 ],
 "metadata": {
  "kernelspec": {
   "display_name": "envlucie",
   "language": "python",
   "name": "python3"
  },
  "language_info": {
   "codemirror_mode": {
    "name": "ipython",
    "version": 3
   },
   "file_extension": ".py",
   "mimetype": "text/x-python",
   "name": "python",
   "nbconvert_exporter": "python",
   "pygments_lexer": "ipython3",
   "version": "3.10.11"
  }
 },
 "nbformat": 4,
 "nbformat_minor": 2
}
