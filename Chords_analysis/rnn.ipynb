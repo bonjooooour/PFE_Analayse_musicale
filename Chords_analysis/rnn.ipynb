{
 "cells": [
  {
   "cell_type": "code",
   "execution_count": 31,
   "metadata": {},
   "outputs": [
    {
     "name": "stdout",
     "output_type": "stream",
     "text": [
      "     Good_chords                       notes\n",
      "0             NM                         nan\n",
      "1             EM            ['E', 'G#', 'B']\n",
      "2             AM            ['A', 'C#', 'E']\n",
      "3             EM            ['E', 'G#', 'B']\n",
      "4             BM           ['B', 'D#', 'F#']\n",
      "...          ...                         ...\n",
      "1006          AM            ['A', 'C#', 'E']\n",
      "1007          AM            ['A', 'C#', 'E']\n",
      "1008          DM            ['D', 'F#', 'A']\n",
      "1009          D9  ['D', 'F#', 'A', 'C', 'E']\n",
      "1010          NM                         nan\n",
      "\n",
      "[1011 rows x 2 columns]\n"
     ]
    }
   ],
   "source": [
    "import sqlite3\n",
    "import pandas as pd\n",
    "\n",
    "# Remplacez \"ma_base_de_donnees.db\" par le nom de votre base de données SQLite\n",
    "nom_base_de_donnees = \"ma_base_de_donnees.db\"\n",
    "\n",
    "# Colones que vous souhaitez récupérer\n",
    "colonne1 = \"Good_chords\"\n",
    "colonne2 = \"notes\"\n",
    "\n",
    "# Initialisation d'un DataFrame vide\n",
    "df = pd.DataFrame()\n",
    "\n",
    "# Connexion à la base de données\n",
    "connexion = sqlite3.connect(nom_base_de_donnees)\n",
    "\n",
    "# Obtenez la liste des tables disponibles dans la base de données\n",
    "tables_query = \"SELECT name FROM sqlite_master WHERE type='table';\"\n",
    "tables = pd.read_sql_query(tables_query, connexion)['name']\n",
    "\n",
    "# Boucle à travers les tables et récupération des données\n",
    "for nom_table in tables:\n",
    "    requete_sql = f\"SELECT {colonne1}, {colonne2} FROM \\\"{nom_table}\\\"\"\n",
    "    table_df = pd.read_sql_query(requete_sql, connexion)\n",
    "    \n",
    "    # Fusionner le DataFrame actuel avec le DataFrame de la table courante\n",
    "    df = pd.concat([df, table_df], ignore_index=True)\n",
    "\n",
    "# Affichage du DataFrame combiné\n",
    "print(df)\n",
    "\n",
    "# Fermeture de la connexion\n",
    "connexion.close()\n"
   ]
  },
  {
   "cell_type": "code",
   "execution_count": 32,
   "metadata": {},
   "outputs": [
    {
     "data": {
      "text/html": [
       "<div>\n",
       "<style scoped>\n",
       "    .dataframe tbody tr th:only-of-type {\n",
       "        vertical-align: middle;\n",
       "    }\n",
       "\n",
       "    .dataframe tbody tr th {\n",
       "        vertical-align: top;\n",
       "    }\n",
       "\n",
       "    .dataframe thead th {\n",
       "        text-align: right;\n",
       "    }\n",
       "</style>\n",
       "<table border=\"1\" class=\"dataframe\">\n",
       "  <thead>\n",
       "    <tr style=\"text-align: right;\">\n",
       "      <th></th>\n",
       "      <th>Good_chords</th>\n",
       "      <th>notes</th>\n",
       "    </tr>\n",
       "  </thead>\n",
       "  <tbody>\n",
       "    <tr>\n",
       "      <th>0</th>\n",
       "      <td>NM</td>\n",
       "      <td>nan</td>\n",
       "    </tr>\n",
       "    <tr>\n",
       "      <th>1</th>\n",
       "      <td>EM</td>\n",
       "      <td>['E', 'G#', 'B']</td>\n",
       "    </tr>\n",
       "    <tr>\n",
       "      <th>2</th>\n",
       "      <td>AM</td>\n",
       "      <td>['A', 'C#', 'E']</td>\n",
       "    </tr>\n",
       "    <tr>\n",
       "      <th>3</th>\n",
       "      <td>EM</td>\n",
       "      <td>['E', 'G#', 'B']</td>\n",
       "    </tr>\n",
       "    <tr>\n",
       "      <th>4</th>\n",
       "      <td>BM</td>\n",
       "      <td>['B', 'D#', 'F#']</td>\n",
       "    </tr>\n",
       "  </tbody>\n",
       "</table>\n",
       "</div>"
      ],
      "text/plain": [
       "  Good_chords              notes\n",
       "0          NM                nan\n",
       "1          EM   ['E', 'G#', 'B']\n",
       "2          AM   ['A', 'C#', 'E']\n",
       "3          EM   ['E', 'G#', 'B']\n",
       "4          BM  ['B', 'D#', 'F#']"
      ]
     },
     "execution_count": 32,
     "metadata": {},
     "output_type": "execute_result"
    }
   ],
   "source": [
    "df.head()"
   ]
  },
  {
   "cell_type": "code",
   "execution_count": 33,
   "metadata": {},
   "outputs": [],
   "source": [
    "import re\n",
    "import tensorflow as tf\n",
    "\n",
    "max_features = 4000\n",
    "tokenizer = tf.keras.preprocessing.text.Tokenizer(num_words=max_features, split=' ')\n",
    "tokenizer.fit_on_texts(df['notes'].values)\n",
    "X = tokenizer.texts_to_sequences(df['notes'].values)\n",
    "X = tf.keras.preprocessing.sequence.pad_sequences(X) "
   ]
  },
  {
   "cell_type": "code",
   "execution_count": 34,
   "metadata": {},
   "outputs": [
    {
     "data": {
      "text/plain": [
       "array([0, 0, 0, 0, 0, 2, 9, 1, 3])"
      ]
     },
     "execution_count": 34,
     "metadata": {},
     "output_type": "execute_result"
    }
   ],
   "source": [
    "X[1]"
   ]
  },
  {
   "cell_type": "code",
   "execution_count": 35,
   "metadata": {},
   "outputs": [
    {
     "data": {
      "text/plain": [
       "(1011, 9)"
      ]
     },
     "execution_count": 35,
     "metadata": {},
     "output_type": "execute_result"
    }
   ],
   "source": [
    "X.shape"
   ]
  },
  {
   "cell_type": "code",
   "execution_count": 36,
   "metadata": {},
   "outputs": [],
   "source": [
    "import numpy as np\n",
    "nb_classe = len(np.unique(df['Good_chords']))"
   ]
  },
  {
   "cell_type": "code",
   "execution_count": 37,
   "metadata": {},
   "outputs": [],
   "source": [
    "classes = np.unique(df['Good_chords'])"
   ]
  },
  {
   "cell_type": "code",
   "execution_count": 38,
   "metadata": {},
   "outputs": [
    {
     "name": "stdout",
     "output_type": "stream",
     "text": [
      "Model: \"sequential_2\"\n",
      "_________________________________________________________________\n",
      " Layer (type)                Output Shape              Param #   \n",
      "=================================================================\n",
      " embedding_2 (Embedding)     (None, 9, 300)            1200000   \n",
      "                                                                 \n",
      " spatial_dropout1d_2 (Spati  (None, 9, 300)            0         \n",
      " alDropout1D)                                                    \n",
      "                                                                 \n",
      " bidirectional_2 (Bidirecti  (None, 392)               779296    \n",
      " onal)                                                           \n",
      "                                                                 \n",
      " dense_2 (Dense)             (None, 45)                17685     \n",
      "                                                                 \n",
      "=================================================================\n",
      "Total params: 1996981 (7.62 MB)\n",
      "Trainable params: 1996981 (7.62 MB)\n",
      "Non-trainable params: 0 (0.00 Byte)\n",
      "_________________________________________________________________\n"
     ]
    }
   ],
   "source": [
    "embed_dim = 300\n",
    "lstm_out = 196\n",
    "\n",
    "model = tf.keras.Sequential()\n",
    "model.add(tf.keras.layers.Embedding(max_features, embed_dim, input_length = X.shape[1]))\n",
    "model.add(tf.keras.layers.SpatialDropout1D(0.4))\n",
    "model.add(tf.keras.layers.Bidirectional(tf.keras.layers.LSTM(lstm_out, dropout=0.05, recurrent_dropout=0.2)))\n",
    "model.add(tf.keras.layers.Dense(nb_classe, activation='softmax'))\n",
    "model.compile(loss = 'categorical_crossentropy', optimizer='adam', metrics = ['accuracy'])\n",
    "\n",
    "model.summary()"
   ]
  },
  {
   "cell_type": "code",
   "execution_count": 39,
   "metadata": {},
   "outputs": [
    {
     "data": {
      "text/html": [
       "<div>\n",
       "<style scoped>\n",
       "    .dataframe tbody tr th:only-of-type {\n",
       "        vertical-align: middle;\n",
       "    }\n",
       "\n",
       "    .dataframe tbody tr th {\n",
       "        vertical-align: top;\n",
       "    }\n",
       "\n",
       "    .dataframe thead th {\n",
       "        text-align: right;\n",
       "    }\n",
       "</style>\n",
       "<table border=\"1\" class=\"dataframe\">\n",
       "  <thead>\n",
       "    <tr style=\"text-align: right;\">\n",
       "      <th></th>\n",
       "      <th>A7</th>\n",
       "      <th>AM</th>\n",
       "      <th>Amaj7</th>\n",
       "      <th>Amaj7/E</th>\n",
       "      <th>Amin</th>\n",
       "      <th>Amin/C</th>\n",
       "      <th>B7</th>\n",
       "      <th>BM</th>\n",
       "      <th>Bb7</th>\n",
       "      <th>BbM</th>\n",
       "      <th>...</th>\n",
       "      <th>F#min7</th>\n",
       "      <th>F#minmaj7</th>\n",
       "      <th>F9</th>\n",
       "      <th>FM</th>\n",
       "      <th>G#M</th>\n",
       "      <th>G#min</th>\n",
       "      <th>G#min7</th>\n",
       "      <th>GM</th>\n",
       "      <th>Gmin</th>\n",
       "      <th>NM</th>\n",
       "    </tr>\n",
       "  </thead>\n",
       "  <tbody>\n",
       "    <tr>\n",
       "      <th>0</th>\n",
       "      <td>False</td>\n",
       "      <td>False</td>\n",
       "      <td>False</td>\n",
       "      <td>False</td>\n",
       "      <td>False</td>\n",
       "      <td>False</td>\n",
       "      <td>False</td>\n",
       "      <td>False</td>\n",
       "      <td>False</td>\n",
       "      <td>False</td>\n",
       "      <td>...</td>\n",
       "      <td>False</td>\n",
       "      <td>False</td>\n",
       "      <td>False</td>\n",
       "      <td>False</td>\n",
       "      <td>False</td>\n",
       "      <td>False</td>\n",
       "      <td>False</td>\n",
       "      <td>False</td>\n",
       "      <td>False</td>\n",
       "      <td>True</td>\n",
       "    </tr>\n",
       "    <tr>\n",
       "      <th>1</th>\n",
       "      <td>False</td>\n",
       "      <td>False</td>\n",
       "      <td>False</td>\n",
       "      <td>False</td>\n",
       "      <td>False</td>\n",
       "      <td>False</td>\n",
       "      <td>False</td>\n",
       "      <td>False</td>\n",
       "      <td>False</td>\n",
       "      <td>False</td>\n",
       "      <td>...</td>\n",
       "      <td>False</td>\n",
       "      <td>False</td>\n",
       "      <td>False</td>\n",
       "      <td>False</td>\n",
       "      <td>False</td>\n",
       "      <td>False</td>\n",
       "      <td>False</td>\n",
       "      <td>False</td>\n",
       "      <td>False</td>\n",
       "      <td>False</td>\n",
       "    </tr>\n",
       "    <tr>\n",
       "      <th>2</th>\n",
       "      <td>False</td>\n",
       "      <td>True</td>\n",
       "      <td>False</td>\n",
       "      <td>False</td>\n",
       "      <td>False</td>\n",
       "      <td>False</td>\n",
       "      <td>False</td>\n",
       "      <td>False</td>\n",
       "      <td>False</td>\n",
       "      <td>False</td>\n",
       "      <td>...</td>\n",
       "      <td>False</td>\n",
       "      <td>False</td>\n",
       "      <td>False</td>\n",
       "      <td>False</td>\n",
       "      <td>False</td>\n",
       "      <td>False</td>\n",
       "      <td>False</td>\n",
       "      <td>False</td>\n",
       "      <td>False</td>\n",
       "      <td>False</td>\n",
       "    </tr>\n",
       "    <tr>\n",
       "      <th>3</th>\n",
       "      <td>False</td>\n",
       "      <td>False</td>\n",
       "      <td>False</td>\n",
       "      <td>False</td>\n",
       "      <td>False</td>\n",
       "      <td>False</td>\n",
       "      <td>False</td>\n",
       "      <td>False</td>\n",
       "      <td>False</td>\n",
       "      <td>False</td>\n",
       "      <td>...</td>\n",
       "      <td>False</td>\n",
       "      <td>False</td>\n",
       "      <td>False</td>\n",
       "      <td>False</td>\n",
       "      <td>False</td>\n",
       "      <td>False</td>\n",
       "      <td>False</td>\n",
       "      <td>False</td>\n",
       "      <td>False</td>\n",
       "      <td>False</td>\n",
       "    </tr>\n",
       "    <tr>\n",
       "      <th>4</th>\n",
       "      <td>False</td>\n",
       "      <td>False</td>\n",
       "      <td>False</td>\n",
       "      <td>False</td>\n",
       "      <td>False</td>\n",
       "      <td>False</td>\n",
       "      <td>False</td>\n",
       "      <td>True</td>\n",
       "      <td>False</td>\n",
       "      <td>False</td>\n",
       "      <td>...</td>\n",
       "      <td>False</td>\n",
       "      <td>False</td>\n",
       "      <td>False</td>\n",
       "      <td>False</td>\n",
       "      <td>False</td>\n",
       "      <td>False</td>\n",
       "      <td>False</td>\n",
       "      <td>False</td>\n",
       "      <td>False</td>\n",
       "      <td>False</td>\n",
       "    </tr>\n",
       "  </tbody>\n",
       "</table>\n",
       "<p>5 rows × 45 columns</p>\n",
       "</div>"
      ],
      "text/plain": [
       "      A7     AM  Amaj7  Amaj7/E   Amin  Amin/C     B7     BM    Bb7    BbM  \\\n",
       "0  False  False  False    False  False   False  False  False  False  False   \n",
       "1  False  False  False    False  False   False  False  False  False  False   \n",
       "2  False   True  False    False  False   False  False  False  False  False   \n",
       "3  False  False  False    False  False   False  False  False  False  False   \n",
       "4  False  False  False    False  False   False  False   True  False  False   \n",
       "\n",
       "   ...  F#min7  F#minmaj7     F9     FM    G#M  G#min  G#min7     GM   Gmin  \\\n",
       "0  ...   False      False  False  False  False  False   False  False  False   \n",
       "1  ...   False      False  False  False  False  False   False  False  False   \n",
       "2  ...   False      False  False  False  False  False   False  False  False   \n",
       "3  ...   False      False  False  False  False  False   False  False  False   \n",
       "4  ...   False      False  False  False  False  False   False  False  False   \n",
       "\n",
       "      NM  \n",
       "0   True  \n",
       "1  False  \n",
       "2  False  \n",
       "3  False  \n",
       "4  False  \n",
       "\n",
       "[5 rows x 45 columns]"
      ]
     },
     "execution_count": 39,
     "metadata": {},
     "output_type": "execute_result"
    }
   ],
   "source": [
    "from sklearn.model_selection import train_test_split\n",
    "import numpy as np\n",
    "Y = pd.get_dummies(df['Good_chords'])\n",
    "Y.head()"
   ]
  },
  {
   "cell_type": "code",
   "execution_count": 40,
   "metadata": {},
   "outputs": [],
   "source": [
    "Y = Y.values"
   ]
  },
  {
   "cell_type": "code",
   "execution_count": 41,
   "metadata": {},
   "outputs": [
    {
     "name": "stdout",
     "output_type": "stream",
     "text": [
      "(677, 9) (677, 45)\n",
      "(334, 9) (334, 45)\n"
     ]
    }
   ],
   "source": [
    "X_train, X_test, Y_train, Y_test = train_test_split(X, Y, test_size = 0.33, random_state = 42)\n",
    "print(X_train.shape, Y_train.shape)\n",
    "print(X_test.shape, Y_test.shape)"
   ]
  },
  {
   "cell_type": "code",
   "execution_count": 42,
   "metadata": {},
   "outputs": [
    {
     "name": "stdout",
     "output_type": "stream",
     "text": [
      "Epoch 1/20\n",
      "4/4 - 9s - loss: 3.7462 - accuracy: 0.2051 - val_loss: 3.6118 - val_accuracy: 0.3284 - 9s/epoch - 2s/step\n",
      "Epoch 2/20\n",
      "4/4 - 1s - loss: 3.4878 - accuracy: 0.3087 - val_loss: 3.2015 - val_accuracy: 0.1225 - 627ms/epoch - 157ms/step\n",
      "Epoch 3/20\n",
      "4/4 - 1s - loss: 2.9612 - accuracy: 0.1501 - val_loss: 2.9244 - val_accuracy: 0.1225 - 650ms/epoch - 162ms/step\n",
      "Epoch 4/20\n",
      "4/4 - 1s - loss: 2.7869 - accuracy: 0.2178 - val_loss: 2.7515 - val_accuracy: 0.1765 - 620ms/epoch - 155ms/step\n",
      "Epoch 5/20\n",
      "4/4 - 1s - loss: 2.5691 - accuracy: 0.4440 - val_loss: 2.5673 - val_accuracy: 0.3873 - 623ms/epoch - 156ms/step\n",
      "Epoch 6/20\n",
      "4/4 - 1s - loss: 2.4045 - accuracy: 0.4503 - val_loss: 2.3478 - val_accuracy: 0.5441 - 620ms/epoch - 155ms/step\n",
      "Epoch 7/20\n",
      "4/4 - 1s - loss: 2.1357 - accuracy: 0.5624 - val_loss: 2.0357 - val_accuracy: 0.5441 - 631ms/epoch - 158ms/step\n",
      "Epoch 8/20\n",
      "4/4 - 1s - loss: 1.8004 - accuracy: 0.5751 - val_loss: 1.7277 - val_accuracy: 0.6029 - 630ms/epoch - 157ms/step\n",
      "Epoch 9/20\n",
      "4/4 - 1s - loss: 1.4995 - accuracy: 0.6681 - val_loss: 1.4318 - val_accuracy: 0.7304 - 610ms/epoch - 153ms/step\n",
      "Epoch 10/20\n",
      "4/4 - 1s - loss: 1.2312 - accuracy: 0.7400 - val_loss: 1.1727 - val_accuracy: 0.7549 - 609ms/epoch - 152ms/step\n",
      "Epoch 11/20\n",
      "4/4 - 1s - loss: 0.9813 - accuracy: 0.7822 - val_loss: 0.9791 - val_accuracy: 0.7990 - 596ms/epoch - 149ms/step\n",
      "Epoch 12/20\n",
      "4/4 - 1s - loss: 0.7874 - accuracy: 0.8288 - val_loss: 0.8009 - val_accuracy: 0.8333 - 608ms/epoch - 152ms/step\n",
      "Epoch 13/20\n",
      "4/4 - 1s - loss: 0.6484 - accuracy: 0.8457 - val_loss: 0.7045 - val_accuracy: 0.8529 - 605ms/epoch - 151ms/step\n",
      "Epoch 14/20\n",
      "4/4 - 1s - loss: 0.5455 - accuracy: 0.8626 - val_loss: 0.5991 - val_accuracy: 0.8480 - 631ms/epoch - 158ms/step\n",
      "Epoch 15/20\n",
      "4/4 - 1s - loss: 0.4493 - accuracy: 0.8732 - val_loss: 0.5224 - val_accuracy: 0.8922 - 636ms/epoch - 159ms/step\n",
      "Epoch 16/20\n",
      "4/4 - 1s - loss: 0.3742 - accuracy: 0.9197 - val_loss: 0.4530 - val_accuracy: 0.9118 - 639ms/epoch - 160ms/step\n",
      "Epoch 17/20\n",
      "4/4 - 1s - loss: 0.3129 - accuracy: 0.9387 - val_loss: 0.4086 - val_accuracy: 0.9118 - 629ms/epoch - 157ms/step\n",
      "Epoch 18/20\n",
      "4/4 - 1s - loss: 0.2677 - accuracy: 0.9450 - val_loss: 0.3730 - val_accuracy: 0.9265 - 635ms/epoch - 159ms/step\n",
      "Epoch 19/20\n",
      "4/4 - 1s - loss: 0.2177 - accuracy: 0.9429 - val_loss: 0.3234 - val_accuracy: 0.9363 - 620ms/epoch - 155ms/step\n",
      "Epoch 20/20\n",
      "4/4 - 1s - loss: 0.1815 - accuracy: 0.9619 - val_loss: 0.2822 - val_accuracy: 0.9363 - 614ms/epoch - 153ms/step\n"
     ]
    }
   ],
   "source": [
    "history = model.fit(X_train, Y_train, epochs=20, batch_size=128, verbose=2,validation_split=0.3)"
   ]
  },
  {
   "cell_type": "code",
   "execution_count": 43,
   "metadata": {},
   "outputs": [
    {
     "data": {
      "image/png": "[encoded data removed]",
      "text/plain": [
       "<Figure size 1200x400 with 2 Axes>"
      ]
     },
     "metadata": {},
     "output_type": "display_data"
    }
   ],
   "source": [
    "import matplotlib.pyplot as plt\n",
    "\n",
    "\n",
    "# Créez une figure avec une grille de sous-graphiques 1x2\n",
    "fig, axs = plt.subplots(1, 2, figsize=(12, 4))  # Ajustez la taille de la figure selon vos besoins\n",
    "\n",
    "# Premier sous-graphique (précisez le nombre d'époques dans 'range(len(history1['accuracy']))')\n",
    "axs[0].plot(range(len(history.history['accuracy'])), history.history['accuracy'], label='train')\n",
    "axs[0].plot(range(len(history.history['val_accuracy'])), history.history['val_accuracy'], label='validation')\n",
    "axs[0].set_title('Model Accuracy (Model 1)')\n",
    "axs[0].set_ylabel('Accuracy')\n",
    "axs[0].set_xlabel('Epoch')\n",
    "axs[0].legend(loc='upper left')\n",
    "\n",
    "axs[1].plot(range(len(history.history['loss'])), history.history['loss'], label='train')\n",
    "axs[1].plot(range(len(history.history['val_loss'])), history.history['val_loss'], label='validation')\n",
    "axs[1].set_title('Model Loss (Model 1)')\n",
    "axs[1].set_ylabel('Loss')\n",
    "axs[1].set_xlabel('Epoch')\n",
    "axs[1].legend(loc='upper left')\n",
    "\n",
    "# Ajustez l'espacement entre les sous-graphiques\n",
    "plt.tight_layout()\n",
    "\n",
    "# Affichez la figure\n",
    "plt.show()\n"
   ]
  },
  {
   "cell_type": "code",
   "execution_count": 44,
   "metadata": {},
   "outputs": [
    {
     "name": "stdout",
     "output_type": "stream",
     "text": [
      "6/6 - 0s - loss: 0.4694 - accuracy: 0.9341 - 163ms/epoch - 27ms/step\n",
      "score: 0.47\n",
      "acc: 0.93\n"
     ]
    }
   ],
   "source": [
    "score, acc = model.evaluate(X_test, Y_test, verbose=2, batch_size=64)\n",
    "print(\"score: %.2f\" % (score))\n",
    "print(\"acc: %.2f\" % (acc))"
   ]
  },
  {
   "cell_type": "code",
   "execution_count": 45,
   "metadata": {},
   "outputs": [
    {
     "name": "stdout",
     "output_type": "stream",
     "text": [
      "1/1 [==============================] - 1s 1s/step\n",
      "Séquence 1 - Classe prédite : BM\n",
      "Séquence 2 - Classe prédite : CM\n",
      "Séquence 3 - Classe prédite : AM\n"
     ]
    }
   ],
   "source": [
    "import numpy as np\n",
    "\n",
    "# Supposons que vous avez plusieurs séquences dans twt\n",
    "twt = [\"['B', 'D#', 'F#']\", \"['C', 'E', 'G']\", \"['A', 'C#', 'E']\"]\n",
    "\n",
    "# Convertissez les séquences en représentations numériques\n",
    "twt_sequences = tokenizer.texts_to_sequences(twt)\n",
    "\n",
    "# Remplacez les valeurs manquantes par des zéros\n",
    "twt_padded = tf.keras.preprocessing.sequence.pad_sequences(twt_sequences, maxlen=X.shape[1], dtype='int32', value=0)\n",
    "\n",
    "# Effectuez la prédiction avec votre modèle\n",
    "predictions = model.predict(twt_padded, batch_size=len(twt))\n",
    "\n",
    "\n",
    "# Affichez les résultats pour chaque séquence\n",
    "for i, prediction in enumerate(predictions):\n",
    "    predicted_class_index = np.argmax(prediction)\n",
    "    predicted_class = classes[predicted_class_index]\n",
    "    print(f\"Séquence {i+1} - Classe prédite : {predicted_class}\")\n"
   ]
  }
 ],
 "metadata": {
  "kernelspec": {
   "display_name": "myenv",
   "language": "python",
   "name": "python3"
  },
  "language_info": {
   "codemirror_mode": {
    "name": "ipython",
    "version": 3
   },
   "file_extension": ".py",
   "mimetype": "text/x-python",
   "name": "python",
   "nbconvert_exporter": "python",
   "pygments_lexer": "ipython3",
   "version": "3.10.11"
  }
 },
 "nbformat": 4,
 "nbformat_minor": 2
}
