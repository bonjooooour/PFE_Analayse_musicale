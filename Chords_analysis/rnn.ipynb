{
 "cells": [
  {
   "cell_type": "code",
   "execution_count": 1,
   "metadata": {},
   "outputs": [],
   "source": [
    "import os\n",
    "import sqlite3\n",
    "import pandas as pd\n",
    "import numpy as np"
   ]
  },
  {
   "cell_type": "markdown",
   "metadata": {},
   "source": [
    "**Nettoyage des données**"
   ]
  },
  {
   "cell_type": "code",
   "execution_count": 2,
   "metadata": {},
   "outputs": [],
   "source": [
    "notes = ['C','D','E','F','G','A','B']\n",
    "demi_ton = ['C','C#','D','D#','E','F','F#','G','G#','A','A#','B']\n",
    "demi_ton_b = ['C','Db','D','Eb','E','F','Gb','G','Ab','A','Bb','B']"
   ]
  },
  {
   "cell_type": "code",
   "execution_count": 3,
   "metadata": {},
   "outputs": [],
   "source": [
    "def get_fund(liste):\n",
    "    chords_cut = []\n",
    "    for i in range(len(liste)):\n",
    "        if \":\" in liste[i]:\n",
    "           chords_cut.append(liste[i].split(':')[0])\n",
    "        else: \n",
    "            chords_cut.append(liste[i].split('/')[0])\n",
    "\n",
    "    return chords_cut"
   ]
  },
  {
   "cell_type": "code",
   "execution_count": 4,
   "metadata": {},
   "outputs": [],
   "source": [
    "def get_type(liste):\n",
    "    chords_cut = [] \n",
    "    for i in range(len(liste)):\n",
    "        val = liste[i]\n",
    "        temp = 'M'\n",
    "        if \":\" in liste[i]:\n",
    "           temp = liste[i].split(':')[1]\n",
    "           if \"/\" in temp:\n",
    "               chords_cut.append(temp.split('/')[0])\n",
    "           else:\n",
    "               chords_cut.append(temp)\n",
    "        else: \n",
    "            chords_cut.append(temp)\n",
    "\n",
    "    return chords_cut"
   ]
  },
  {
   "cell_type": "code",
   "execution_count": 5,
   "metadata": {},
   "outputs": [],
   "source": [
    "def get_basse_mod(liste):\n",
    "    chords_cut = []\n",
    "    for i in range(len(liste)):\n",
    "        if \":\" in liste[i]:\n",
    "            temp = liste[i].split(':')[1]\n",
    "            if \"/\" in temp:\n",
    "                chords_cut.append(temp.split('/')[1])\n",
    "            else:\n",
    "                chords_cut.append(' ')\n",
    "        else: \n",
    "            if \"/\" in liste[i]:\n",
    "                chords_cut.append(liste[i].split('/')[1])\n",
    "            else: \n",
    "                chords_cut.append(' ')\n",
    "\n",
    "    return chords_cut"
   ]
  },
  {
   "cell_type": "code",
   "execution_count": 6,
   "metadata": {},
   "outputs": [],
   "source": [
    "dict_intervalle = {'b2': 1, '2': 1, 'b3': 3, '3': 3, 'b4': 4, '4': 4, 'b5': 5, '5': 5, 'b6': 6, '6': 6, 'b7': 7, '7': 7}\n",
    "dict_ton = {'b2': 0.5, '2': 1, 'b3': 1.5, '3': 2, 'b4': 2.5, '4': 3, 'b5': 3, '5': 3.5, 'b6': 4, '6': 4.5, 'b7': 5, '7': 5}"
   ]
  },
  {
   "cell_type": "code",
   "execution_count": 7,
   "metadata": {},
   "outputs": [],
   "source": [
    "def get_basse_inter(liste):\n",
    "    key_to_find = liste[2]\n",
    "    if key_to_find in dict_intervalle:\n",
    "        intervalle = dict_intervalle[key_to_find]\n",
    "\n",
    "        fund = liste[0]\n",
    "        if len(fund) >=2:\n",
    "            fund = fund[0]\n",
    "\n",
    "        idx = notes.index(fund)\n",
    "        idx_basse = idx + intervalle\n",
    "        if idx_basse >= 7:\n",
    "            idx_basse -= 7\n",
    "        inter_basse = notes[idx_basse-1]\n",
    "    else:\n",
    "        return 'No basse modification'\n",
    "    return inter_basse"
   ]
  },
  {
   "cell_type": "code",
   "execution_count": 8,
   "metadata": {},
   "outputs": [],
   "source": [
    "def get_basse_ton(liste):\n",
    "    key_to_find = liste[2]\n",
    "    fund_basse = ''\n",
    "    \n",
    "    if key_to_find in dict_ton:\n",
    "        val_ton = dict_ton[key_to_find]*2\n",
    "        idx = demi_ton.index(liste[0])\n",
    "        idx_basse = idx + val_ton\n",
    "        if idx_basse >= 12:\n",
    "            idx_basse -= 12\n",
    "        inter_basse_ton = demi_ton[int(idx_basse)]\n",
    "\n",
    "        note_inter = get_basse_inter(liste)\n",
    "\n",
    "        if len(inter_basse_ton) >=2:\n",
    "            fund_basse = inter_basse_ton[0]\n",
    "        \n",
    "        if note_inter != fund_basse:\n",
    "            inter_basse_ton = demi_ton_b[int(idx_basse)]\n",
    "\n",
    "    else:\n",
    "        inter_basse_ton = ''\n",
    "\n",
    "   \n",
    "    return inter_basse_ton"
   ]
  },
  {
   "cell_type": "code",
   "execution_count": 9,
   "metadata": {},
   "outputs": [],
   "source": [
    "def concat(lis1,lis2,lis3):\n",
    "    total = []\n",
    "    for i in range(len(lis1)):\n",
    "        total.append([lis1[i],lis2[i],lis3[i]])\n",
    "    return total"
   ]
  },
  {
   "cell_type": "code",
   "execution_count": 10,
   "metadata": {},
   "outputs": [],
   "source": [
    "def pretitify(list):\n",
    "    res = []\n",
    "    for value in list:\n",
    "        if value[2] != ' ':\n",
    "            res.append(value[0]+value[1]+'/'+ get_basse_ton(value))\n",
    "        else:\n",
    "            res.append(value[0]+value[1])\n",
    "    return res"
   ]
  },
  {
   "cell_type": "markdown",
   "metadata": {},
   "source": [
    "**Creéation d'un df avec les données**"
   ]
  },
  {
   "cell_type": "code",
   "execution_count": 11,
   "metadata": {},
   "outputs": [
    {
     "data": {
      "text/plain": [
       "(1137, 4)"
      ]
     },
     "execution_count": 11,
     "metadata": {},
     "output_type": "execute_result"
    }
   ],
   "source": [
    "# Spécifiez le chemin vers le dossier contenant le fichier LAB\n",
    "dossier = r\"C:\\Users\\lucie\\Documents\\Beatles\\A Hard Day's Night\"\n",
    "\n",
    "# Obtenez la liste des fichiers dans le dossier\n",
    "fichiers = [f for f in os.listdir(dossier) if os.path.isfile(os.path.join(dossier, f))]\n",
    "\n",
    "# Initialisez un DataFrame vide\n",
    "df_final = pd.DataFrame()\n",
    "\n",
    "# Parcourez chaque fichier dans le dossier\n",
    "for fichier in fichiers:\n",
    "    if fichier.endswith('.lab'):  # Assurez-vous que le fichier est au format LAB\n",
    "        chemin_fichier = os.path.join(dossier, fichier)\n",
    "        \n",
    "        # Lisez le fichier LAB et créez un DataFrame\n",
    "        df_temp = pd.read_csv(chemin_fichier, delimiter=' ', header=None, names=['start', 'end', 'chords'])\n",
    "        \n",
    "        # Ajoutez une colonne avec le nom du fichier\n",
    "        df_temp['NomFichier'] = fichier[5:]\n",
    "        \n",
    "        # Concaténez le DataFrame temporaire au DataFrame final\n",
    "        df_final = pd.concat([df_final, df_temp], ignore_index=True)\n",
    "\n",
    "# Affichez le DataFrame final\n",
    "df_final.shape"
   ]
  },
  {
   "cell_type": "markdown",
   "metadata": {},
   "source": [
    "**Rangement des données propres dans le df**"
   ]
  },
  {
   "cell_type": "code",
   "execution_count": 12,
   "metadata": {},
   "outputs": [
    {
     "data": {
      "text/html": [
       "<div>\n",
       "<style scoped>\n",
       "    .dataframe tbody tr th:only-of-type {\n",
       "        vertical-align: middle;\n",
       "    }\n",
       "\n",
       "    .dataframe tbody tr th {\n",
       "        vertical-align: top;\n",
       "    }\n",
       "\n",
       "    .dataframe thead th {\n",
       "        text-align: right;\n",
       "    }\n",
       "</style>\n",
       "<table border=\"1\" class=\"dataframe\">\n",
       "  <thead>\n",
       "    <tr style=\"text-align: right;\">\n",
       "      <th></th>\n",
       "      <th>start</th>\n",
       "      <th>end</th>\n",
       "      <th>chords</th>\n",
       "      <th>NomFichier</th>\n",
       "    </tr>\n",
       "  </thead>\n",
       "  <tbody>\n",
       "    <tr>\n",
       "      <th>0</th>\n",
       "      <td>0.000000</td>\n",
       "      <td>1.014823</td>\n",
       "      <td>N</td>\n",
       "      <td>A_Hard_Day's_Night.lab</td>\n",
       "    </tr>\n",
       "    <tr>\n",
       "      <th>1</th>\n",
       "      <td>1.014823</td>\n",
       "      <td>4.155032</td>\n",
       "      <td>G:sus4(b7)</td>\n",
       "      <td>A_Hard_Day's_Night.lab</td>\n",
       "    </tr>\n",
       "    <tr>\n",
       "      <th>2</th>\n",
       "      <td>4.155032</td>\n",
       "      <td>5.017256</td>\n",
       "      <td>G</td>\n",
       "      <td>A_Hard_Day's_Night.lab</td>\n",
       "    </tr>\n",
       "    <tr>\n",
       "      <th>3</th>\n",
       "      <td>5.017256</td>\n",
       "      <td>5.853174</td>\n",
       "      <td>C</td>\n",
       "      <td>A_Hard_Day's_Night.lab</td>\n",
       "    </tr>\n",
       "    <tr>\n",
       "      <th>4</th>\n",
       "      <td>5.853174</td>\n",
       "      <td>7.525011</td>\n",
       "      <td>G</td>\n",
       "      <td>A_Hard_Day's_Night.lab</td>\n",
       "    </tr>\n",
       "  </tbody>\n",
       "</table>\n",
       "</div>"
      ],
      "text/plain": [
       "      start       end      chords              NomFichier\n",
       "0  0.000000  1.014823           N  A_Hard_Day's_Night.lab\n",
       "1  1.014823  4.155032  G:sus4(b7)  A_Hard_Day's_Night.lab\n",
       "2  4.155032  5.017256           G  A_Hard_Day's_Night.lab\n",
       "3  5.017256  5.853174           C  A_Hard_Day's_Night.lab\n",
       "4  5.853174  7.525011           G  A_Hard_Day's_Night.lab"
      ]
     },
     "execution_count": 12,
     "metadata": {},
     "output_type": "execute_result"
    }
   ],
   "source": [
    "new_df = df_final\n",
    "# Affichez les premières lignes du nouveau DataFrame\n",
    "new_df.head()"
   ]
  },
  {
   "cell_type": "code",
   "execution_count": 13,
   "metadata": {},
   "outputs": [
    {
     "data": {
      "text/html": [
       "<div>\n",
       "<style scoped>\n",
       "    .dataframe tbody tr th:only-of-type {\n",
       "        vertical-align: middle;\n",
       "    }\n",
       "\n",
       "    .dataframe tbody tr th {\n",
       "        vertical-align: top;\n",
       "    }\n",
       "\n",
       "    .dataframe thead th {\n",
       "        text-align: right;\n",
       "    }\n",
       "</style>\n",
       "<table border=\"1\" class=\"dataframe\">\n",
       "  <thead>\n",
       "    <tr style=\"text-align: right;\">\n",
       "      <th></th>\n",
       "      <th>start</th>\n",
       "      <th>end</th>\n",
       "      <th>chords</th>\n",
       "      <th>NomFichier</th>\n",
       "      <th>Decompo</th>\n",
       "    </tr>\n",
       "  </thead>\n",
       "  <tbody>\n",
       "    <tr>\n",
       "      <th>0</th>\n",
       "      <td>0.000000</td>\n",
       "      <td>1.014823</td>\n",
       "      <td>N</td>\n",
       "      <td>A_Hard_Day's_Night.lab</td>\n",
       "      <td>[N, M,  ]</td>\n",
       "    </tr>\n",
       "    <tr>\n",
       "      <th>1</th>\n",
       "      <td>1.014823</td>\n",
       "      <td>4.155032</td>\n",
       "      <td>G:sus4(b7)</td>\n",
       "      <td>A_Hard_Day's_Night.lab</td>\n",
       "      <td>[G, sus4(b7),  ]</td>\n",
       "    </tr>\n",
       "    <tr>\n",
       "      <th>2</th>\n",
       "      <td>4.155032</td>\n",
       "      <td>5.017256</td>\n",
       "      <td>G</td>\n",
       "      <td>A_Hard_Day's_Night.lab</td>\n",
       "      <td>[G, M,  ]</td>\n",
       "    </tr>\n",
       "    <tr>\n",
       "      <th>3</th>\n",
       "      <td>5.017256</td>\n",
       "      <td>5.853174</td>\n",
       "      <td>C</td>\n",
       "      <td>A_Hard_Day's_Night.lab</td>\n",
       "      <td>[C, M,  ]</td>\n",
       "    </tr>\n",
       "    <tr>\n",
       "      <th>4</th>\n",
       "      <td>5.853174</td>\n",
       "      <td>7.525011</td>\n",
       "      <td>G</td>\n",
       "      <td>A_Hard_Day's_Night.lab</td>\n",
       "      <td>[G, M,  ]</td>\n",
       "    </tr>\n",
       "  </tbody>\n",
       "</table>\n",
       "</div>"
      ],
      "text/plain": [
       "      start       end      chords              NomFichier           Decompo\n",
       "0  0.000000  1.014823           N  A_Hard_Day's_Night.lab         [N, M,  ]\n",
       "1  1.014823  4.155032  G:sus4(b7)  A_Hard_Day's_Night.lab  [G, sus4(b7),  ]\n",
       "2  4.155032  5.017256           G  A_Hard_Day's_Night.lab         [G, M,  ]\n",
       "3  5.017256  5.853174           C  A_Hard_Day's_Night.lab         [C, M,  ]\n",
       "4  5.853174  7.525011           G  A_Hard_Day's_Night.lab         [G, M,  ]"
      ]
     },
     "execution_count": 13,
     "metadata": {},
     "output_type": "execute_result"
    }
   ],
   "source": [
    "new_df['Decompo'] = concat(get_fund(new_df['chords']),get_type(new_df['chords']),get_basse_mod(new_df['chords']))\n",
    "new_df.head()"
   ]
  },
  {
   "cell_type": "code",
   "execution_count": 14,
   "metadata": {},
   "outputs": [
    {
     "data": {
      "text/html": [
       "<div>\n",
       "<style scoped>\n",
       "    .dataframe tbody tr th:only-of-type {\n",
       "        vertical-align: middle;\n",
       "    }\n",
       "\n",
       "    .dataframe tbody tr th {\n",
       "        vertical-align: top;\n",
       "    }\n",
       "\n",
       "    .dataframe thead th {\n",
       "        text-align: right;\n",
       "    }\n",
       "</style>\n",
       "<table border=\"1\" class=\"dataframe\">\n",
       "  <thead>\n",
       "    <tr style=\"text-align: right;\">\n",
       "      <th></th>\n",
       "      <th>start</th>\n",
       "      <th>end</th>\n",
       "      <th>chords</th>\n",
       "      <th>NomFichier</th>\n",
       "      <th>Decompo</th>\n",
       "      <th>Good_chords</th>\n",
       "    </tr>\n",
       "  </thead>\n",
       "  <tbody>\n",
       "    <tr>\n",
       "      <th>0</th>\n",
       "      <td>0.000000</td>\n",
       "      <td>1.014823</td>\n",
       "      <td>N</td>\n",
       "      <td>A_Hard_Day's_Night.lab</td>\n",
       "      <td>[N, M,  ]</td>\n",
       "      <td>NM</td>\n",
       "    </tr>\n",
       "    <tr>\n",
       "      <th>1</th>\n",
       "      <td>1.014823</td>\n",
       "      <td>4.155032</td>\n",
       "      <td>G:sus4(b7)</td>\n",
       "      <td>A_Hard_Day's_Night.lab</td>\n",
       "      <td>[G, sus4(b7),  ]</td>\n",
       "      <td>Gsus4(b7)</td>\n",
       "    </tr>\n",
       "    <tr>\n",
       "      <th>2</th>\n",
       "      <td>4.155032</td>\n",
       "      <td>5.017256</td>\n",
       "      <td>G</td>\n",
       "      <td>A_Hard_Day's_Night.lab</td>\n",
       "      <td>[G, M,  ]</td>\n",
       "      <td>GM</td>\n",
       "    </tr>\n",
       "    <tr>\n",
       "      <th>3</th>\n",
       "      <td>5.017256</td>\n",
       "      <td>5.853174</td>\n",
       "      <td>C</td>\n",
       "      <td>A_Hard_Day's_Night.lab</td>\n",
       "      <td>[C, M,  ]</td>\n",
       "      <td>CM</td>\n",
       "    </tr>\n",
       "    <tr>\n",
       "      <th>4</th>\n",
       "      <td>5.853174</td>\n",
       "      <td>7.525011</td>\n",
       "      <td>G</td>\n",
       "      <td>A_Hard_Day's_Night.lab</td>\n",
       "      <td>[G, M,  ]</td>\n",
       "      <td>GM</td>\n",
       "    </tr>\n",
       "  </tbody>\n",
       "</table>\n",
       "</div>"
      ],
      "text/plain": [
       "      start       end      chords              NomFichier           Decompo  \\\n",
       "0  0.000000  1.014823           N  A_Hard_Day's_Night.lab         [N, M,  ]   \n",
       "1  1.014823  4.155032  G:sus4(b7)  A_Hard_Day's_Night.lab  [G, sus4(b7),  ]   \n",
       "2  4.155032  5.017256           G  A_Hard_Day's_Night.lab         [G, M,  ]   \n",
       "3  5.017256  5.853174           C  A_Hard_Day's_Night.lab         [C, M,  ]   \n",
       "4  5.853174  7.525011           G  A_Hard_Day's_Night.lab         [G, M,  ]   \n",
       "\n",
       "  Good_chords  \n",
       "0          NM  \n",
       "1   Gsus4(b7)  \n",
       "2          GM  \n",
       "3          CM  \n",
       "4          GM  "
      ]
     },
     "execution_count": 14,
     "metadata": {},
     "output_type": "execute_result"
    }
   ],
   "source": [
    "new_df['Good_chords'] = pretitify(new_df['Decompo'])\n",
    "new_df.head()"
   ]
  },
  {
   "cell_type": "code",
   "execution_count": 15,
   "metadata": {},
   "outputs": [
    {
     "data": {
      "text/plain": [
       "array(['A7', 'A7/E', 'A7/G', 'A9(11)', 'AM', 'AM/C#', 'Amin', 'Asus4',\n",
       "       'B7', 'BM', 'Baug', 'Bb7', 'BbM', 'Bbmin', 'Bmin', 'Bmin/F#',\n",
       "       'C#min', 'C7', 'C9', 'CM', 'D7', 'D9', 'DM', 'DM/A', 'DbM', 'Dmin',\n",
       "       'E7', 'EM', 'Ebmin', 'Emaj6', 'Emin', 'Emin/G', 'Emin7',\n",
       "       'F#(1,4,b7)', 'F#M', 'F#min', 'F#min/C#', 'F7', 'FM', 'Fdim',\n",
       "       'Fmaj9(*7)', 'G#M', 'G#min', 'G7', 'GM', 'GM/D', 'Gmin', 'Gmin/Bb',\n",
       "       'Gsus4(b7)', 'Gsus4/D', 'NM'], dtype=object)"
      ]
     },
     "execution_count": 15,
     "metadata": {},
     "output_type": "execute_result"
    }
   ],
   "source": [
    "np.unique(np.array(new_df['Good_chords']))"
   ]
  },
  {
   "cell_type": "markdown",
   "metadata": {},
   "source": [
    "**Ajout des séquences de notes**"
   ]
  },
  {
   "cell_type": "code",
   "execution_count": 16,
   "metadata": {},
   "outputs": [],
   "source": [
    "from mingus.core import chords\n",
    "from mingus.containers import NoteContainer\n",
    "from mingus.midi import midi_file_out as MidiFileOut"
   ]
  },
  {
   "cell_type": "code",
   "execution_count": 17,
   "metadata": {},
   "outputs": [
    {
     "ename": "FormatError",
     "evalue": "Unknown shorthand: Gsus4(b7)",
     "output_type": "error",
     "traceback": [
      "\u001b[1;31m---------------------------------------------------------------------------\u001b[0m",
      "\u001b[1;31mFormatError\u001b[0m                               Traceback (most recent call last)",
      "Cell \u001b[1;32mIn[17], line 1\u001b[0m\n\u001b[1;32m----> 1\u001b[0m new_df[\u001b[38;5;124m'\u001b[39m\u001b[38;5;124mnotes\u001b[39m\u001b[38;5;124m'\u001b[39m] \u001b[38;5;241m=\u001b[39m \u001b[43mnew_df\u001b[49m\u001b[43m[\u001b[49m\u001b[38;5;124;43m'\u001b[39;49m\u001b[38;5;124;43mGood_chords\u001b[39;49m\u001b[38;5;124;43m'\u001b[39;49m\u001b[43m]\u001b[49m\u001b[38;5;241;43m.\u001b[39;49m\u001b[43mapply\u001b[49m\u001b[43m(\u001b[49m\u001b[38;5;28;43;01mlambda\u001b[39;49;00m\u001b[43m \u001b[49m\u001b[43mx\u001b[49m\u001b[43m:\u001b[49m\u001b[43m \u001b[49m\u001b[43mchords\u001b[49m\u001b[38;5;241;43m.\u001b[39;49m\u001b[43mfrom_shorthand\u001b[49m\u001b[43m(\u001b[49m\u001b[43mx\u001b[49m\u001b[43m)\u001b[49m\u001b[43m \u001b[49m\u001b[38;5;28;43;01mif\u001b[39;49;00m\u001b[43m \u001b[49m\u001b[38;5;124;43m'\u001b[39;49m\u001b[38;5;124;43mN\u001b[39;49m\u001b[38;5;124;43m'\u001b[39;49m\u001b[43m \u001b[49m\u001b[38;5;129;43;01mnot\u001b[39;49;00m\u001b[43m \u001b[49m\u001b[38;5;129;43;01min\u001b[39;49;00m\u001b[43m \u001b[49m\u001b[43mx\u001b[49m\u001b[43m \u001b[49m\u001b[38;5;28;43;01melse\u001b[39;49;00m\u001b[43m \u001b[49m\u001b[43mnp\u001b[49m\u001b[38;5;241;43m.\u001b[39;49m\u001b[43mnan\u001b[49m\u001b[43m)\u001b[49m\n\u001b[0;32m      2\u001b[0m new_df\u001b[38;5;241m.\u001b[39mhead()\n",
      "File \u001b[1;32mc:\\Users\\lucie\\Documents\\Programmation\\PFE_Analayse_musicale\\myenv\\lib\\site-packages\\pandas\\core\\series.py:4760\u001b[0m, in \u001b[0;36mSeries.apply\u001b[1;34m(self, func, convert_dtype, args, by_row, **kwargs)\u001b[0m\n\u001b[0;32m   4625\u001b[0m \u001b[38;5;28;01mdef\u001b[39;00m \u001b[38;5;21mapply\u001b[39m(\n\u001b[0;32m   4626\u001b[0m     \u001b[38;5;28mself\u001b[39m,\n\u001b[0;32m   4627\u001b[0m     func: AggFuncType,\n\u001b[1;32m   (...)\u001b[0m\n\u001b[0;32m   4632\u001b[0m     \u001b[38;5;241m*\u001b[39m\u001b[38;5;241m*\u001b[39mkwargs,\n\u001b[0;32m   4633\u001b[0m ) \u001b[38;5;241m-\u001b[39m\u001b[38;5;241m>\u001b[39m DataFrame \u001b[38;5;241m|\u001b[39m Series:\n\u001b[0;32m   4634\u001b[0m \u001b[38;5;250m    \u001b[39m\u001b[38;5;124;03m\"\"\"\u001b[39;00m\n\u001b[0;32m   4635\u001b[0m \u001b[38;5;124;03m    Invoke function on values of Series.\u001b[39;00m\n\u001b[0;32m   4636\u001b[0m \n\u001b[1;32m   (...)\u001b[0m\n\u001b[0;32m   4751\u001b[0m \u001b[38;5;124;03m    dtype: float64\u001b[39;00m\n\u001b[0;32m   4752\u001b[0m \u001b[38;5;124;03m    \"\"\"\u001b[39;00m\n\u001b[0;32m   4753\u001b[0m     \u001b[38;5;28;01mreturn\u001b[39;00m \u001b[43mSeriesApply\u001b[49m\u001b[43m(\u001b[49m\n\u001b[0;32m   4754\u001b[0m \u001b[43m        \u001b[49m\u001b[38;5;28;43mself\u001b[39;49m\u001b[43m,\u001b[49m\n\u001b[0;32m   4755\u001b[0m \u001b[43m        \u001b[49m\u001b[43mfunc\u001b[49m\u001b[43m,\u001b[49m\n\u001b[0;32m   4756\u001b[0m \u001b[43m        \u001b[49m\u001b[43mconvert_dtype\u001b[49m\u001b[38;5;241;43m=\u001b[39;49m\u001b[43mconvert_dtype\u001b[49m\u001b[43m,\u001b[49m\n\u001b[0;32m   4757\u001b[0m \u001b[43m        \u001b[49m\u001b[43mby_row\u001b[49m\u001b[38;5;241;43m=\u001b[39;49m\u001b[43mby_row\u001b[49m\u001b[43m,\u001b[49m\n\u001b[0;32m   4758\u001b[0m \u001b[43m        \u001b[49m\u001b[43margs\u001b[49m\u001b[38;5;241;43m=\u001b[39;49m\u001b[43margs\u001b[49m\u001b[43m,\u001b[49m\n\u001b[0;32m   4759\u001b[0m \u001b[43m        \u001b[49m\u001b[43mkwargs\u001b[49m\u001b[38;5;241;43m=\u001b[39;49m\u001b[43mkwargs\u001b[49m\u001b[43m,\u001b[49m\n\u001b[1;32m-> 4760\u001b[0m \u001b[43m    \u001b[49m\u001b[43m)\u001b[49m\u001b[38;5;241;43m.\u001b[39;49m\u001b[43mapply\u001b[49m\u001b[43m(\u001b[49m\u001b[43m)\u001b[49m\n",
      "File \u001b[1;32mc:\\Users\\lucie\\Documents\\Programmation\\PFE_Analayse_musicale\\myenv\\lib\\site-packages\\pandas\\core\\apply.py:1207\u001b[0m, in \u001b[0;36mSeriesApply.apply\u001b[1;34m(self)\u001b[0m\n\u001b[0;32m   1204\u001b[0m     \u001b[38;5;28;01mreturn\u001b[39;00m \u001b[38;5;28mself\u001b[39m\u001b[38;5;241m.\u001b[39mapply_compat()\n\u001b[0;32m   1206\u001b[0m \u001b[38;5;66;03m# self.func is Callable\u001b[39;00m\n\u001b[1;32m-> 1207\u001b[0m \u001b[38;5;28;01mreturn\u001b[39;00m \u001b[38;5;28;43mself\u001b[39;49m\u001b[38;5;241;43m.\u001b[39;49m\u001b[43mapply_standard\u001b[49m\u001b[43m(\u001b[49m\u001b[43m)\u001b[49m\n",
      "File \u001b[1;32mc:\\Users\\lucie\\Documents\\Programmation\\PFE_Analayse_musicale\\myenv\\lib\\site-packages\\pandas\\core\\apply.py:1287\u001b[0m, in \u001b[0;36mSeriesApply.apply_standard\u001b[1;34m(self)\u001b[0m\n\u001b[0;32m   1281\u001b[0m \u001b[38;5;66;03m# row-wise access\u001b[39;00m\n\u001b[0;32m   1282\u001b[0m \u001b[38;5;66;03m# apply doesn't have a `na_action` keyword and for backward compat reasons\u001b[39;00m\n\u001b[0;32m   1283\u001b[0m \u001b[38;5;66;03m# we need to give `na_action=\"ignore\"` for categorical data.\u001b[39;00m\n\u001b[0;32m   1284\u001b[0m \u001b[38;5;66;03m# TODO: remove the `na_action=\"ignore\"` when that default has been changed in\u001b[39;00m\n\u001b[0;32m   1285\u001b[0m \u001b[38;5;66;03m#  Categorical (GH51645).\u001b[39;00m\n\u001b[0;32m   1286\u001b[0m action \u001b[38;5;241m=\u001b[39m \u001b[38;5;124m\"\u001b[39m\u001b[38;5;124mignore\u001b[39m\u001b[38;5;124m\"\u001b[39m \u001b[38;5;28;01mif\u001b[39;00m \u001b[38;5;28misinstance\u001b[39m(obj\u001b[38;5;241m.\u001b[39mdtype, CategoricalDtype) \u001b[38;5;28;01melse\u001b[39;00m \u001b[38;5;28;01mNone\u001b[39;00m\n\u001b[1;32m-> 1287\u001b[0m mapped \u001b[38;5;241m=\u001b[39m \u001b[43mobj\u001b[49m\u001b[38;5;241;43m.\u001b[39;49m\u001b[43m_map_values\u001b[49m\u001b[43m(\u001b[49m\n\u001b[0;32m   1288\u001b[0m \u001b[43m    \u001b[49m\u001b[43mmapper\u001b[49m\u001b[38;5;241;43m=\u001b[39;49m\u001b[43mcurried\u001b[49m\u001b[43m,\u001b[49m\u001b[43m \u001b[49m\u001b[43mna_action\u001b[49m\u001b[38;5;241;43m=\u001b[39;49m\u001b[43maction\u001b[49m\u001b[43m,\u001b[49m\u001b[43m \u001b[49m\u001b[43mconvert\u001b[49m\u001b[38;5;241;43m=\u001b[39;49m\u001b[38;5;28;43mself\u001b[39;49m\u001b[38;5;241;43m.\u001b[39;49m\u001b[43mconvert_dtype\u001b[49m\n\u001b[0;32m   1289\u001b[0m \u001b[43m\u001b[49m\u001b[43m)\u001b[49m\n\u001b[0;32m   1291\u001b[0m \u001b[38;5;28;01mif\u001b[39;00m \u001b[38;5;28mlen\u001b[39m(mapped) \u001b[38;5;129;01mand\u001b[39;00m \u001b[38;5;28misinstance\u001b[39m(mapped[\u001b[38;5;241m0\u001b[39m], ABCSeries):\n\u001b[0;32m   1292\u001b[0m     \u001b[38;5;66;03m# GH#43986 Need to do list(mapped) in order to get treated as nested\u001b[39;00m\n\u001b[0;32m   1293\u001b[0m     \u001b[38;5;66;03m#  See also GH#25959 regarding EA support\u001b[39;00m\n\u001b[0;32m   1294\u001b[0m     \u001b[38;5;28;01mreturn\u001b[39;00m obj\u001b[38;5;241m.\u001b[39m_constructor_expanddim(\u001b[38;5;28mlist\u001b[39m(mapped), index\u001b[38;5;241m=\u001b[39mobj\u001b[38;5;241m.\u001b[39mindex)\n",
      "File \u001b[1;32mc:\\Users\\lucie\\Documents\\Programmation\\PFE_Analayse_musicale\\myenv\\lib\\site-packages\\pandas\\core\\base.py:921\u001b[0m, in \u001b[0;36mIndexOpsMixin._map_values\u001b[1;34m(self, mapper, na_action, convert)\u001b[0m\n\u001b[0;32m    918\u001b[0m \u001b[38;5;28;01mif\u001b[39;00m \u001b[38;5;28misinstance\u001b[39m(arr, ExtensionArray):\n\u001b[0;32m    919\u001b[0m     \u001b[38;5;28;01mreturn\u001b[39;00m arr\u001b[38;5;241m.\u001b[39mmap(mapper, na_action\u001b[38;5;241m=\u001b[39mna_action)\n\u001b[1;32m--> 921\u001b[0m \u001b[38;5;28;01mreturn\u001b[39;00m \u001b[43malgorithms\u001b[49m\u001b[38;5;241;43m.\u001b[39;49m\u001b[43mmap_array\u001b[49m\u001b[43m(\u001b[49m\u001b[43marr\u001b[49m\u001b[43m,\u001b[49m\u001b[43m \u001b[49m\u001b[43mmapper\u001b[49m\u001b[43m,\u001b[49m\u001b[43m \u001b[49m\u001b[43mna_action\u001b[49m\u001b[38;5;241;43m=\u001b[39;49m\u001b[43mna_action\u001b[49m\u001b[43m,\u001b[49m\u001b[43m \u001b[49m\u001b[43mconvert\u001b[49m\u001b[38;5;241;43m=\u001b[39;49m\u001b[43mconvert\u001b[49m\u001b[43m)\u001b[49m\n",
      "File \u001b[1;32mc:\\Users\\lucie\\Documents\\Programmation\\PFE_Analayse_musicale\\myenv\\lib\\site-packages\\pandas\\core\\algorithms.py:1814\u001b[0m, in \u001b[0;36mmap_array\u001b[1;34m(arr, mapper, na_action, convert)\u001b[0m\n\u001b[0;32m   1812\u001b[0m values \u001b[38;5;241m=\u001b[39m arr\u001b[38;5;241m.\u001b[39mastype(\u001b[38;5;28mobject\u001b[39m, copy\u001b[38;5;241m=\u001b[39m\u001b[38;5;28;01mFalse\u001b[39;00m)\n\u001b[0;32m   1813\u001b[0m \u001b[38;5;28;01mif\u001b[39;00m na_action \u001b[38;5;129;01mis\u001b[39;00m \u001b[38;5;28;01mNone\u001b[39;00m:\n\u001b[1;32m-> 1814\u001b[0m     \u001b[38;5;28;01mreturn\u001b[39;00m \u001b[43mlib\u001b[49m\u001b[38;5;241;43m.\u001b[39;49m\u001b[43mmap_infer\u001b[49m\u001b[43m(\u001b[49m\u001b[43mvalues\u001b[49m\u001b[43m,\u001b[49m\u001b[43m \u001b[49m\u001b[43mmapper\u001b[49m\u001b[43m,\u001b[49m\u001b[43m \u001b[49m\u001b[43mconvert\u001b[49m\u001b[38;5;241;43m=\u001b[39;49m\u001b[43mconvert\u001b[49m\u001b[43m)\u001b[49m\n\u001b[0;32m   1815\u001b[0m \u001b[38;5;28;01melse\u001b[39;00m:\n\u001b[0;32m   1816\u001b[0m     \u001b[38;5;28;01mreturn\u001b[39;00m lib\u001b[38;5;241m.\u001b[39mmap_infer_mask(\n\u001b[0;32m   1817\u001b[0m         values, mapper, mask\u001b[38;5;241m=\u001b[39misna(values)\u001b[38;5;241m.\u001b[39mview(np\u001b[38;5;241m.\u001b[39muint8), convert\u001b[38;5;241m=\u001b[39mconvert\n\u001b[0;32m   1818\u001b[0m     )\n",
      "File \u001b[1;32mlib.pyx:2920\u001b[0m, in \u001b[0;36mpandas._libs.lib.map_infer\u001b[1;34m()\u001b[0m\n",
      "Cell \u001b[1;32mIn[17], line 1\u001b[0m, in \u001b[0;36m<lambda>\u001b[1;34m(x)\u001b[0m\n\u001b[1;32m----> 1\u001b[0m new_df[\u001b[38;5;124m'\u001b[39m\u001b[38;5;124mnotes\u001b[39m\u001b[38;5;124m'\u001b[39m] \u001b[38;5;241m=\u001b[39m new_df[\u001b[38;5;124m'\u001b[39m\u001b[38;5;124mGood_chords\u001b[39m\u001b[38;5;124m'\u001b[39m]\u001b[38;5;241m.\u001b[39mapply(\u001b[38;5;28;01mlambda\u001b[39;00m x: \u001b[43mchords\u001b[49m\u001b[38;5;241;43m.\u001b[39;49m\u001b[43mfrom_shorthand\u001b[49m\u001b[43m(\u001b[49m\u001b[43mx\u001b[49m\u001b[43m)\u001b[49m \u001b[38;5;28;01mif\u001b[39;00m \u001b[38;5;124m'\u001b[39m\u001b[38;5;124mN\u001b[39m\u001b[38;5;124m'\u001b[39m \u001b[38;5;129;01mnot\u001b[39;00m \u001b[38;5;129;01min\u001b[39;00m x \u001b[38;5;28;01melse\u001b[39;00m np\u001b[38;5;241m.\u001b[39mnan)\n\u001b[0;32m      2\u001b[0m new_df\u001b[38;5;241m.\u001b[39mhead()\n",
      "File \u001b[1;32mc:\\Users\\lucie\\Documents\\Programmation\\PFE_Analayse_musicale\\myenv\\lib\\site-packages\\mingus\\core\\chords.py:917\u001b[0m, in \u001b[0;36mfrom_shorthand\u001b[1;34m(shorthand_string, slash)\u001b[0m\n\u001b[0;32m    915\u001b[0m     \u001b[38;5;28;01mreturn\u001b[39;00m res\n\u001b[0;32m    916\u001b[0m \u001b[38;5;28;01melse\u001b[39;00m:\n\u001b[1;32m--> 917\u001b[0m     \u001b[38;5;28;01mraise\u001b[39;00m FormatError(\u001b[38;5;124m\"\u001b[39m\u001b[38;5;124mUnknown shorthand: \u001b[39m\u001b[38;5;132;01m%s\u001b[39;00m\u001b[38;5;124m\"\u001b[39m \u001b[38;5;241m%\u001b[39m shorthand_string)\n",
      "\u001b[1;31mFormatError\u001b[0m: Unknown shorthand: Gsus4(b7)"
     ]
    }
   ],
   "source": [
    "new_df['notes'] = new_df['Good_chords'].apply(lambda x: chords.from_shorthand(x) if 'N' not in x else np.nan)\n",
    "new_df.head()"
   ]
  },
  {
   "cell_type": "code",
   "execution_count": null,
   "metadata": {},
   "outputs": [
    {
     "data": {
      "text/html": [
       "<div>\n",
       "<style scoped>\n",
       "    .dataframe tbody tr th:only-of-type {\n",
       "        vertical-align: middle;\n",
       "    }\n",
       "\n",
       "    .dataframe tbody tr th {\n",
       "        vertical-align: top;\n",
       "    }\n",
       "\n",
       "    .dataframe thead th {\n",
       "        text-align: right;\n",
       "    }\n",
       "</style>\n",
       "<table border=\"1\" class=\"dataframe\">\n",
       "  <thead>\n",
       "    <tr style=\"text-align: right;\">\n",
       "      <th></th>\n",
       "      <th>start</th>\n",
       "      <th>end</th>\n",
       "      <th>chords</th>\n",
       "      <th>NomFichier</th>\n",
       "      <th>Decompo</th>\n",
       "      <th>Good_chords</th>\n",
       "      <th>notes</th>\n",
       "      <th>taille_sequence</th>\n",
       "    </tr>\n",
       "  </thead>\n",
       "  <tbody>\n",
       "    <tr>\n",
       "      <th>0</th>\n",
       "      <td>0.000000</td>\n",
       "      <td>2.612267</td>\n",
       "      <td>N</td>\n",
       "      <td>I_Saw_Her_Standing_There.lab</td>\n",
       "      <td>[N, M,  ]</td>\n",
       "      <td>NM</td>\n",
       "      <td>NaN</td>\n",
       "      <td>NaN</td>\n",
       "    </tr>\n",
       "    <tr>\n",
       "      <th>1</th>\n",
       "      <td>2.612267</td>\n",
       "      <td>11.459070</td>\n",
       "      <td>E</td>\n",
       "      <td>I_Saw_Her_Standing_There.lab</td>\n",
       "      <td>[E, M,  ]</td>\n",
       "      <td>EM</td>\n",
       "      <td>[E, G#, B]</td>\n",
       "      <td>3.0</td>\n",
       "    </tr>\n",
       "    <tr>\n",
       "      <th>2</th>\n",
       "      <td>11.459070</td>\n",
       "      <td>12.921927</td>\n",
       "      <td>A</td>\n",
       "      <td>I_Saw_Her_Standing_There.lab</td>\n",
       "      <td>[A, M,  ]</td>\n",
       "      <td>AM</td>\n",
       "      <td>[A, C#, E]</td>\n",
       "      <td>3.0</td>\n",
       "    </tr>\n",
       "    <tr>\n",
       "      <th>3</th>\n",
       "      <td>12.921927</td>\n",
       "      <td>17.443474</td>\n",
       "      <td>E</td>\n",
       "      <td>I_Saw_Her_Standing_There.lab</td>\n",
       "      <td>[E, M,  ]</td>\n",
       "      <td>EM</td>\n",
       "      <td>[E, G#, B]</td>\n",
       "      <td>3.0</td>\n",
       "    </tr>\n",
       "    <tr>\n",
       "      <th>4</th>\n",
       "      <td>17.443474</td>\n",
       "      <td>20.410362</td>\n",
       "      <td>B</td>\n",
       "      <td>I_Saw_Her_Standing_There.lab</td>\n",
       "      <td>[B, M,  ]</td>\n",
       "      <td>BM</td>\n",
       "      <td>[B, D#, F#]</td>\n",
       "      <td>3.0</td>\n",
       "    </tr>\n",
       "  </tbody>\n",
       "</table>\n",
       "</div>"
      ],
      "text/plain": [
       "       start        end chords                    NomFichier    Decompo  \\\n",
       "0   0.000000   2.612267      N  I_Saw_Her_Standing_There.lab  [N, M,  ]   \n",
       "1   2.612267  11.459070      E  I_Saw_Her_Standing_There.lab  [E, M,  ]   \n",
       "2  11.459070  12.921927      A  I_Saw_Her_Standing_There.lab  [A, M,  ]   \n",
       "3  12.921927  17.443474      E  I_Saw_Her_Standing_There.lab  [E, M,  ]   \n",
       "4  17.443474  20.410362      B  I_Saw_Her_Standing_There.lab  [B, M,  ]   \n",
       "\n",
       "  Good_chords        notes  taille_sequence  \n",
       "0          NM          NaN              NaN  \n",
       "1          EM   [E, G#, B]              3.0  \n",
       "2          AM   [A, C#, E]              3.0  \n",
       "3          EM   [E, G#, B]              3.0  \n",
       "4          BM  [B, D#, F#]              3.0  "
      ]
     },
     "execution_count": 18,
     "metadata": {},
     "output_type": "execute_result"
    }
   ],
   "source": [
    "# Utilisez la fonction apply de pandas avec len pour calculer la longueur de chaque séquence\n",
    "new_df['taille_sequence'] = new_df['notes'].apply(lambda x: len(x) if isinstance(x, list) else np.nan)\n",
    "new_df.head()"
   ]
  },
  {
   "cell_type": "code",
   "execution_count": null,
   "metadata": {},
   "outputs": [
    {
     "data": {
      "text/plain": [
       "array([ 3.,  4.,  5., nan])"
      ]
     },
     "execution_count": 19,
     "metadata": {},
     "output_type": "execute_result"
    }
   ],
   "source": [
    "np.unique(np.array(new_df['taille_sequence']))"
   ]
  },
  {
   "cell_type": "code",
   "execution_count": null,
   "metadata": {},
   "outputs": [
    {
     "data": {
      "text/html": [
       "<div>\n",
       "<style scoped>\n",
       "    .dataframe tbody tr th:only-of-type {\n",
       "        vertical-align: middle;\n",
       "    }\n",
       "\n",
       "    .dataframe tbody tr th {\n",
       "        vertical-align: top;\n",
       "    }\n",
       "\n",
       "    .dataframe thead th {\n",
       "        text-align: right;\n",
       "    }\n",
       "</style>\n",
       "<table border=\"1\" class=\"dataframe\">\n",
       "  <thead>\n",
       "    <tr style=\"text-align: right;\">\n",
       "      <th></th>\n",
       "      <th>start</th>\n",
       "      <th>end</th>\n",
       "      <th>chords</th>\n",
       "      <th>NomFichier</th>\n",
       "      <th>Decompo</th>\n",
       "      <th>Good_chords</th>\n",
       "      <th>notes</th>\n",
       "      <th>taille_sequence</th>\n",
       "    </tr>\n",
       "  </thead>\n",
       "  <tbody>\n",
       "    <tr>\n",
       "      <th>0</th>\n",
       "      <td>0.000000</td>\n",
       "      <td>2.612267</td>\n",
       "      <td>N</td>\n",
       "      <td>I_Saw_Her_Standing_There.lab</td>\n",
       "      <td>['N', 'M', ' ']</td>\n",
       "      <td>NM</td>\n",
       "      <td>nan</td>\n",
       "      <td>NaN</td>\n",
       "    </tr>\n",
       "    <tr>\n",
       "      <th>1</th>\n",
       "      <td>2.612267</td>\n",
       "      <td>11.459070</td>\n",
       "      <td>E</td>\n",
       "      <td>I_Saw_Her_Standing_There.lab</td>\n",
       "      <td>['E', 'M', ' ']</td>\n",
       "      <td>EM</td>\n",
       "      <td>['E', 'G#', 'B']</td>\n",
       "      <td>3.0</td>\n",
       "    </tr>\n",
       "    <tr>\n",
       "      <th>2</th>\n",
       "      <td>11.459070</td>\n",
       "      <td>12.921927</td>\n",
       "      <td>A</td>\n",
       "      <td>I_Saw_Her_Standing_There.lab</td>\n",
       "      <td>['A', 'M', ' ']</td>\n",
       "      <td>AM</td>\n",
       "      <td>['A', 'C#', 'E']</td>\n",
       "      <td>3.0</td>\n",
       "    </tr>\n",
       "    <tr>\n",
       "      <th>3</th>\n",
       "      <td>12.921927</td>\n",
       "      <td>17.443474</td>\n",
       "      <td>E</td>\n",
       "      <td>I_Saw_Her_Standing_There.lab</td>\n",
       "      <td>['E', 'M', ' ']</td>\n",
       "      <td>EM</td>\n",
       "      <td>['E', 'G#', 'B']</td>\n",
       "      <td>3.0</td>\n",
       "    </tr>\n",
       "    <tr>\n",
       "      <th>4</th>\n",
       "      <td>17.443474</td>\n",
       "      <td>20.410362</td>\n",
       "      <td>B</td>\n",
       "      <td>I_Saw_Her_Standing_There.lab</td>\n",
       "      <td>['B', 'M', ' ']</td>\n",
       "      <td>BM</td>\n",
       "      <td>['B', 'D#', 'F#']</td>\n",
       "      <td>3.0</td>\n",
       "    </tr>\n",
       "  </tbody>\n",
       "</table>\n",
       "</div>"
      ],
      "text/plain": [
       "       start        end chords                    NomFichier          Decompo  \\\n",
       "0   0.000000   2.612267      N  I_Saw_Her_Standing_There.lab  ['N', 'M', ' ']   \n",
       "1   2.612267  11.459070      E  I_Saw_Her_Standing_There.lab  ['E', 'M', ' ']   \n",
       "2  11.459070  12.921927      A  I_Saw_Her_Standing_There.lab  ['A', 'M', ' ']   \n",
       "3  12.921927  17.443474      E  I_Saw_Her_Standing_There.lab  ['E', 'M', ' ']   \n",
       "4  17.443474  20.410362      B  I_Saw_Her_Standing_There.lab  ['B', 'M', ' ']   \n",
       "\n",
       "  Good_chords              notes  taille_sequence  \n",
       "0          NM                nan              NaN  \n",
       "1          EM   ['E', 'G#', 'B']              3.0  \n",
       "2          AM   ['A', 'C#', 'E']              3.0  \n",
       "3          EM   ['E', 'G#', 'B']              3.0  \n",
       "4          BM  ['B', 'D#', 'F#']              3.0  "
      ]
     },
     "execution_count": 20,
     "metadata": {},
     "output_type": "execute_result"
    }
   ],
   "source": [
    "# Les listes ne sont pas prise sen charge dans sql\n",
    "\n",
    "new_df['Decompo'] = new_df['Decompo'].astype(str)\n",
    "new_df['notes'] = new_df['notes'].astype(str)\n",
    "new_df.head()"
   ]
  },
  {
   "cell_type": "markdown",
   "metadata": {},
   "source": [
    "**Rangement des informations dans une base de donnée sql**"
   ]
  },
  {
   "cell_type": "code",
   "execution_count": null,
   "metadata": {},
   "outputs": [],
   "source": [
    "# Connexion à la base de données SQLite (ou création si elle n'existe pas)\n",
    "conn = sqlite3.connect('ma_base_de_donnees.db')\n",
    "\n",
    "# Itération sur chaque valeur unique dans la colonne 'NomFichier'\n",
    "for nom_fichier in new_df['NomFichier'].unique():\n",
    "    # Filtrer le DataFrame pour la valeur de 'NomFichier' actuelle\n",
    "    subset_df = new_df[new_df['NomFichier'] == nom_fichier]\n",
    "\n",
    "    # Création de la table correspondante dans la base de données\n",
    "    subset_df.to_sql(nom_fichier, conn, index=False, if_exists='replace')  # Utilisez 'replace' ou 'append' selon votre besoin\n",
    "\n",
    "# Fermeture de la connexion à la base de données\n",
    "conn.close()"
   ]
  },
  {
   "cell_type": "code",
   "execution_count": null,
   "metadata": {},
   "outputs": [
    {
     "name": "stdout",
     "output_type": "stream",
     "text": [
      "I_Saw_Her_Standing_There.lab\n",
      "Misery.lab\n",
      "Anna_(Go_To_Him).lab\n",
      "Chains.lab\n",
      "Boys.lab\n",
      "Ask_Me_Why.lab\n",
      "Please_Please_Me.lab\n",
      "Love_Me_Do.lab\n",
      "P._S._I_Love_You.lab\n",
      "Baby_It's_You.lab\n",
      "Do_You_Want_To_Know_A_Secret.lab\n",
      "A_Taste_Of_Honey.lab\n",
      "There's_A_Place.lab\n",
      "Twist_And_Shout.lab\n"
     ]
    }
   ],
   "source": [
    "import sqlite3\n",
    "\n",
    "# Connectez-vous à votre base de données SQLite\n",
    "conn = sqlite3.connect('ma_base_de_donnees.db')\n",
    "\n",
    "# Créez un objet curseur pour exécuter des commandes SQL\n",
    "cursor = conn.cursor()\n",
    "\n",
    "# Exécutez la requête SQL pour obtenir la liste des tables\n",
    "cursor.execute(\"SELECT name FROM sqlite_master WHERE type='table';\")\n",
    "\n",
    "# Récupérez les résultats de la requête\n",
    "tables = cursor.fetchall()\n",
    "\n",
    "# Affichez les noms des tables\n",
    "for table in tables:\n",
    "    print(table[0])\n",
    "\n",
    "# Fermez le curseur et la connexion\n",
    "cursor.close()\n",
    "conn.close()\n"
   ]
  },
  {
   "cell_type": "code",
   "execution_count": null,
   "metadata": {},
   "outputs": [],
   "source": [
    "# import sqlite3\n",
    "\n",
    "# # Connexion à la base de données SQLite\n",
    "# conn = sqlite3.connect('ma_base_de_donnees.db')\n",
    "# cursor = conn.cursor()\n",
    "\n",
    "# # Obtenez la liste des tables dans la base de données\n",
    "# cursor.execute(\"SELECT name FROM sqlite_master WHERE type='table';\")\n",
    "# tables = cursor.fetchall()\n",
    "\n",
    "# # Parcourez la liste des tables et exécutez DROP TABLE pour chacune\n",
    "# for table in tables:\n",
    "#     table_name = table[0]\n",
    "#     cursor.execute(f\"DROP TABLE IF EXISTS [{table_name}];\")\n",
    "\n",
    "# # Validez la transaction\n",
    "# conn.commit()\n",
    "\n",
    "# # Fermeture de la connexion\n",
    "# conn.close()"
   ]
  }
 ],
 "metadata": {
  "kernelspec": {
   "display_name": "myenv",
   "language": "python",
   "name": "python3"
  },
  "language_info": {
   "codemirror_mode": {
    "name": "ipython",
    "version": 3
   },
   "file_extension": ".py",
   "mimetype": "text/x-python",
   "name": "python",
   "nbconvert_exporter": "python",
   "pygments_lexer": "ipython3",
   "version": "3.10.11"
  }
 },
 "nbformat": 4,
 "nbformat_minor": 2
}
