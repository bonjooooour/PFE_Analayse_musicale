{
 "cells": [
  {
   "cell_type": "code",
   "execution_count": 1,
   "metadata": {},
   "outputs": [
    {
     "data": {
      "text/plain": [
       "' \\nThis scripts permits the creation of all kind of chords artificialy\\nTo use it first start by \"pip install mingus\" on your env\\n'"
      ]
     },
     "execution_count": 1,
     "metadata": {},
     "output_type": "execute_result"
    }
   ],
   "source": [
    "\"\"\" \n",
    "This scripts permits the creation of all kind of chords artificialy\n",
    "To use it first start by \"pip install mingus\" on your env\n",
    "\"\"\""
   ]
  },
  {
   "cell_type": "code",
   "execution_count": 1,
   "metadata": {},
   "outputs": [],
   "source": [
    "from mingus.core import chords\n",
    "from mingus.containers import NoteContainer\n",
    "from mingus.midi import midi_file_out as MidiFileOut"
   ]
  },
  {
   "cell_type": "code",
   "execution_count": 3,
   "metadata": {},
   "outputs": [],
   "source": [
    "list_notes = ['C','C#','Db','D','D#','Eb','E','F','F#','Gb','G','G#','Ab','A','A#','Bb','B'] # Will be the tonic of ecah chords combination\n",
    "list_type_chords3sounds = ['maj','min', 'aug', 'dim', 'sus2', 'sus4']"
   ]
  },
  {
   "cell_type": "code",
   "execution_count": 4,
   "metadata": {},
   "outputs": [
    {
     "data": {
      "text/plain": [
       "102"
      ]
     },
     "execution_count": 4,
     "metadata": {},
     "output_type": "execute_result"
    }
   ],
   "source": [
    "# Creation of all the combinaison of combination of 3 sounds chords\n",
    "\n",
    "chords3sounds = []\n",
    "\n",
    "for notes in list_notes:\n",
    "    for type in list_type_chords3sounds:\n",
    "        chords3sounds.append(notes+type)\n",
    "\n",
    "len(chords3sounds) "
   ]
  },
  {
   "cell_type": "code",
   "execution_count": 7,
   "metadata": {},
   "outputs": [],
   "source": [
    "most_frq_chords = ['Amaj','Amin','Bmin','Cmaj','Dmaj','Dmin','Emaj','Emin','Fmaj','Gmaj']\n"
   ]
  },
  {
   "cell_type": "code",
   "execution_count": 8,
   "metadata": {},
   "outputs": [],
   "source": [
    "# Get the 3 notes of each chords\n",
    "\n",
    "compo_chords3sounds = {}\n",
    "\n",
    "for item in most_frq_chords:\n",
    "    compo_chords3sounds[item] = chords.from_shorthand(item)"
   ]
  },
  {
   "cell_type": "code",
   "execution_count": 9,
   "metadata": {},
   "outputs": [
    {
     "data": {
      "text/plain": [
       "['A', 'C#', 'E']"
      ]
     },
     "execution_count": 9,
     "metadata": {},
     "output_type": "execute_result"
    }
   ],
   "source": [
    "chords.from_shorthand('Amaj')"
   ]
  },
  {
   "cell_type": "code",
   "execution_count": 13,
   "metadata": {},
   "outputs": [
    {
     "data": {
      "text/plain": [
       "10"
      ]
     },
     "execution_count": 13,
     "metadata": {},
     "output_type": "execute_result"
    }
   ],
   "source": [
    "# Creation of midi files of each chords\n",
    "\n",
    "note_container_3sounds = []\n",
    "\n",
    "for i in range(len(most_frq_chords)):\n",
    "    n = NoteContainer()\n",
    "    n.add_notes([compo_chords3sounds[most_frq_chords[i]][0],compo_chords3sounds[most_frq_chords[i]][1],compo_chords3sounds[most_frq_chords[i]][2]])\n",
    "    note_container_3sounds.append(n)\n",
    "    MidiFileOut.write_NoteContainer(\"chords_midi/\" + most_frq_chords[i]+\".mid\",n)\n",
    "\n",
    "len(note_container_3sounds)"
   ]
  }
 ],
 "metadata": {
  "kernelspec": {
   "display_name": "myenv",
   "language": "python",
   "name": "python3"
  },
  "language_info": {
   "codemirror_mode": {
    "name": "ipython",
    "version": 3
   },
   "file_extension": ".py",
   "mimetype": "text/x-python",
   "name": "python",
   "nbconvert_exporter": "python",
   "pygments_lexer": "ipython3",
   "version": "3.10.11"
  },
  "orig_nbformat": 4
 },
 "nbformat": 4,
 "nbformat_minor": 2
}
