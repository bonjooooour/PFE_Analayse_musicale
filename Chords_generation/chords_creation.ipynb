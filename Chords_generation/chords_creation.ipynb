{
 "cells": [
  {
   "cell_type": "code",
   "execution_count": 2,
   "metadata": {},
   "outputs": [
    {
     "data": {
      "text/plain": [
       "' \\nThis scripts permits the creation of all kind of chords artificialy\\nTo use it first start by \"pip install mingus\" on your env\\n'"
      ]
     },
     "execution_count": 2,
     "metadata": {},
     "output_type": "execute_result"
    }
   ],
   "source": [
    "\"\"\" \n",
    "This scripts permits the creation of all kind of chords artificialy\n",
    "To use it first start by \"pip install mingus\" on your env\n",
    "\"\"\""
   ]
  },
  {
   "cell_type": "code",
   "execution_count": 3,
   "metadata": {},
   "outputs": [],
   "source": [
    "from mingus.core import chords\n",
    "from mingus.containers import NoteContainer\n",
    "from mingus.midi import midi_file_out as MidiFileOut"
   ]
  },
  {
   "cell_type": "code",
   "execution_count": 4,
   "metadata": {},
   "outputs": [],
   "source": [
    "list_notes = ['C','C#','Db','D','D#','Eb','E','F','F#','Gb','G','G#','Ab','A','A#','Bb','B'] # Will be the tonic of ecah chords combination\n",
    "list_type_chords3sounds = ['maj','min', 'aug', 'dim', 'sus2', 'sus4']"
   ]
  },
  {
   "cell_type": "code",
   "execution_count": 5,
   "metadata": {},
   "outputs": [
    {
     "data": {
      "text/plain": [
       "102"
      ]
     },
     "execution_count": 5,
     "metadata": {},
     "output_type": "execute_result"
    }
   ],
   "source": [
    "# Creation of all the combinaison of combination of 3 sounds chords\n",
    "\n",
    "chords3sounds = []\n",
    "\n",
    "for notes in list_notes:\n",
    "    for type in list_type_chords3sounds:\n",
    "        chords3sounds.append(notes+type)\n",
    "\n",
    "len(chords3sounds) "
   ]
  },
  {
   "cell_type": "code",
   "execution_count": 6,
   "metadata": {},
   "outputs": [],
   "source": [
    "most_frq_chords = ['Amaj','Amin','Bmin','Cmaj','Dmaj','Dmin','Emaj','Emin','Fmaj','Gmaj']\n"
   ]
  },
  {
   "cell_type": "code",
   "execution_count": 7,
   "metadata": {},
   "outputs": [],
   "source": [
    "# Get the 3 notes of each chords\n",
    "\n",
    "compo_chords3sounds = {}\n",
    "\n",
    "for item in most_frq_chords:\n",
    "    compo_chords3sounds[item] = chords.from_shorthand(item)"
   ]
  },
  {
   "cell_type": "code",
   "execution_count": 8,
   "metadata": {},
   "outputs": [
    {
     "ename": "FormatError",
     "evalue": "Unknown shorthand: F:m",
     "output_type": "error",
     "traceback": [
      "\u001b[1;31m---------------------------------------------------------------------------\u001b[0m",
      "\u001b[1;31mFormatError\u001b[0m                               Traceback (most recent call last)",
      "Cell \u001b[1;32mIn[8], line 1\u001b[0m\n\u001b[1;32m----> 1\u001b[0m \u001b[43mchords\u001b[49m\u001b[38;5;241;43m.\u001b[39;49m\u001b[43mfrom_shorthand\u001b[49m\u001b[43m(\u001b[49m\u001b[38;5;124;43m'\u001b[39;49m\u001b[38;5;124;43mF:min\u001b[39;49m\u001b[38;5;124;43m'\u001b[39;49m\u001b[43m)\u001b[49m\n",
      "File \u001b[1;32mc:\\Users\\lucie\\Documents\\Programmation\\PFE_Analayse_musicale\\myenv\\lib\\site-packages\\mingus\\core\\chords.py:917\u001b[0m, in \u001b[0;36mfrom_shorthand\u001b[1;34m(shorthand_string, slash)\u001b[0m\n\u001b[0;32m    915\u001b[0m     \u001b[38;5;28;01mreturn\u001b[39;00m res\n\u001b[0;32m    916\u001b[0m \u001b[38;5;28;01melse\u001b[39;00m:\n\u001b[1;32m--> 917\u001b[0m     \u001b[38;5;28;01mraise\u001b[39;00m FormatError(\u001b[38;5;124m\"\u001b[39m\u001b[38;5;124mUnknown shorthand: \u001b[39m\u001b[38;5;132;01m%s\u001b[39;00m\u001b[38;5;124m\"\u001b[39m \u001b[38;5;241m%\u001b[39m shorthand_string)\n",
      "\u001b[1;31mFormatError\u001b[0m: Unknown shorthand: F:m"
     ]
    }
   ],
   "source": [
    "chords.from_shorthand('F:min')"
   ]
  },
  {
   "cell_type": "code",
   "execution_count": null,
   "metadata": {},
   "outputs": [
    {
     "data": {
      "text/plain": [
       "['F#', 'A#', 'C#']"
      ]
     },
     "execution_count": 10,
     "metadata": {},
     "output_type": "execute_result"
    }
   ],
   "source": [
    "chords.from_shorthand('F#M')"
   ]
  },
  {
   "cell_type": "code",
   "execution_count": null,
   "metadata": {},
   "outputs": [
    {
     "data": {
      "text/plain": [
       "10"
      ]
     },
     "execution_count": 8,
     "metadata": {},
     "output_type": "execute_result"
    }
   ],
   "source": [
    "# Creation of midi files of each chords\n",
    "\n",
    "note_container_3sounds = []\n",
    "\n",
    "for i in range(len(most_frq_chords)):\n",
    "    n = NoteContainer()\n",
    "    n.add_notes([compo_chords3sounds[most_frq_chords[i]][0],compo_chords3sounds[most_frq_chords[i]][1],compo_chords3sounds[most_frq_chords[i]][2]])\n",
    "    note_container_3sounds.append(n)\n",
    "    MidiFileOut.write_NoteContainer(\"chords_midi/\" + most_frq_chords[i]+\".mid\",n)\n",
    "\n",
    "len(note_container_3sounds)"
   ]
  }
 ],
 "metadata": {
  "kernelspec": {
   "display_name": "myenv",
   "language": "python",
   "name": "python3"
  },
  "language_info": {
   "codemirror_mode": {
    "name": "ipython",
    "version": 3
   },
   "file_extension": ".py",
   "mimetype": "text/x-python",
   "name": "python",
   "nbconvert_exporter": "python",
   "pygments_lexer": "ipython3",
   "version": "3.10.11"
  },
  "orig_nbformat": 4
 },
 "nbformat": 4,
 "nbformat_minor": 2
}
