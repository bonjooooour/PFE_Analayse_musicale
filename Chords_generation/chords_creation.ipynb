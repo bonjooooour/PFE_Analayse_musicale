{
 "cells": [
  {
   "cell_type": "code",
   "execution_count": 2,
   "metadata": {},
   "outputs": [
    {
     "data": {
      "text/plain": [
       "' \\nThis scripts permits the creation of all kind of chords artificialy\\nTo use it first start by \"pip install mingus\" on your env\\n'"
      ]
     },
     "execution_count": 2,
     "metadata": {},
     "output_type": "execute_result"
    }
   ],
   "source": [
    "\"\"\" \n",
    "This scripts permits the creation of all kind of chords artificialy\n",
    "To use it first start by \"pip install mingus\" on your env\n",
    "\"\"\""
   ]
  },
  {
   "cell_type": "code",
   "execution_count": 3,
   "metadata": {},
   "outputs": [],
   "source": [
    "from mingus.core import chords\n",
    "from mingus.containers import NoteContainer\n",
    "from mingus.midi import midi_file_out as MidiFileOut"
   ]
  },
  {
   "cell_type": "code",
   "execution_count": 4,
   "metadata": {},
   "outputs": [],
   "source": [
    "list_notes = ['C','C#','Db','D','D#','Eb','E','F','F#','Gb','G','G#','Ab','A','A#','Bb','B'] # Will be the tonic of ecah chords combination\n",
    "list_type_chords3sounds = ['maj','min', 'aug', 'dim', 'sus2', 'sus4']"
   ]
  },
  {
   "cell_type": "code",
   "execution_count": 5,
   "metadata": {},
   "outputs": [
    {
     "data": {
      "text/plain": [
       "102"
      ]
     },
     "execution_count": 5,
     "metadata": {},
     "output_type": "execute_result"
    }
   ],
   "source": [
    "# Creation of all the combinaison of combination of 3 sounds chords\n",
    "\n",
    "chords3sounds = []\n",
    "\n",
    "for notes in list_notes:\n",
    "    for type in list_type_chords3sounds:\n",
    "        chords3sounds.append(notes+type)\n",
    "\n",
    "len(chords3sounds) "
   ]
  },
  {
   "cell_type": "code",
   "execution_count": 6,
   "metadata": {},
<<<<<<< HEAD
   "outputs": [
    {
     "data": {
      "text/plain": [
       "['Cmaj',\n",
       " 'Cmin',\n",
       " 'Caug',\n",
       " 'Cdim',\n",
       " 'Csus2',\n",
       " 'Csus4',\n",
       " 'C#maj',\n",
       " 'C#min',\n",
       " 'C#aug',\n",
       " 'C#dim',\n",
       " 'C#sus2',\n",
       " 'C#sus4',\n",
       " 'Dbmaj',\n",
       " 'Dbmin',\n",
       " 'Dbaug',\n",
       " 'Dbdim',\n",
       " 'Dbsus2',\n",
       " 'Dbsus4',\n",
       " 'Dmaj',\n",
       " 'Dmin',\n",
       " 'Daug',\n",
       " 'Ddim',\n",
       " 'Dsus2',\n",
       " 'Dsus4',\n",
       " 'D#maj',\n",
       " 'D#min',\n",
       " 'D#aug',\n",
       " 'D#dim',\n",
       " 'D#sus2',\n",
       " 'D#sus4',\n",
       " 'Ebmaj',\n",
       " 'Ebmin',\n",
       " 'Ebaug',\n",
       " 'Ebdim',\n",
       " 'Ebsus2',\n",
       " 'Ebsus4',\n",
       " 'Emaj',\n",
       " 'Emin',\n",
       " 'Eaug',\n",
       " 'Edim',\n",
       " 'Esus2',\n",
       " 'Esus4',\n",
       " 'Fmaj',\n",
       " 'Fmin',\n",
       " 'Faug',\n",
       " 'Fdim',\n",
       " 'Fsus2',\n",
       " 'Fsus4',\n",
       " 'F#maj',\n",
       " 'F#min',\n",
       " 'F#aug',\n",
       " 'F#dim',\n",
       " 'F#sus2',\n",
       " 'F#sus4',\n",
       " 'Gbmaj',\n",
       " 'Gbmin',\n",
       " 'Gbaug',\n",
       " 'Gbdim',\n",
       " 'Gbsus2',\n",
       " 'Gbsus4',\n",
       " 'Gmaj',\n",
       " 'Gmin',\n",
       " 'Gaug',\n",
       " 'Gdim',\n",
       " 'Gsus2',\n",
       " 'Gsus4',\n",
       " 'G#maj',\n",
       " 'G#min',\n",
       " 'G#aug',\n",
       " 'G#dim',\n",
       " 'G#sus2',\n",
       " 'G#sus4',\n",
       " 'Abmaj',\n",
       " 'Abmin',\n",
       " 'Abaug',\n",
       " 'Abdim',\n",
       " 'Absus2',\n",
       " 'Absus4',\n",
       " 'Amaj',\n",
       " 'Amin',\n",
       " 'Aaug',\n",
       " 'Adim',\n",
       " 'Asus2',\n",
       " 'Asus4',\n",
       " 'A#maj',\n",
       " 'A#min',\n",
       " 'A#aug',\n",
       " 'A#dim',\n",
       " 'A#sus2',\n",
       " 'A#sus4',\n",
       " 'Bbmaj',\n",
       " 'Bbmin',\n",
       " 'Bbaug',\n",
       " 'Bbdim',\n",
       " 'Bbsus2',\n",
       " 'Bbsus4',\n",
       " 'Bmaj',\n",
       " 'Bmin',\n",
       " 'Baug',\n",
       " 'Bdim',\n",
       " 'Bsus2',\n",
       " 'Bsus4']"
      ]
     },
     "execution_count": 6,
     "metadata": {},
     "output_type": "execute_result"
    }
   ],
=======
   "outputs": [],
>>>>>>> mohamad
   "source": [
    "most_frq_chords = ['Amaj','Amin','Bmin','Cmaj','Dmaj','Dmin','Emaj','Emin','Fmaj','Gmaj']\n"
   ]
  },
  {
   "cell_type": "code",
   "execution_count": 7,
   "metadata": {},
   "outputs": [],
   "source": [
    "# Get the 3 notes of each chords\n",
    "\n",
    "compo_chords3sounds = {}\n",
    "\n",
    "for item in most_frq_chords:\n",
    "    compo_chords3sounds[item] = chords.from_shorthand(item)"
   ]
  },
  {
   "cell_type": "code",
<<<<<<< HEAD
   "execution_count": 10,
   "metadata": {},
   "outputs": [
    {
     "ename": "FormatError",
     "evalue": "Unknown shorthand: Eaug911",
     "output_type": "error",
     "traceback": [
      "\u001b[1;31m---------------------------------------------------------------------------\u001b[0m",
      "\u001b[1;31mFormatError\u001b[0m                               Traceback (most recent call last)",
      "Cell \u001b[1;32mIn[10], line 1\u001b[0m\n\u001b[1;32m----> 1\u001b[0m \u001b[43mchords\u001b[49m\u001b[38;5;241;43m.\u001b[39;49m\u001b[43mfrom_shorthand\u001b[49m\u001b[43m(\u001b[49m\u001b[38;5;124;43m'\u001b[39;49m\u001b[38;5;124;43mEaug911\u001b[39;49m\u001b[38;5;124;43m'\u001b[39;49m\u001b[43m)\u001b[49m\n",
      "File \u001b[1;32mc:\\Users\\lucie\\Documents\\Programmation\\PFE_Analayse_musicale\\myenv\\lib\\site-packages\\mingus\\core\\chords.py:917\u001b[0m, in \u001b[0;36mfrom_shorthand\u001b[1;34m(shorthand_string, slash)\u001b[0m\n\u001b[0;32m    915\u001b[0m     \u001b[38;5;28;01mreturn\u001b[39;00m res\n\u001b[0;32m    916\u001b[0m \u001b[38;5;28;01melse\u001b[39;00m:\n\u001b[1;32m--> 917\u001b[0m     \u001b[38;5;28;01mraise\u001b[39;00m FormatError(\u001b[38;5;124m\"\u001b[39m\u001b[38;5;124mUnknown shorthand: \u001b[39m\u001b[38;5;132;01m%s\u001b[39;00m\u001b[38;5;124m\"\u001b[39m \u001b[38;5;241m%\u001b[39m shorthand_string)\n",
      "\u001b[1;31mFormatError\u001b[0m: Unknown shorthand: Eaug911"
     ]
=======
   "execution_count": 8,
   "metadata": {},
   "outputs": [
    {
     "data": {
      "text/plain": [
       "['A', 'C#', 'E']"
      ]
     },
     "execution_count": 8,
     "metadata": {},
     "output_type": "execute_result"
>>>>>>> mohamad
    }
   ],
   "source": [
    "chords.from_shorthand('Eaug911')"
   ]
  },
  {
   "cell_type": "code",
<<<<<<< HEAD
   "execution_count": 9,
=======
   "execution_count": 12,
>>>>>>> mohamad
   "metadata": {},
   "outputs": [
    {
     "data": {
      "text/plain": [
       "10"
      ]
     },
<<<<<<< HEAD
     "execution_count": 9,
=======
     "execution_count": 12,
>>>>>>> mohamad
     "metadata": {},
     "output_type": "execute_result"
    }
   ],
   "source": [
    "# Creation of midi files of each chords\n",
    "\n",
    "note_container_3sounds = []\n",
    "\n",
    "for i in range(len(most_frq_chords)):\n",
    "    n = NoteContainer()\n",
    "    n.add_notes([compo_chords3sounds[most_frq_chords[i]][0],compo_chords3sounds[most_frq_chords[i]][1],compo_chords3sounds[most_frq_chords[i]][2]])\n",
    "    note_container_3sounds.append(n)\n",
    "    MidiFileOut.write_NoteContainer(\"chords_midi/\" + most_frq_chords[i]+\".mid\",n)\n",
    "\n",
    "len(note_container_3sounds)"
   ]
  }
 ],
 "metadata": {
  "kernelspec": {
   "display_name": "myenv",
   "language": "python",
   "name": "python3"
  },
  "language_info": {
   "codemirror_mode": {
    "name": "ipython",
    "version": 3
   },
   "file_extension": ".py",
   "mimetype": "text/x-python",
   "name": "python",
   "nbconvert_exporter": "python",
   "pygments_lexer": "ipython3",
   "version": "3.11.1"
  },
  "orig_nbformat": 4
 },
 "nbformat": 4,
 "nbformat_minor": 2
}
