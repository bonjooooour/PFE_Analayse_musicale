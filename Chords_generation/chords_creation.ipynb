{
 "cells": [
  {
   "cell_type": "code",
   "execution_count": 1,
   "metadata": {},
   "outputs": [
    {
     "data": {
      "text/plain": [
       "' \\nThis scripts permits the creation of all kind of chords artificialy\\nTo use it first start by \"pip install mingus\" on your env\\n'"
      ]
     },
     "execution_count": 1,
     "metadata": {},
     "output_type": "execute_result"
    }
   ],
   "source": [
    "\"\"\" \n",
    "This scripts permits the creation of all kind of chords artificialy\n",
    "To use it first start by \"pip install mingus\" on your env\n",
    "\"\"\""
   ]
  },
  {
   "cell_type": "code",
   "execution_count": 2,
   "metadata": {},
   "outputs": [],
   "source": [
    "from mingus.core import chords\n",
    "from mingus.containers import NoteContainer\n",
    "from mingus.midi import midi_file_out as MidiFileOut"
   ]
  },
  {
   "cell_type": "code",
   "execution_count": 3,
   "metadata": {},
   "outputs": [],
   "source": [
    "list_notes = ['C','C#','Db','D','D#','Eb','E','F','F#','Gb','G','G#','Ab','A','A#','Bb','B'] # Will be the tonic of ecah chords combination\n",
    "list_type_chords3sounds = ['maj','min', 'aug', 'dim', 'sus2', 'sus4']"
   ]
  },
  {
   "cell_type": "code",
   "execution_count": 4,
   "metadata": {},
   "outputs": [
    {
     "data": {
      "text/plain": [
       "102"
      ]
     },
     "execution_count": 4,
     "metadata": {},
     "output_type": "execute_result"
    }
   ],
   "source": [
    "# Creation of all the combinaison of combination of 3 sounds chords\n",
    "\n",
    "chords3sounds = []\n",
    "\n",
    "for notes in list_notes:\n",
    "    for type in list_type_chords3sounds:\n",
    "        chords3sounds.append(notes+type)\n",
    "\n",
    "len(chords3sounds) "
   ]
  },
  {
   "cell_type": "code",
   "execution_count": 5,
   "metadata": {},
   "outputs": [
    {
     "data": {
      "text/plain": [
       "['Cmaj',\n",
       " 'Cmin',\n",
       " 'Caug',\n",
       " 'Cdim',\n",
       " 'Csus2',\n",
       " 'Csus4',\n",
       " 'C#maj',\n",
       " 'C#min',\n",
       " 'C#aug',\n",
       " 'C#dim',\n",
       " 'C#sus2',\n",
       " 'C#sus4',\n",
       " 'Dbmaj',\n",
       " 'Dbmin',\n",
       " 'Dbaug',\n",
       " 'Dbdim',\n",
       " 'Dbsus2',\n",
       " 'Dbsus4',\n",
       " 'Dmaj',\n",
       " 'Dmin',\n",
       " 'Daug',\n",
       " 'Ddim',\n",
       " 'Dsus2',\n",
       " 'Dsus4',\n",
       " 'D#maj',\n",
       " 'D#min',\n",
       " 'D#aug',\n",
       " 'D#dim',\n",
       " 'D#sus2',\n",
       " 'D#sus4',\n",
       " 'Ebmaj',\n",
       " 'Ebmin',\n",
       " 'Ebaug',\n",
       " 'Ebdim',\n",
       " 'Ebsus2',\n",
       " 'Ebsus4',\n",
       " 'Emaj',\n",
       " 'Emin',\n",
       " 'Eaug',\n",
       " 'Edim',\n",
       " 'Esus2',\n",
       " 'Esus4',\n",
       " 'Fmaj',\n",
       " 'Fmin',\n",
       " 'Faug',\n",
       " 'Fdim',\n",
       " 'Fsus2',\n",
       " 'Fsus4',\n",
       " 'F#maj',\n",
       " 'F#min',\n",
       " 'F#aug',\n",
       " 'F#dim',\n",
       " 'F#sus2',\n",
       " 'F#sus4',\n",
       " 'Gbmaj',\n",
       " 'Gbmin',\n",
       " 'Gbaug',\n",
       " 'Gbdim',\n",
       " 'Gbsus2',\n",
       " 'Gbsus4',\n",
       " 'Gmaj',\n",
       " 'Gmin',\n",
       " 'Gaug',\n",
       " 'Gdim',\n",
       " 'Gsus2',\n",
       " 'Gsus4',\n",
       " 'G#maj',\n",
       " 'G#min',\n",
       " 'G#aug',\n",
       " 'G#dim',\n",
       " 'G#sus2',\n",
       " 'G#sus4',\n",
       " 'Abmaj',\n",
       " 'Abmin',\n",
       " 'Abaug',\n",
       " 'Abdim',\n",
       " 'Absus2',\n",
       " 'Absus4',\n",
       " 'Amaj',\n",
       " 'Amin',\n",
       " 'Aaug',\n",
       " 'Adim',\n",
       " 'Asus2',\n",
       " 'Asus4',\n",
       " 'A#maj',\n",
       " 'A#min',\n",
       " 'A#aug',\n",
       " 'A#dim',\n",
       " 'A#sus2',\n",
       " 'A#sus4',\n",
       " 'Bbmaj',\n",
       " 'Bbmin',\n",
       " 'Bbaug',\n",
       " 'Bbdim',\n",
       " 'Bbsus2',\n",
       " 'Bbsus4',\n",
       " 'Bmaj',\n",
       " 'Bmin',\n",
       " 'Baug',\n",
       " 'Bdim',\n",
       " 'Bsus2',\n",
       " 'Bsus4']"
      ]
     },
     "execution_count": 5,
     "metadata": {},
     "output_type": "execute_result"
    }
   ],
   "source": [
    "chords3sounds"
   ]
  },
  {
   "cell_type": "code",
   "execution_count": 5,
   "metadata": {},
   "outputs": [],
   "source": [
    "# Get the 3 notes of each chords\n",
    "\n",
    "compo_chords3sounds = {}\n",
    "\n",
    "for item in chords3sounds:\n",
    "    compo_chords3sounds[item] = chords.from_shorthand(item)"
   ]
  },
  {
   "cell_type": "code",
   "execution_count": 6,
   "metadata": {},
   "outputs": [
    {
     "data": {
      "text/plain": [
       "['A', 'C#', 'E']"
      ]
     },
     "execution_count": 6,
     "metadata": {},
     "output_type": "execute_result"
    }
   ],
   "source": [
    "chords.from_shorthand('Amaj')"
   ]
  },
  {
   "cell_type": "code",
   "execution_count": 7,
   "metadata": {},
   "outputs": [
    {
     "data": {
      "text/plain": [
       "102"
      ]
     },
     "execution_count": 7,
     "metadata": {},
     "output_type": "execute_result"
    }
   ],
   "source": [
    "# Creation of midi files of each chords\n",
    "\n",
    "note_container_3sounds = []\n",
    "\n",
    "for i in range(len(chords3sounds)):\n",
    "    n = NoteContainer()\n",
    "    n.add_notes([compo_chords3sounds[chords3sounds[i]][0],compo_chords3sounds[chords3sounds[i]][1],compo_chords3sounds[chords3sounds[i]][2]])\n",
    "    note_container_3sounds.append(n)\n",
    "    MidiFileOut.write_NoteContainer(\"chords_midi/\" + chords3sounds[i]+\".mid\",n)\n",
    "\n",
    "len(note_container_3sounds)"
   ]
  }
 ],
 "metadata": {
  "kernelspec": {
   "display_name": "myenv",
   "language": "python",
   "name": "python3"
  },
  "language_info": {
   "codemirror_mode": {
    "name": "ipython",
    "version": 3
   },
   "file_extension": ".py",
   "mimetype": "text/x-python",
   "name": "python",
   "nbconvert_exporter": "python",
   "pygments_lexer": "ipython3",
   "version": "3.10.11"
  },
  "orig_nbformat": 4
 },
 "nbformat": 4,
 "nbformat_minor": 2
}
