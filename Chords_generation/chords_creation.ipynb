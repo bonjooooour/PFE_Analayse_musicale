{
 "cells": [
  {
   "cell_type": "code",
   "execution_count": 17,
   "metadata": {},
   "outputs": [
    {
     "data": {
      "text/plain": [
       "' \\nThis scripts permits the creation of all kind of chords artificialy\\nTo use it first start by \"pip install mingus\" on your env\\n'"
      ]
     },
     "execution_count": 17,
     "metadata": {},
     "output_type": "execute_result"
    }
   ],
   "source": [
    "\"\"\" \n",
    "This scripts permits the creation of all kind of chords artificialy\n",
    "To use it first start by \"pip install mingus\" on your env\n",
    "\"\"\""
   ]
  },
  {
   "cell_type": "code",
   "execution_count": 18,
   "metadata": {},
   "outputs": [],
   "source": [
    "from mingus.core import chords\n",
    "from mingus.containers import NoteContainer\n",
    "from mingus.midi import midi_file_out as MidiFileOut"
   ]
  },
  {
   "cell_type": "code",
   "execution_count": 19,
   "metadata": {},
   "outputs": [],
   "source": [
    "list_notes = ['C','C#','Db','D','D#','Eb','E','F','F#','Gb','G','G#','Ab','A','A#','Bb','B'] # Will be the tonic of ecah chords combination\n",
    "list_type_chords3sounds = ['maj','min', 'aug', 'dim', 'sus2', 'sus4']"
   ]
  },
  {
   "cell_type": "code",
   "execution_count": 20,
   "metadata": {},
   "outputs": [
    {
     "data": {
      "text/plain": [
       "102"
      ]
     },
     "execution_count": 20,
     "metadata": {},
     "output_type": "execute_result"
    }
   ],
   "source": [
    "# Creation of all the combinaison of combination of 3 sounds chords\n",
    "\n",
    "chords3sounds = []\n",
    "\n",
    "for notes in list_notes:\n",
    "    for type in list_type_chords3sounds:\n",
    "        chords3sounds.append(notes+type)\n",
    "\n",
    "len(chords3sounds) "
   ]
  },
  {
   "cell_type": "code",
   "execution_count": 21,
   "metadata": {},
   "outputs": [],
   "source": [
    "# Get the 3 notes of each chords\n",
    "\n",
    "compo_chords3sounds = {}\n",
    "\n",
    "for item in chords3sounds:\n",
    "    compo_chords3sounds[item] = chords.from_shorthand(item)"
   ]
  },
  {
   "cell_type": "code",
   "execution_count": 22,
   "metadata": {},
   "outputs": [
    {
     "data": {
      "text/plain": [
       "['A', 'C#', 'E']"
      ]
     },
     "execution_count": 22,
     "metadata": {},
     "output_type": "execute_result"
    }
   ],
   "source": [
    "chords.from_shorthand('Amaj')"
   ]
  },
  {
   "cell_type": "code",
   "execution_count": 23,
   "metadata": {},
   "outputs": [
    {
     "name": "stdout",
     "output_type": "stream",
     "text": [
      "[['Bbdim', 'Ebaug', 'Fmaj'], ['Dsus2', 'Dsus4', 'Gaug'], ['A#dim', 'Bdim', 'Abdim'], ['F#aug', 'Ebdim', 'Edim'], ['C#min', 'Baug', 'Bbmin'], ['G#maj', 'Ebsus4', 'Bdim'], ['Bdim', 'G#aug', 'Dbsus4'], ['F#maj', 'Bbmin', 'Bmaj'], ['Fsus2', 'G#maj', 'Fsus4'], ['Aaug', 'D#maj', 'Faug'], ['Ebaug', 'D#maj', 'Gsus4'], ['Bdim', 'D#sus4', 'D#sus2'], ['Baug', 'Gaug', 'Dbdim'], ['Gmin', 'Dsus2', 'Bmin'], ['Dbsus4', 'Emaj', 'Gmaj'], ['Dbsus2', 'F#dim', 'G#sus2'], ['Dsus2', 'Dbmaj', 'C#dim'], ['Edim', 'Baug', 'Dbmin'], ['Dbmaj', 'A#sus2', 'Fsus4'], ['Csus2', 'Bmin', 'Abdim'], ['Bsus4', 'Abmin', 'Bsus4'], ['Abmin', 'Dbaug', 'Bsus4'], ['Dsus4', 'Asus2', 'Bmin'], ['Dsus2', 'C#maj', 'F#min'], ['Bmaj', 'Edim', 'Ebsus4'], ['G#aug', 'Dbmin', 'G#min'], ['F#min', 'F#min', 'F#dim'], ['Dbdim', 'Fsus2', 'F#sus4'], ['Csus4', 'Ebsus4', 'Ebsus2'], ['Fmin', 'Faug', 'Dbdim'], ['C#aug', 'Gbdim', 'Cmaj'], ['Gbdim', 'Dbmin', 'Csus4'], ['Asus2', 'Bsus2', 'Gsus2'], ['Ebmaj', 'Daug', 'Fdim'], ['Gbsus2', 'C#sus4', 'Adim'], ['Daug', 'Bmaj', 'Asus2'], ['Cmin', 'D#dim', 'Gmin'], ['Fmaj', 'C#sus4', 'C#min'], ['Bbmaj', 'Adim', 'Dbaug'], ['A#sus2', 'Gmaj', 'Abaug'], ['Gbmin', 'Fdim', 'Amaj'], ['C#min', 'Bbsus4', 'Csus4'], ['Gmin', 'C#sus2', 'Faug'], ['Edim', 'F#sus2', 'Absus2'], ['Dbmin', 'F#maj', 'Ebsus4'], ['Faug', 'A#min', 'Gbsus4'], ['Abaug', 'Ebdim', 'Gbaug'], ['F#aug', 'Gbaug', 'Bdim'], ['Cmin', 'Fmaj', 'G#maj'], ['Abdim', 'Bbdim', 'Ebsus2'], ['Bmaj', 'Csus2', 'F#maj'], ['Baug', 'Bbdim', 'D#min'], ['C#aug', 'Absus4', 'A#sus2'], ['D#min', 'Dbaug', 'Ebsus2'], ['Eaug', 'G#sus2', 'D#sus2'], ['G#dim', 'Dmaj', 'Dmin'], ['Bmaj', 'C#dim', 'Ebmaj'], ['Emaj', 'Fmin', 'Gbmin'], ['Csus4', 'Gsus2', 'Cdim'], ['Gmin', 'Gdim', 'Bdim'], ['F#maj', 'Bmaj', 'Gdim'], ['Cmin', 'Gbmaj', 'Emaj'], ['Asus4', 'Ddim', 'Gbmaj'], ['D#sus4', 'Dbdim', 'C#sus4'], ['F#sus4', 'Amin', 'C#aug'], ['A#aug', 'D#aug', 'F#sus2'], ['C#aug', 'Asus2', 'F#sus2'], ['Gmaj', 'D#dim', 'Bmin'], ['Fdim', 'Dmaj', 'Gbmin'], ['Dbdim', 'Ddim', 'Bmaj'], ['Gmaj', 'Ddim', 'Cmaj'], ['Csus2', 'Bmin', 'Fsus4'], ['Csus4', 'F#maj', 'G#dim'], ['A#maj', 'F#aug', 'Daug'], ['Asus4', 'G#dim', 'Fsus2'], ['Gdim', 'Abdim', 'Absus4'], ['A#sus4', 'Bmaj', 'Ebaug'], ['Faug', 'Gbsus2', 'Emin'], ['Fdim', 'F#sus4', 'D#dim'], ['Gbdim', 'Cmin', 'A#dim'], ['Ddim', 'Absus4', 'Cmaj'], ['C#sus4', 'Dbsus4', 'C#aug'], ['F#min', 'Dsus2', 'Adim'], ['Gdim', 'G#dim', 'D#maj'], ['G#min', 'Faug', 'A#maj'], ['Bsus4', 'Dmin', 'G#sus2'], ['C#sus2', 'C#aug', 'Gbsus2'], ['Gaug', 'Abdim', 'Bsus4'], ['Absus2', 'Bbmin', 'Adim'], ['Gmin', 'Gsus2', 'G#min'], ['Dbsus4', 'Gsus2', 'Adim'], ['Bbmaj', 'Gbsus4', 'D#sus2'], ['F#sus4', 'Asus4', 'Esus2'], ['Gbsus4', 'Asus4', 'Gdim'], ['Emaj', 'F#aug', 'G#sus2'], ['Gdim', 'Bmin', 'Gbsus2'], ['Ebsus4', 'Ebaug', 'Abaug'], ['Bmin', 'C#sus4', 'F#sus4'], ['Gbsus2', 'Gmin', 'Fmaj'], ['A#sus2', 'Ebmaj', 'Bbmin'], ['Ebmaj', 'Adim', 'Eaug'], ['Fsus2', 'Gmaj', 'Csus4']]\n"
     ]
    }
   ],
   "source": [
    "import random\n",
    "\n",
    "nombre_de_progressions = 102\n",
    "progressions = []\n",
    "\n",
    "for _ in range(nombre_de_progressions):\n",
    "    longueur_progression = 3  # Par exemple, une progression de 4 accords\n",
    "    prog = [random.choice(chords3sounds) for _ in range(longueur_progression)]\n",
    "    progressions.append(prog)\n",
    "\n",
    "print(progressions)"
   ]
  },
  {
   "cell_type": "code",
   "execution_count": 24,
   "metadata": {},
   "outputs": [
    {
     "data": {
      "text/plain": [
       "102"
      ]
     },
     "execution_count": 24,
     "metadata": {},
     "output_type": "execute_result"
    }
   ],
   "source": [
    "# Creation of midi files of each chords\n",
    "\n",
    "note_container_3sounds = []\n",
    "\n",
    "for i in range(len(chords3sounds)):\n",
    "    n = NoteContainer()\n",
    "    n.add_notes([compo_chords3sounds[chords3sounds[i]][0],compo_chords3sounds[chords3sounds[i]][1],compo_chords3sounds[chords3sounds[i]][2]])\n",
    "    note_container_3sounds.append(n)\n",
    "    MidiFileOut.write_NoteContainer(\"chords_midi/\" + chords3sounds[i]+\".mid\", n)\n",
    "\n",
    "len(note_container_3sounds)"
   ]
  }
 ],
 "metadata": {
  "kernelspec": {
   "display_name": "myenv",
   "language": "python",
   "name": "python3"
  },
  "language_info": {
   "codemirror_mode": {
    "name": "ipython",
    "version": 3
   },
   "file_extension": ".py",
   "mimetype": "text/x-python",
   "name": "python",
   "nbconvert_exporter": "python",
   "pygments_lexer": "ipython3",
   "version": "3.10.11"
  },
  "orig_nbformat": 4
 },
 "nbformat": 4,
 "nbformat_minor": 2
}
