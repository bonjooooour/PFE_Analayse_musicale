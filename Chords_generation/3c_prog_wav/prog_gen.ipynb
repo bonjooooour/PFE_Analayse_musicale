{
 "cells": [
  {
   "cell_type": "code",
   "execution_count": null,
   "metadata": {},
   "outputs": [],
   "source": [
    "\"\"\" \n",
    "This scripts produces progression of 3 random chords played by a random instrument\n",
    "Do the following in your env to make it works :\n",
    "pip install pydub\n",
    "pip install ffmpeg-downloader\n",
    "ffdl install --add-path\n",
    "\"\"\""
   ]
  },
  {
   "cell_type": "code",
   "execution_count": 1,
   "metadata": {},
   "outputs": [],
   "source": [
    "import os\n",
    "import random\n",
    "from pydub import AudioSegment\n",
    "\n",
    "# Spécifiez le chemin vers votre dossier contenant les fichiers wav\n",
    "dossier = r'C:\\Users\\lucie\\Documents\\Programmation\\PFE_Analayse_musicale\\Chords_generation\\chords_wav'\n",
    "\n",
    "# Liste tous les fichiers wav dans le dossier\n",
    "fichiers = [f for f in os.listdir(dossier) if f.endswith('.wav')]\n",
    "\n",
    "\n",
    "for i in range (500):\n",
    "    fichiers_choisis = random.sample(fichiers, 3)\n",
    "    output_wav = ''\n",
    "    audio = AudioSegment.empty()\n",
    "    for fichier in fichiers_choisis:\n",
    "        chemin_fichier = os.path.join(dossier, fichier)\n",
    "        segment = AudioSegment.from_wav(chemin_fichier)\n",
    "        audio += segment\n",
    "        output_wav += os.path.basename(chemin_fichier).split('.')[0]\n",
    "    \n",
    "    output_wav = \"prog_wav/\" + output_wav + \".wav\"\n",
    "    audio.export(output_wav, format=\"wav\")\n",
    "\n"
   ]
  }
 ],
 "metadata": {
  "kernelspec": {
   "display_name": "envlucie",
   "language": "python",
   "name": "python3"
  },
  "language_info": {
   "codemirror_mode": {
    "name": "ipython",
    "version": 3
   },
   "file_extension": ".py",
   "mimetype": "text/x-python",
   "name": "python",
   "nbconvert_exporter": "python",
   "pygments_lexer": "ipython3",
   "version": "3.10.11"
  }
 },
 "nbformat": 4,
 "nbformat_minor": 2
}
