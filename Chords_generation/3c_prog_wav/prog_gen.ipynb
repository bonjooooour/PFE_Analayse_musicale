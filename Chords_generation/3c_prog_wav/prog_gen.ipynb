{
 "cells": [
  {
   "cell_type": "code",
   "execution_count": 1,
   "metadata": {},
   "outputs": [
    {
     "data": {
      "text/plain": [
       "' \\nThis scripts produces progression of 3 random chords played by a random instrument\\nDo the following in your env to make it works :\\npip install pydub\\npip install ffmpeg-downloader\\nffdl install --add-path\\n'"
      ]
     },
     "execution_count": 1,
     "metadata": {},
     "output_type": "execute_result"
    }
   ],
   "source": [
    "\"\"\" \n",
    "This scripts produces progression of 3 random chords played by a random instrument\n",
    "Do the following in your env to make it works :\n",
    "pip install pydub\n",
    "pip install ffmpeg-downloader\n",
    "ffdl install --add-path\n",
    "\"\"\""
   ]
  },
  {
   "cell_type": "code",
   "execution_count": 2,
   "metadata": {},
   "outputs": [
    {
     "name": "stderr",
     "output_type": "stream",
     "text": [
      "c:\\Users\\zalat\\AppData\\Local\\Programs\\Python\\Python311\\Lib\\site-packages\\pydub\\utils.py:170: RuntimeWarning: Couldn't find ffmpeg or avconv - defaulting to ffmpeg, but may not work\n",
      "  warn(\"Couldn't find ffmpeg or avconv - defaulting to ffmpeg, but may not work\", RuntimeWarning)\n"
     ]
    },
    {
     "ename": "FileNotFoundError",
     "evalue": "[WinError 3] Le chemin d’accès spécifié est introuvable: '..\\\\Chords_generation\\\\chords_wav'",
     "output_type": "error",
     "traceback": [
      "\u001b[1;31m---------------------------------------------------------------------------\u001b[0m",
      "\u001b[1;31mFileNotFoundError\u001b[0m                         Traceback (most recent call last)",
      "\u001b[1;32md:\\Mike\\ESEO\\PFE_Repo\\PFE_Analayse_musicale\\Chords_generation\\3c_prog_wav\\prog_gen.ipynb Cellule 2\u001b[0m line \u001b[0;36m9\n\u001b[0;32m      <a href='vscode-notebook-cell:/d%3A/Mike/ESEO/PFE_Repo/PFE_Analayse_musicale/Chords_generation/3c_prog_wav/prog_gen.ipynb#W1sZmlsZQ%3D%3D?line=5'>6</a>\u001b[0m dossier \u001b[39m=\u001b[39m \u001b[39mr\u001b[39m\u001b[39m'\u001b[39m\u001b[39m..\u001b[39m\u001b[39m\\\u001b[39m\u001b[39mChords_generation\u001b[39m\u001b[39m\\\u001b[39m\u001b[39mchords_wav\u001b[39m\u001b[39m'\u001b[39m\n\u001b[0;32m      <a href='vscode-notebook-cell:/d%3A/Mike/ESEO/PFE_Repo/PFE_Analayse_musicale/Chords_generation/3c_prog_wav/prog_gen.ipynb#W1sZmlsZQ%3D%3D?line=7'>8</a>\u001b[0m \u001b[39m# Liste tous les fichiers wav dans le dossier\u001b[39;00m\n\u001b[1;32m----> <a href='vscode-notebook-cell:/d%3A/Mike/ESEO/PFE_Repo/PFE_Analayse_musicale/Chords_generation/3c_prog_wav/prog_gen.ipynb#W1sZmlsZQ%3D%3D?line=8'>9</a>\u001b[0m fichiers \u001b[39m=\u001b[39m [f \u001b[39mfor\u001b[39;00m f \u001b[39min\u001b[39;00m os\u001b[39m.\u001b[39;49mlistdir(dossier) \u001b[39mif\u001b[39;00m f\u001b[39m.\u001b[39mendswith(\u001b[39m'\u001b[39m\u001b[39m.wav\u001b[39m\u001b[39m'\u001b[39m)]\n\u001b[0;32m     <a href='vscode-notebook-cell:/d%3A/Mike/ESEO/PFE_Repo/PFE_Analayse_musicale/Chords_generation/3c_prog_wav/prog_gen.ipynb#W1sZmlsZQ%3D%3D?line=11'>12</a>\u001b[0m \u001b[39mfor\u001b[39;00m i \u001b[39min\u001b[39;00m \u001b[39mrange\u001b[39m (\u001b[39m500\u001b[39m):\n\u001b[0;32m     <a href='vscode-notebook-cell:/d%3A/Mike/ESEO/PFE_Repo/PFE_Analayse_musicale/Chords_generation/3c_prog_wav/prog_gen.ipynb#W1sZmlsZQ%3D%3D?line=12'>13</a>\u001b[0m     fichiers_choisis \u001b[39m=\u001b[39m random\u001b[39m.\u001b[39msample(fichiers, \u001b[39m3\u001b[39m)\n",
      "\u001b[1;31mFileNotFoundError\u001b[0m: [WinError 3] Le chemin d’accès spécifié est introuvable: '..\\\\Chords_generation\\\\chords_wav'"
     ]
    }
   ],
   "source": [
    "import os\n",
    "import random\n",
    "from pydub import AudioSegment\n",
    "\n",
    "# Spécifiez le chemin vers votre dossier contenant les fichiers wav\n",
    "dossier = r'..\\Chords_generation\\chords_wav'\n",
    "\n",
    "# Liste tous les fichiers wav dans le dossier\n",
    "fichiers = [f for f in os.listdir(dossier) if f.endswith('.wav')]\n",
    "\n",
    "\n",
    "for i in range (500):\n",
    "    fichiers_choisis = random.sample(fichiers, 3)\n",
    "    output_wav = ''\n",
    "    audio = AudioSegment.empty()\n",
    "    for fichier in fichiers_choisis:\n",
    "        chemin_fichier = os.path.join(dossier, fichier)\n",
    "        segment = AudioSegment.from_wav(chemin_fichier)\n",
    "        audio += segment\n",
    "        output_wav += os.path.basename(chemin_fichier).split('.')[0]\n",
    "    \n",
    "    output_wav = \"prog_wav/\" + output_wav + \".wav\"\n",
    "    audio.export(output_wav, format=\"wav\")\n",
    "\n"
   ]
  }
 ],
 "metadata": {
  "kernelspec": {
   "display_name": "envlucie",
   "language": "python",
   "name": "python3"
  },
  "language_info": {
   "codemirror_mode": {
    "name": "ipython",
    "version": 3
   },
   "file_extension": ".py",
   "mimetype": "text/x-python",
   "name": "python",
   "nbconvert_exporter": "python",
   "pygments_lexer": "ipython3",
   "version": "3.11.1"
  }
 },
 "nbformat": 4,
 "nbformat_minor": 2
}
