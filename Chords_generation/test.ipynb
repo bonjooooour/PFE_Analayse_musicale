{
 "cells": [
  {
   "cell_type": "code",
   "execution_count": null,
   "metadata": {},
   "outputs": [],
   "source": [
    "import subprocess\n",
    "\n",
    "fluidsynth_path = r'fluidsynth-2.3.4-win10-x64\\bin\\fluidsynth.exe'\n",
    "\n",
    "soundfont_file = 'Guitar.sf2'\n",
    "midi_file = 'Aaug.mid'\n",
    "output_wav = 'Aaug.wav'\n",
    "\n",
    "command = [fluidsynth_path, '-a', 'dsound', '-o', 'audio.driver=dsound', '-i', '-l', '-s', '-g', '1.0', soundfont_file, midi_file, '-F', output_wav]\n",
    "\n",
    "try:\n",
    "    subprocess.run(command, check=True, shell=True)\n",
    "    print(f'OK ==> {output_wav}')\n",
    "except subprocess.CalledProcessError as e:\n",
    "    print(f'ERROR : {e}')\n",
    "\n"
   ]
  }
 ],
 "metadata": {
  "language_info": {
   "name": "python"
  }
 },
 "nbformat": 4,
 "nbformat_minor": 2
}
